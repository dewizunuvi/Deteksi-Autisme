{
  "cells": [
    {
      "cell_type": "markdown",
      "metadata": {
        "id": "view-in-github",
        "colab_type": "text"
      },
      "source": [
        "<a href=\"https://colab.research.google.com/github/dewizunuvi/Deteksi-Autisme/blob/main/VGG16_EPI_270dense_1e-4lr.ipynb\" target=\"_parent\"><img src=\"https://colab.research.google.com/assets/colab-badge.svg\" alt=\"Open In Colab\"/></a>"
      ]
    },
    {
      "cell_type": "code",
      "execution_count": 1,
      "metadata": {
        "id": "loq7XdDWKI6C"
      },
      "outputs": [],
      "source": [
        "import os\n",
        "import keras\n",
        "import imageio\n",
        "import numpy as np\n",
        "from keras import applications\n",
        "from google.colab import drive\n",
        "from keras.layers import Flatten\n",
        "from sklearn.model_selection import train_test_split\n",
        "from keras.models import Sequential, Model \n",
        "from keras.losses import categorical_crossentropy\n",
        "from keras.layers import Dense, Conv2D, Dropout, Flatten, MaxPooling2D"
      ]
    },
    {
      "cell_type": "code",
      "execution_count": 2,
      "metadata": {
        "id": "zEzllYl-0uNx"
      },
      "outputs": [],
      "source": [
        "from tensorflow.keras.applications.resnet50 import preprocess_input\n",
        "from PIL import Image"
      ]
    },
    {
      "cell_type": "code",
      "execution_count": 3,
      "metadata": {
        "id": "iqnvxKN3djCr"
      },
      "outputs": [],
      "source": [
        "import matplotlib.pyplot as plt\n",
        "from sklearn.model_selection import KFold"
      ]
    },
    {
      "cell_type": "markdown",
      "metadata": {
        "id": "q8usbRtVCsMF"
      },
      "source": [
        "#   **Load Data**\n",
        "\n",
        "\n"
      ]
    },
    {
      "cell_type": "code",
      "execution_count": 4,
      "metadata": {
        "colab": {
          "base_uri": "https://localhost:8080/"
        },
        "id": "BXC5aclBKN2p",
        "outputId": "7c5b3f0d-67fe-469a-8795-48b42d472e9f"
      },
      "outputs": [
        {
          "output_type": "stream",
          "name": "stdout",
          "text": [
            "Mounted at /content/drive\n"
          ]
        }
      ],
      "source": [
        "# Mount Google Drive\n",
        "drive.mount('/content/drive')"
      ]
    },
    {
      "cell_type": "code",
      "execution_count": 5,
      "metadata": {
        "colab": {
          "base_uri": "https://localhost:8080/"
        },
        "id": "-s07JOQ_J4vH",
        "outputId": "aa7a3c1c-515c-41f8-ce91-644e63061321"
      },
      "outputs": [
        {
          "output_type": "stream",
          "name": "stderr",
          "text": [
            "<ipython-input-5-f9551754876e>:14: DeprecationWarning: Starting with ImageIO v3 the behavior of this function will switch to that of iio.v3.imread. To keep the current behavior (and make this warning disappear) use `import imageio.v2 as imageio` or call `imageio.v2.imread` directly.\n",
            "  images1 = [imageio.imread(f) for f in files1]\n",
            "<ipython-input-5-f9551754876e>:15: DeprecationWarning: Starting with ImageIO v3 the behavior of this function will switch to that of iio.v3.imread. To keep the current behavior (and make this warning disappear) use `import imageio.v2 as imageio` or call `imageio.v2.imread` directly.\n",
            "  images2 = [imageio.imread(f) for f in files2]\n"
          ]
        }
      ],
      "source": [
        "import imageio\n",
        "\n",
        "# Set path to folder containing GIF files\n",
        "folder_path_autism = \"/content/drive/MyDrive/DataAutisEPI/AUTISM\"\n",
        "folder_path_control = \"/content/drive/MyDrive/DataAutisEPI/TC\"\n",
        "\n",
        "# List GIF files from folder 1\n",
        "files1 = [os.path.join(folder_path_autism, f) for f in os.listdir(folder_path_autism) if f.endswith('.gif')]\n",
        "\n",
        "# List GIF files from folder 2\n",
        "files2 = [os.path.join(folder_path_control, f) for f in os.listdir(folder_path_control) if f.endswith('.gif')]\n",
        "\n",
        "# Load images from the two folders\n",
        "images1 = [imageio.imread(f) for f in files1]\n",
        "images2 = [imageio.imread(f) for f in files2]\n",
        "\n",
        "# Convert images to PIL Image objects\n",
        "images1 = [Image.fromarray(image) for image in images1]\n",
        "images2 = [Image.fromarray(image) for image in images2]\n"
      ]
    },
    {
      "cell_type": "code",
      "execution_count": 6,
      "metadata": {
        "id": "6hEsGA3y40ZA"
      },
      "outputs": [],
      "source": [
        "# Combine the two sets of images\n",
        "dataf = images1 + images2\n",
        "\n",
        "# Generate labels for the images\n",
        "labels = [1] * len(images1) + [0] * len(images2)"
      ]
    },
    {
      "cell_type": "code",
      "execution_count": 7,
      "metadata": {
        "id": "tbseH7S4XFLf"
      },
      "outputs": [],
      "source": [
        "# Convert GIF images to JPG format with resize\n",
        "jpg_images = []\n",
        "for image in dataf:\n",
        "    # Resize the image to the desired size\n",
        "    resized_image = image.resize((64, 64))\n",
        "\n",
        "    # Generate unique output file name for each image\n",
        "    output_file = f\"output_{len(jpg_images)}.jpg\"\n",
        "\n",
        "    # Save the image in JPG format\n",
        "    resized_image.save(output_file, \"JPEG\")\n",
        "\n",
        "    # Append the output file name to the list of JPG images\n",
        "    jpg_images.append(output_file)"
      ]
    },
    {
      "cell_type": "code",
      "execution_count": 8,
      "metadata": {
        "colab": {
          "base_uri": "https://localhost:8080/"
        },
        "id": "HPxX2e2eboxf",
        "outputId": "b2d3f2f8-c29d-4cb7-afc5-624048346d6f"
      },
      "outputs": [
        {
          "output_type": "stream",
          "name": "stdout",
          "text": [
            "Semua elemen memiliki ukuran yang sama\n"
          ]
        }
      ],
      "source": [
        "array_list = []\n",
        "\n",
        "# Menyimpan gambar-gambar ke dalam array_list\n",
        "for images in jpg_images:\n",
        "    image = Image.open(images)\n",
        "    image = image.convert(\"RGB\")  # Jika gambar bukan dalam format RGB\n",
        "    image_array = np.array(image)\n",
        "    array_list.append(image_array)\n",
        "\n",
        "# Memeriksa ukuran yang sama dalam array_list\n",
        "ref_shape = array_list[0].shape\n",
        "for array in array_list:\n",
        "    if array.shape != ref_shape:\n",
        "        print(\"Ukuran tidak sesuai\")\n",
        "        break\n",
        "else:\n",
        "    print(\"Semua elemen memiliki ukuran yang sama\")"
      ]
    },
    {
      "cell_type": "markdown",
      "metadata": {
        "id": "oAUnsYZeSpqC"
      },
      "source": [
        "#Turn to RGB"
      ]
    },
    {
      "cell_type": "code",
      "execution_count": 9,
      "metadata": {
        "colab": {
          "base_uri": "https://localhost:8080/",
          "height": 406
        },
        "id": "wZqvIBo_Jn-R",
        "outputId": "bb9fa99f-5d9f-42ff-b779-b60f05cf18c9"
      },
      "outputs": [
        {
          "output_type": "display_data",
          "data": {
            "text/plain": [
              "<Figure size 640x480 with 1 Axes>"
            ],
            "image/png": "[encoded data removed]"
          },
          "metadata": {}
        }
      ],
      "source": [
        "# Load the JPG image\n",
        "image_path = jpg_images[0]\n",
        "image = Image.open(image_path)\n",
        "\n",
        "# Display the image\n",
        "plt.imshow(image)\n",
        "plt.axis('off')\n",
        "plt.show()"
      ]
    },
    {
      "cell_type": "code",
      "execution_count": 10,
      "metadata": {
        "id": "Motk3VtBZjJY"
      },
      "outputs": [],
      "source": [
        "data_array = np.array(array_list)"
      ]
    },
    {
      "cell_type": "markdown",
      "metadata": {
        "id": "Heg_20cXdX1K"
      },
      "source": [
        "####Training"
      ]
    },
    {
      "cell_type": "code",
      "execution_count": 11,
      "metadata": {
        "id": "RyLiX1QySw_T"
      },
      "outputs": [],
      "source": [
        "x_train, x_test, y_train, y_test = train_test_split(data_array, labels, test_size=0.3)\n",
        "y_train=np.array(y_train)\n",
        "\n",
        "x_train = x_train.astype('float32')\n",
        "y_train = keras.utils.to_categorical(y_train)\n",
        "y_old_test=y_test\n",
        "y_test = keras.utils.to_categorical(y_test)"
      ]
    },
    {
      "cell_type": "code",
      "execution_count": 12,
      "metadata": {
        "colab": {
          "base_uri": "https://localhost:8080/"
        },
        "id": "pHVPVEH68Dw4",
        "outputId": "a640fa98-3c97-4758-e3fe-412f1b387e51"
      },
      "outputs": [
        {
          "output_type": "execute_result",
          "data": {
            "text/plain": [
              "(747, 64, 64, 3)"
            ]
          },
          "metadata": {},
          "execution_count": 12
        }
      ],
      "source": [
        "x_train.shape"
      ]
    },
    {
      "cell_type": "markdown",
      "metadata": {
        "id": "cCoS0zNBcFRC"
      },
      "source": [
        "#Modelling ResNet50\n"
      ]
    },
    {
      "cell_type": "code",
      "execution_count": 13,
      "metadata": {
        "colab": {
          "base_uri": "https://localhost:8080/"
        },
        "id": "Ze5QuRtccJ3K",
        "outputId": "36d0d021-2651-4d26-d9fe-d0c8ffed2632"
      },
      "outputs": [
        {
          "output_type": "stream",
          "name": "stdout",
          "text": [
            "Downloading data from https://storage.googleapis.com/tensorflow/keras-applications/vgg19/vgg19_weights_tf_dim_ordering_tf_kernels_notop.h5\n",
            "80134624/80134624 [==============================] - 4s 0us/step\n"
          ]
        }
      ],
      "source": [
        "from keras.applications.vgg19 import VGG19\n",
        "\n",
        "model = applications.VGG19(weights=\"imagenet\", include_top=False, input_shape=(64, 64, 3))\n",
        "\n",
        "for layer in model.layers:\n",
        "    layer.trainable = True\n",
        "\n",
        "# Adding custom Layers\n",
        "x = model.output\n",
        "x = Flatten()(x)\n",
        "x = Dense(270, activation=\"relu\")(x)\n",
        "predictions = Dense(2, activation=\"softmax\")(x)\n",
        "model = Model(inputs=model.input, outputs=predictions)"
      ]
    },
    {
      "cell_type": "markdown",
      "metadata": {
        "id": "h4iZ2fH-dYH_"
      },
      "source": [
        "#Train"
      ]
    },
    {
      "cell_type": "code",
      "execution_count": 14,
      "metadata": {
        "id": "nQUTnVuNdZ1m"
      },
      "outputs": [],
      "source": [
        "# Split data into K=5 folds\n",
        "kfold = KFold(n_splits=3, shuffle=True, random_state=42)"
      ]
    },
    {
      "cell_type": "code",
      "execution_count": 15,
      "metadata": {
        "colab": {
          "base_uri": "https://localhost:8080/"
        },
        "id": "pXYbbzkadc6e",
        "outputId": "12f1c3c0-d31c-41df-c9b9-c051e1fb673a"
      },
      "outputs": [
        {
          "output_type": "stream",
          "name": "stdout",
          "text": [
            "Fold 1 Training ------------\n",
            "Epoch 1/35\n",
            "5/5 [==============================] - 19s 1s/step - loss: 2.6761 - accuracy: 0.4538 - val_loss: 1.2811 - val_accuracy: 0.4538\n",
            "Epoch 2/35\n",
            "5/5 [==============================] - 1s 166ms/step - loss: 0.7779 - accuracy: 0.5482 - val_loss: 0.7984 - val_accuracy: 0.4458\n",
            "Epoch 3/35\n",
            "5/5 [==============================] - 1s 165ms/step - loss: 0.7229 - accuracy: 0.5201 - val_loss: 0.7618 - val_accuracy: 0.4538\n",
            "Epoch 4/35\n",
            "5/5 [==============================] - 1s 166ms/step - loss: 0.6754 - accuracy: 0.5502 - val_loss: 0.6999 - val_accuracy: 0.5020\n",
            "Epoch 5/35\n",
            "5/5 [==============================] - 1s 166ms/step - loss: 0.6584 - accuracy: 0.6044 - val_loss: 0.7375 - val_accuracy: 0.4819\n",
            "Epoch 6/35\n",
            "5/5 [==============================] - 1s 164ms/step - loss: 0.6513 - accuracy: 0.6004 - val_loss: 0.7121 - val_accuracy: 0.4980\n",
            "Epoch 7/35\n",
            "5/5 [==============================] - 1s 167ms/step - loss: 0.6672 - accuracy: 0.5723 - val_loss: 0.6893 - val_accuracy: 0.5944\n",
            "Epoch 8/35\n",
            "5/5 [==============================] - 1s 172ms/step - loss: 0.6639 - accuracy: 0.5964 - val_loss: 0.7740 - val_accuracy: 0.4940\n",
            "Epoch 9/35\n",
            "5/5 [==============================] - 1s 173ms/step - loss: 0.6458 - accuracy: 0.6104 - val_loss: 0.7076 - val_accuracy: 0.5020\n",
            "Epoch 10/35\n",
            "5/5 [==============================] - 1s 167ms/step - loss: 0.6314 - accuracy: 0.6466 - val_loss: 0.6984 - val_accuracy: 0.5703\n",
            "Epoch 11/35\n",
            "5/5 [==============================] - 1s 172ms/step - loss: 0.6626 - accuracy: 0.5904 - val_loss: 0.6790 - val_accuracy: 0.5663\n",
            "Epoch 12/35\n",
            "5/5 [==============================] - 1s 166ms/step - loss: 0.6257 - accuracy: 0.6406 - val_loss: 0.7060 - val_accuracy: 0.4980\n",
            "Epoch 13/35\n",
            "5/5 [==============================] - 1s 166ms/step - loss: 0.6162 - accuracy: 0.6406 - val_loss: 0.7054 - val_accuracy: 0.5341\n",
            "Epoch 14/35\n",
            "5/5 [==============================] - 1s 176ms/step - loss: 0.6157 - accuracy: 0.6426 - val_loss: 0.7442 - val_accuracy: 0.5261\n",
            "Epoch 15/35\n",
            "5/5 [==============================] - 1s 172ms/step - loss: 0.6159 - accuracy: 0.6546 - val_loss: 0.6780 - val_accuracy: 0.5542\n",
            "Epoch 16/35\n",
            "5/5 [==============================] - 1s 180ms/step - loss: 0.6095 - accuracy: 0.6667 - val_loss: 0.6830 - val_accuracy: 0.5663\n",
            "Epoch 17/35\n",
            "5/5 [==============================] - 1s 177ms/step - loss: 0.5954 - accuracy: 0.6687 - val_loss: 0.8027 - val_accuracy: 0.5141\n",
            "Epoch 18/35\n",
            "5/5 [==============================] - 1s 176ms/step - loss: 0.6287 - accuracy: 0.6285 - val_loss: 0.6734 - val_accuracy: 0.6104\n",
            "Epoch 19/35\n",
            "5/5 [==============================] - 1s 169ms/step - loss: 0.6815 - accuracy: 0.5522 - val_loss: 0.7512 - val_accuracy: 0.4538\n",
            "Epoch 20/35\n",
            "5/5 [==============================] - 1s 167ms/step - loss: 0.6619 - accuracy: 0.5783 - val_loss: 0.6787 - val_accuracy: 0.5622\n",
            "Epoch 21/35\n",
            "5/5 [==============================] - 1s 174ms/step - loss: 0.6651 - accuracy: 0.6024 - val_loss: 0.7414 - val_accuracy: 0.5181\n",
            "Epoch 22/35\n",
            "5/5 [==============================] - 1s 176ms/step - loss: 0.6390 - accuracy: 0.6446 - val_loss: 0.7191 - val_accuracy: 0.5261\n",
            "Epoch 23/35\n",
            "5/5 [==============================] - 1s 168ms/step - loss: 0.6040 - accuracy: 0.6727 - val_loss: 0.6875 - val_accuracy: 0.5904\n",
            "Epoch 24/35\n",
            "5/5 [==============================] - 1s 174ms/step - loss: 0.5956 - accuracy: 0.6546 - val_loss: 0.6840 - val_accuracy: 0.5783\n",
            "Epoch 25/35\n",
            "5/5 [==============================] - 1s 175ms/step - loss: 0.5973 - accuracy: 0.6566 - val_loss: 0.6604 - val_accuracy: 0.6104\n",
            "Epoch 26/35\n",
            "5/5 [==============================] - 1s 167ms/step - loss: 0.5784 - accuracy: 0.6827 - val_loss: 0.6869 - val_accuracy: 0.5863\n",
            "Epoch 27/35\n",
            "5/5 [==============================] - 1s 167ms/step - loss: 0.5618 - accuracy: 0.6888 - val_loss: 0.8083 - val_accuracy: 0.5261\n",
            "Epoch 28/35\n",
            "5/5 [==============================] - 1s 169ms/step - loss: 0.7600 - accuracy: 0.5542 - val_loss: 0.6631 - val_accuracy: 0.6024\n",
            "Epoch 29/35\n",
            "5/5 [==============================] - 1s 169ms/step - loss: 0.6539 - accuracy: 0.5442 - val_loss: 0.7359 - val_accuracy: 0.4659\n",
            "Epoch 30/35\n",
            "5/5 [==============================] - 1s 172ms/step - loss: 0.6347 - accuracy: 0.6305 - val_loss: 0.6860 - val_accuracy: 0.5663\n",
            "Epoch 31/35\n",
            "5/5 [==============================] - 1s 179ms/step - loss: 0.6041 - accuracy: 0.6747 - val_loss: 0.6820 - val_accuracy: 0.5904\n",
            "Epoch 32/35\n",
            "5/5 [==============================] - 1s 179ms/step - loss: 0.5884 - accuracy: 0.6968 - val_loss: 0.7606 - val_accuracy: 0.5663\n",
            "Epoch 33/35\n",
            "5/5 [==============================] - 1s 182ms/step - loss: 0.6039 - accuracy: 0.6506 - val_loss: 1.1789 - val_accuracy: 0.4699\n",
            "Epoch 34/35\n",
            "5/5 [==============================] - 1s 172ms/step - loss: 0.7649 - accuracy: 0.5201 - val_loss: 0.6934 - val_accuracy: 0.5582\n",
            "Epoch 35/35\n",
            "5/5 [==============================] - 1s 176ms/step - loss: 0.6768 - accuracy: 0.5522 - val_loss: 0.7369 - val_accuracy: 0.4538\n",
            "Fold 1 Validation Accuracy: 0.5312\n",
            "Fold 2 Training ------------\n",
            "Epoch 1/35\n",
            "5/5 [==============================] - 1s 193ms/step - loss: 0.6785 - accuracy: 0.5522 - val_loss: 0.6553 - val_accuracy: 0.5984\n",
            "Epoch 2/35\n",
            "5/5 [==============================] - 1s 179ms/step - loss: 0.6666 - accuracy: 0.5763 - val_loss: 0.5899 - val_accuracy: 0.7068\n",
            "Epoch 3/35\n",
            "5/5 [==============================] - 1s 177ms/step - loss: 0.6452 - accuracy: 0.5944 - val_loss: 0.6056 - val_accuracy: 0.6787\n",
            "Epoch 4/35\n",
            "5/5 [==============================] - 1s 170ms/step - loss: 0.6324 - accuracy: 0.6566 - val_loss: 0.5751 - val_accuracy: 0.6827\n",
            "Epoch 5/35\n",
            "5/5 [==============================] - 1s 173ms/step - loss: 0.6241 - accuracy: 0.6305 - val_loss: 0.6544 - val_accuracy: 0.5863\n",
            "Epoch 6/35\n",
            "5/5 [==============================] - 1s 177ms/step - loss: 0.6482 - accuracy: 0.6205 - val_loss: 0.5909 - val_accuracy: 0.6827\n",
            "Epoch 7/35\n",
            "5/5 [==============================] - 1s 172ms/step - loss: 0.6202 - accuracy: 0.6807 - val_loss: 0.6019 - val_accuracy: 0.6586\n",
            "Epoch 8/35\n",
            "5/5 [==============================] - 1s 177ms/step - loss: 0.6274 - accuracy: 0.6727 - val_loss: 0.5545 - val_accuracy: 0.7269\n",
            "Epoch 9/35\n",
            "5/5 [==============================] - 1s 171ms/step - loss: 0.5911 - accuracy: 0.6988 - val_loss: 0.5493 - val_accuracy: 0.7189\n",
            "Epoch 10/35\n",
            "5/5 [==============================] - 1s 172ms/step - loss: 0.5770 - accuracy: 0.6968 - val_loss: 0.5332 - val_accuracy: 0.7189\n",
            "Epoch 11/35\n",
            "5/5 [==============================] - 1s 181ms/step - loss: 0.5791 - accuracy: 0.7008 - val_loss: 0.5686 - val_accuracy: 0.6707\n",
            "Epoch 12/35\n",
            "5/5 [==============================] - 1s 183ms/step - loss: 0.5735 - accuracy: 0.7068 - val_loss: 0.6538 - val_accuracy: 0.6145\n",
            "Epoch 13/35\n",
            "5/5 [==============================] - 1s 177ms/step - loss: 0.6174 - accuracy: 0.6365 - val_loss: 0.9568 - val_accuracy: 0.6506\n",
            "Epoch 14/35\n",
            "5/5 [==============================] - 1s 178ms/step - loss: 0.7357 - accuracy: 0.5442 - val_loss: 0.7031 - val_accuracy: 0.4779\n",
            "Epoch 15/35\n",
            "5/5 [==============================] - 1s 173ms/step - loss: 0.6919 - accuracy: 0.5161 - val_loss: 0.7158 - val_accuracy: 0.4779\n",
            "Epoch 16/35\n",
            "5/5 [==============================] - 1s 173ms/step - loss: 0.6857 - accuracy: 0.5422 - val_loss: 0.6759 - val_accuracy: 0.5783\n",
            "Epoch 17/35\n",
            "5/5 [==============================] - 1s 179ms/step - loss: 0.6798 - accuracy: 0.5502 - val_loss: 0.6905 - val_accuracy: 0.5823\n",
            "Epoch 18/35\n",
            "5/5 [==============================] - 1s 179ms/step - loss: 0.6671 - accuracy: 0.5622 - val_loss: 0.6716 - val_accuracy: 0.5904\n",
            "Epoch 19/35\n",
            "5/5 [==============================] - 1s 172ms/step - loss: 0.6684 - accuracy: 0.6064 - val_loss: 0.7447 - val_accuracy: 0.4819\n",
            "Epoch 20/35\n",
            "5/5 [==============================] - 1s 180ms/step - loss: 0.7017 - accuracy: 0.5120 - val_loss: 0.6704 - val_accuracy: 0.6265\n",
            "Epoch 21/35\n",
            "5/5 [==============================] - 1s 179ms/step - loss: 0.6727 - accuracy: 0.5843 - val_loss: 0.6446 - val_accuracy: 0.6426\n",
            "Epoch 22/35\n",
            "5/5 [==============================] - 1s 172ms/step - loss: 0.6538 - accuracy: 0.5884 - val_loss: 0.6775 - val_accuracy: 0.5663\n",
            "Epoch 23/35\n",
            "5/5 [==============================] - 1s 175ms/step - loss: 0.6818 - accuracy: 0.6044 - val_loss: 0.7177 - val_accuracy: 0.4900\n",
            "Epoch 24/35\n",
            "5/5 [==============================] - 1s 174ms/step - loss: 0.6751 - accuracy: 0.5743 - val_loss: 0.6685 - val_accuracy: 0.5301\n",
            "Epoch 25/35\n",
            "5/5 [==============================] - 1s 173ms/step - loss: 0.6651 - accuracy: 0.5763 - val_loss: 0.6930 - val_accuracy: 0.5502\n",
            "Epoch 26/35\n",
            "5/5 [==============================] - 1s 178ms/step - loss: 0.6639 - accuracy: 0.6084 - val_loss: 0.6439 - val_accuracy: 0.6506\n",
            "Epoch 27/35\n",
            "5/5 [==============================] - 1s 184ms/step - loss: 0.6552 - accuracy: 0.6225 - val_loss: 0.6416 - val_accuracy: 0.6064\n",
            "Epoch 28/35\n",
            "5/5 [==============================] - 1s 183ms/step - loss: 0.6374 - accuracy: 0.6325 - val_loss: 0.6242 - val_accuracy: 0.6345\n",
            "Epoch 29/35\n",
            "5/5 [==============================] - 1s 188ms/step - loss: 0.6266 - accuracy: 0.6546 - val_loss: 0.7336 - val_accuracy: 0.5261\n",
            "Epoch 30/35\n",
            "5/5 [==============================] - 1s 177ms/step - loss: 0.7069 - accuracy: 0.5582 - val_loss: 0.6351 - val_accuracy: 0.6305\n",
            "Epoch 31/35\n",
            "5/5 [==============================] - 1s 177ms/step - loss: 0.6687 - accuracy: 0.5723 - val_loss: 0.6794 - val_accuracy: 0.5542\n",
            "Epoch 32/35\n",
            "5/5 [==============================] - 1s 183ms/step - loss: 0.6642 - accuracy: 0.6104 - val_loss: 0.6454 - val_accuracy: 0.6426\n",
            "Epoch 33/35\n",
            "5/5 [==============================] - 1s 177ms/step - loss: 0.6419 - accuracy: 0.6647 - val_loss: 0.6345 - val_accuracy: 0.6225\n",
            "Epoch 34/35\n",
            "5/5 [==============================] - 1s 182ms/step - loss: 0.6249 - accuracy: 0.6526 - val_loss: 0.6198 - val_accuracy: 0.6466\n",
            "Epoch 35/35\n",
            "5/5 [==============================] - 1s 175ms/step - loss: 0.6097 - accuracy: 0.6687 - val_loss: 0.6182 - val_accuracy: 0.6546\n",
            "Fold 2 Validation Accuracy: 0.6131\n",
            "Fold 3 Training ------------\n",
            "Epoch 1/35\n",
            "5/5 [==============================] - 1s 187ms/step - loss: 0.6308 - accuracy: 0.6305 - val_loss: 0.6121 - val_accuracy: 0.6466\n",
            "Epoch 2/35\n",
            "5/5 [==============================] - 1s 184ms/step - loss: 0.6177 - accuracy: 0.6225 - val_loss: 0.6231 - val_accuracy: 0.6506\n",
            "Epoch 3/35\n",
            "5/5 [==============================] - 1s 176ms/step - loss: 0.6123 - accuracy: 0.6486 - val_loss: 0.5880 - val_accuracy: 0.6908\n",
            "Epoch 4/35\n",
            "5/5 [==============================] - 1s 182ms/step - loss: 0.6344 - accuracy: 0.6185 - val_loss: 0.6079 - val_accuracy: 0.6988\n",
            "Epoch 5/35\n",
            "5/5 [==============================] - 1s 183ms/step - loss: 0.6382 - accuracy: 0.6386 - val_loss: 0.6716 - val_accuracy: 0.6024\n",
            "Epoch 6/35\n",
            "5/5 [==============================] - 1s 176ms/step - loss: 0.6544 - accuracy: 0.6064 - val_loss: 0.6468 - val_accuracy: 0.6225\n",
            "Epoch 7/35\n",
            "5/5 [==============================] - 1s 184ms/step - loss: 0.6108 - accuracy: 0.6707 - val_loss: 0.6044 - val_accuracy: 0.6586\n",
            "Epoch 8/35\n",
            "5/5 [==============================] - 1s 183ms/step - loss: 0.6108 - accuracy: 0.6526 - val_loss: 0.5922 - val_accuracy: 0.6707\n",
            "Epoch 9/35\n",
            "5/5 [==============================] - 1s 188ms/step - loss: 0.5879 - accuracy: 0.6687 - val_loss: 0.6017 - val_accuracy: 0.6627\n",
            "Epoch 10/35\n",
            "5/5 [==============================] - 1s 188ms/step - loss: 0.5721 - accuracy: 0.6767 - val_loss: 0.6050 - val_accuracy: 0.6627\n",
            "Epoch 11/35\n",
            "5/5 [==============================] - 1s 179ms/step - loss: 0.5617 - accuracy: 0.7028 - val_loss: 0.6010 - val_accuracy: 0.6466\n",
            "Epoch 12/35\n",
            "5/5 [==============================] - 1s 184ms/step - loss: 0.5731 - accuracy: 0.6888 - val_loss: 0.6386 - val_accuracy: 0.6024\n",
            "Epoch 13/35\n",
            "5/5 [==============================] - 1s 178ms/step - loss: 0.6260 - accuracy: 0.6606 - val_loss: 0.6069 - val_accuracy: 0.6586\n",
            "Epoch 14/35\n",
            "5/5 [==============================] - 1s 184ms/step - loss: 0.5931 - accuracy: 0.6667 - val_loss: 0.6492 - val_accuracy: 0.6145\n",
            "Epoch 15/35\n",
            "5/5 [==============================] - 1s 177ms/step - loss: 0.5915 - accuracy: 0.6867 - val_loss: 0.6042 - val_accuracy: 0.6627\n",
            "Epoch 16/35\n",
            "5/5 [==============================] - 1s 185ms/step - loss: 0.5593 - accuracy: 0.7068 - val_loss: 0.6051 - val_accuracy: 0.6386\n",
            "Epoch 17/35\n",
            "5/5 [==============================] - 1s 181ms/step - loss: 0.5301 - accuracy: 0.7149 - val_loss: 0.6169 - val_accuracy: 0.6466\n",
            "Epoch 18/35\n",
            "5/5 [==============================] - 1s 185ms/step - loss: 0.5234 - accuracy: 0.7329 - val_loss: 0.6372 - val_accuracy: 0.6546\n",
            "Epoch 19/35\n",
            "5/5 [==============================] - 1s 179ms/step - loss: 0.4900 - accuracy: 0.7550 - val_loss: 0.6114 - val_accuracy: 0.6586\n",
            "Epoch 20/35\n",
            "5/5 [==============================] - 1s 182ms/step - loss: 0.4867 - accuracy: 0.7610 - val_loss: 0.6381 - val_accuracy: 0.6627\n",
            "Epoch 21/35\n",
            "5/5 [==============================] - 1s 181ms/step - loss: 0.4800 - accuracy: 0.7731 - val_loss: 0.6657 - val_accuracy: 0.6546\n",
            "Epoch 22/35\n",
            "5/5 [==============================] - 1s 191ms/step - loss: 0.4481 - accuracy: 0.7651 - val_loss: 0.6570 - val_accuracy: 0.6707\n",
            "Epoch 23/35\n",
            "5/5 [==============================] - 1s 189ms/step - loss: 0.4442 - accuracy: 0.7791 - val_loss: 0.6878 - val_accuracy: 0.6386\n",
            "Epoch 24/35\n",
            "5/5 [==============================] - 1s 186ms/step - loss: 0.4885 - accuracy: 0.7530 - val_loss: 0.6851 - val_accuracy: 0.6908\n",
            "Epoch 25/35\n",
            "5/5 [==============================] - 1s 183ms/step - loss: 0.5209 - accuracy: 0.7390 - val_loss: 0.7384 - val_accuracy: 0.6426\n",
            "Epoch 26/35\n",
            "5/5 [==============================] - 1s 181ms/step - loss: 0.5790 - accuracy: 0.6928 - val_loss: 0.7500 - val_accuracy: 0.6104\n",
            "Epoch 27/35\n",
            "5/5 [==============================] - 1s 187ms/step - loss: 0.6397 - accuracy: 0.6245 - val_loss: 0.6530 - val_accuracy: 0.6185\n",
            "Epoch 28/35\n",
            "5/5 [==============================] - 1s 182ms/step - loss: 0.6007 - accuracy: 0.6406 - val_loss: 0.6197 - val_accuracy: 0.6225\n",
            "Epoch 29/35\n",
            "5/5 [==============================] - 1s 182ms/step - loss: 0.5537 - accuracy: 0.7129 - val_loss: 0.6190 - val_accuracy: 0.6506\n",
            "Epoch 30/35\n",
            "5/5 [==============================] - 1s 183ms/step - loss: 0.5241 - accuracy: 0.7289 - val_loss: 0.6240 - val_accuracy: 0.6466\n",
            "Epoch 31/35\n",
            "5/5 [==============================] - 1s 182ms/step - loss: 0.4878 - accuracy: 0.7510 - val_loss: 0.6656 - val_accuracy: 0.6265\n",
            "Epoch 32/35\n",
            "5/5 [==============================] - 1s 184ms/step - loss: 0.4834 - accuracy: 0.7490 - val_loss: 0.6472 - val_accuracy: 0.6506\n",
            "Epoch 33/35\n",
            "5/5 [==============================] - 1s 183ms/step - loss: 0.4579 - accuracy: 0.7771 - val_loss: 0.6431 - val_accuracy: 0.6386\n",
            "Epoch 34/35\n",
            "5/5 [==============================] - 1s 185ms/step - loss: 0.5071 - accuracy: 0.7410 - val_loss: 0.6889 - val_accuracy: 0.5944\n",
            "Epoch 35/35\n",
            "5/5 [==============================] - 1s 185ms/step - loss: 0.4544 - accuracy: 0.7791 - val_loss: 0.6426 - val_accuracy: 0.6225\n",
            "Fold 3 Validation Accuracy: 0.6454\n"
          ]
        }
      ],
      "source": [
        "# Compile the model\n",
        "model.compile(optimizer=keras.optimizers.Adam(learning_rate=1e-4),\n",
        "              loss='categorical_crossentropy',\n",
        "              metrics=['accuracy'])\n",
        "\n",
        "# Train the model with K-fold cross validation\n",
        "for fold, (train_idx, val_idx) in enumerate(kfold.split(x_train, y_train)):\n",
        "    print(f'Fold {fold+1} Training ------------')\n",
        "    x_train_fold = x_train[train_idx]\n",
        "    y_train_fold = y_train[train_idx]\n",
        "    x_val_fold = x_train[val_idx]\n",
        "    y_val_fold = y_train[val_idx]\n",
        "\n",
        "    history = model.fit(x_train_fold, y_train_fold, batch_size=100, epochs=35, validation_data=(x_val_fold, y_val_fold))\n",
        "\n",
        "    print(f\"Fold {fold+1} Validation Accuracy: {np.mean(history.history['val_accuracy']):.4f}\")"
      ]
    },
    {
      "cell_type": "code",
      "source": [
        "model.save(\"VGG16_EPI.h5\")"
      ],
      "metadata": {
        "id": "GRWq9OfnAoZU"
      },
      "execution_count": 18,
      "outputs": []
    },
    {
      "cell_type": "code",
      "execution_count": 16,
      "metadata": {
        "colab": {
          "base_uri": "https://localhost:8080/",
          "height": 472
        },
        "id": "WWSZwxkrmxVz",
        "outputId": "85d01c78-4155-4179-929b-53766cbbf2fc"
      },
      "outputs": [
        {
          "output_type": "display_data",
          "data": {
            "text/plain": [
              "<Figure size 640x480 with 1 Axes>"
            ],
            "image/png": "[encoded data removed]"
          },
          "metadata": {}
        }
      ],
      "source": [
        "# Plot the training and validation accuracy for each epoch\n",
        "plt.plot(history.history['accuracy'])\n",
        "plt.plot(history.history['val_accuracy'])\n",
        "plt.title(f'Fold {fold+1} Model Accuracy')\n",
        "plt.ylabel('Accuracy')\n",
        "plt.xlabel('Epoch')\n",
        "plt.legend(['train', 'val'], loc='upper left')\n",
        "plt.show()"
      ]
    },
    {
      "cell_type": "code",
      "execution_count": 17,
      "metadata": {
        "colab": {
          "base_uri": "https://localhost:8080/"
        },
        "id": "vEjX_DgYGRS5",
        "outputId": "f8753bfa-fab7-4f34-b0f3-846b06c61009"
      },
      "outputs": [
        {
          "output_type": "stream",
          "name": "stdout",
          "text": [
            "11/11 [==============================] - 1s 44ms/step - loss: 0.6309 - accuracy: 0.6480\n",
            "Test Loss: 0.6309\n",
            "Test Accuracy: 0.6480\n"
          ]
        }
      ],
      "source": [
        "# Evaluate the model on the test set\n",
        "test_loss, test_accuracy = model.evaluate(x_test, y_test)\n",
        "print(f\"Test Loss: {test_loss:.4f}\")\n",
        "print(f\"Test Accuracy: {test_accuracy:.4f}\")"
      ]
    }
  ],
  "metadata": {
    "accelerator": "GPU",
    "colab": {
      "provenance": [],
      "authorship_tag": "ABX9TyNUeFpJ9rKWEHwDHx5oTkmv",
      "include_colab_link": true
    },
    "kernelspec": {
      "display_name": "Python 3",
      "name": "python3"
    },
    "language_info": {
      "name": "python"
    }
  },
  "nbformat": 4,
  "nbformat_minor": 0
}