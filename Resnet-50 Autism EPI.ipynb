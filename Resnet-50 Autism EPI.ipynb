{
  "cells": [
    {
      "cell_type": "markdown",
      "metadata": {
        "id": "view-in-github",
        "colab_type": "text"
      },
      "source": [
        "<a href=\"https://colab.research.google.com/github/dewizunuvi/Deteksi-Autisme/blob/main/Resnet-50%20Autism%20EPI.ipynb\" target=\"_parent\"><img src=\"https://colab.research.google.com/assets/colab-badge.svg\" alt=\"Open In Colab\"/></a>"
      ]
    },
    {
      "cell_type": "code",
      "execution_count": 1,
      "metadata": {
        "id": "loq7XdDWKI6C"
      },
      "outputs": [],
      "source": [
        "import os\n",
        "import keras\n",
        "import imageio\n",
        "import numpy as np\n",
        "from keras import applications\n",
        "from google.colab import drive\n",
        "from keras.layers import Flatten\n",
        "from sklearn.model_selection import train_test_split\n",
        "from keras.models import Sequential, Model \n",
        "from keras.losses import categorical_crossentropy\n",
        "from keras.layers import Dense, Conv2D, Dropout, Flatten, MaxPooling2D"
      ]
    },
    {
      "cell_type": "code",
      "execution_count": 2,
      "metadata": {
        "id": "zEzllYl-0uNx"
      },
      "outputs": [],
      "source": [
        "from tensorflow.keras.applications.resnet50 import preprocess_input\n",
        "from PIL import Image"
      ]
    },
    {
      "cell_type": "code",
      "execution_count": 3,
      "metadata": {
        "id": "iqnvxKN3djCr"
      },
      "outputs": [],
      "source": [
        "import matplotlib.pyplot as plt\n",
        "from sklearn.model_selection import KFold"
      ]
    },
    {
      "cell_type": "markdown",
      "metadata": {
        "id": "q8usbRtVCsMF"
      },
      "source": [
        "#   **Load Data**\n",
        "\n",
        "\n"
      ]
    },
    {
      "cell_type": "code",
      "execution_count": 4,
      "metadata": {
        "colab": {
          "base_uri": "https://localhost:8080/"
        },
        "id": "BXC5aclBKN2p",
        "outputId": "c4840627-fb55-4b68-c223-07c5da8ddf31"
      },
      "outputs": [
        {
          "output_type": "stream",
          "name": "stdout",
          "text": [
            "Mounted at /content/drive\n"
          ]
        }
      ],
      "source": [
        "# Mount Google Drive\n",
        "drive.mount('/content/drive')"
      ]
    },
    {
      "cell_type": "code",
      "execution_count": 5,
      "metadata": {
        "colab": {
          "base_uri": "https://localhost:8080/"
        },
        "id": "-s07JOQ_J4vH",
        "outputId": "38dd0959-4eeb-4059-8232-c5c5ad644cbb"
      },
      "outputs": [
        {
          "output_type": "stream",
          "name": "stdout",
          "text": [
            "Drive already mounted at /content/drive; to attempt to forcibly remount, call drive.mount(\"/content/drive\", force_remount=True).\n"
          ]
        },
        {
          "output_type": "stream",
          "name": "stderr",
          "text": [
            "<ipython-input-5-8d77202333ff>:17: DeprecationWarning: Starting with ImageIO v3 the behavior of this function will switch to that of iio.v3.imread. To keep the current behavior (and make this warning disappear) use `import imageio.v2 as imageio` or call `imageio.v2.imread` directly.\n",
            "  images1 = [imageio.imread(f) for f in files1]\n",
            "<ipython-input-5-8d77202333ff>:18: DeprecationWarning: Starting with ImageIO v3 the behavior of this function will switch to that of iio.v3.imread. To keep the current behavior (and make this warning disappear) use `import imageio.v2 as imageio` or call `imageio.v2.imread` directly.\n",
            "  images2 = [imageio.imread(f) for f in files2]\n"
          ]
        }
      ],
      "source": [
        "import imageio\n",
        "\n",
        "# Mount Google Drive\n",
        "drive.mount('/content/drive')\n",
        "\n",
        "# Set path to folder containing GIF files\n",
        "folder_path_autism = \"/content/drive/MyDrive/DataAutisEPI/AUTISM\"\n",
        "folder_path_control = \"/content/drive/MyDrive/DataAutisEPI/TC\"\n",
        "\n",
        "# List GIF files from folder 1\n",
        "files1 = [os.path.join(folder_path_autism, f) for f in os.listdir(folder_path_autism) if f.endswith('.gif')]\n",
        "\n",
        "# List GIF files from folder 2\n",
        "files2 = [os.path.join(folder_path_control, f) for f in os.listdir(folder_path_control) if f.endswith('.gif')]\n",
        "\n",
        "# Load images from the two folders\n",
        "images1 = [imageio.imread(f) for f in files1]\n",
        "images2 = [imageio.imread(f) for f in files2]\n",
        "\n",
        "# Convert images to PIL Image objects\n",
        "images1 = [Image.fromarray(image) for image in images1]\n",
        "images2 = [Image.fromarray(image) for image in images2]\n"
      ]
    },
    {
      "cell_type": "code",
      "execution_count": 6,
      "metadata": {
        "id": "6hEsGA3y40ZA"
      },
      "outputs": [],
      "source": [
        "# Combine the two sets of images\n",
        "dataf = images1 + images2\n",
        "\n",
        "# Generate labels for the images\n",
        "labels = [1] * len(images1) + [0] * len(images2)"
      ]
    },
    {
      "cell_type": "code",
      "execution_count": 7,
      "metadata": {
        "id": "tbseH7S4XFLf"
      },
      "outputs": [],
      "source": [
        "# Convert GIF images to JPG format with resize\n",
        "jpg_images = []\n",
        "for image in dataf:\n",
        "    # Resize the image to the desired size\n",
        "    resized_image = image.resize((64, 64))\n",
        "\n",
        "    # Generate unique output file name for each image\n",
        "    output_file = f\"output_{len(jpg_images)}.jpg\"\n",
        "\n",
        "    # Save the image in JPG format\n",
        "    resized_image.save(output_file, \"JPEG\")\n",
        "\n",
        "    # Append the output file name to the list of JPG images\n",
        "    jpg_images.append(output_file)"
      ]
    },
    {
      "cell_type": "code",
      "execution_count": 8,
      "metadata": {
        "colab": {
          "base_uri": "https://localhost:8080/"
        },
        "id": "HPxX2e2eboxf",
        "outputId": "e1349233-7c49-426d-f126-31770dace8fd"
      },
      "outputs": [
        {
          "output_type": "stream",
          "name": "stdout",
          "text": [
            "Semua elemen memiliki ukuran yang sama\n"
          ]
        }
      ],
      "source": [
        "array_list = []\n",
        "\n",
        "# Menyimpan gambar-gambar ke dalam array_list\n",
        "for images in jpg_images:\n",
        "    image = Image.open(images)\n",
        "    image = image.convert(\"RGB\")  # Jika gambar bukan dalam format RGB\n",
        "    image_array = np.array(image)\n",
        "    array_list.append(image_array)\n",
        "\n",
        "# Memeriksa ukuran yang sama dalam array_list\n",
        "ref_shape = array_list[0].shape\n",
        "for array in array_list:\n",
        "    if array.shape != ref_shape:\n",
        "        print(\"Ukuran tidak sesuai\")\n",
        "        break\n",
        "else:\n",
        "    print(\"Semua elemen memiliki ukuran yang sama\")"
      ]
    },
    {
      "cell_type": "code",
      "execution_count": 9,
      "metadata": {
        "colab": {
          "base_uri": "https://localhost:8080/",
          "height": 406
        },
        "id": "ZqOz0J6IXoQC",
        "outputId": "94e7afc0-f65d-4a35-bbd6-ad9d106d73f3"
      },
      "outputs": [
        {
          "output_type": "display_data",
          "data": {
            "text/plain": [
              "<Figure size 640x480 with 1 Axes>"
            ],
            "image/png": "[encoded data removed]"
          },
          "metadata": {}
        }
      ],
      "source": [
        "# Load the JPG image\n",
        "image_path = jpg_images[0]\n",
        "image = Image.open(image_path)\n",
        "\n",
        "# Display the image\n",
        "plt.imshow(image)\n",
        "plt.axis('off')\n",
        "plt.show()"
      ]
    },
    {
      "cell_type": "markdown",
      "metadata": {
        "id": "oAUnsYZeSpqC"
      },
      "source": [
        "#Turn to RGB"
      ]
    },
    {
      "cell_type": "code",
      "execution_count": 10,
      "metadata": {
        "id": "Motk3VtBZjJY"
      },
      "outputs": [],
      "source": [
        "data_array = np.array(array_list)"
      ]
    },
    {
      "cell_type": "code",
      "execution_count": 11,
      "metadata": {
        "colab": {
          "base_uri": "https://localhost:8080/"
        },
        "id": "6oOUEc1CdHCX",
        "outputId": "0649558d-818e-4a03-fa76-e3b950ba8bfd"
      },
      "outputs": [
        {
          "output_type": "execute_result",
          "data": {
            "text/plain": [
              "(1068, 64, 64, 3)"
            ]
          },
          "metadata": {},
          "execution_count": 11
        }
      ],
      "source": [
        "data_array.shape"
      ]
    },
    {
      "cell_type": "markdown",
      "metadata": {
        "id": "Heg_20cXdX1K"
      },
      "source": [
        "# Urus bawah ini dengan convert label ke np array dlu"
      ]
    },
    {
      "cell_type": "code",
      "execution_count": 12,
      "metadata": {
        "id": "RyLiX1QySw_T"
      },
      "outputs": [],
      "source": [
        "x_train, x_test, y_train, y_test = train_test_split(data_array, labels, test_size=0.2)\n",
        "y_train=np.array(y_train)\n",
        "\n",
        "x_train = x_train.astype('float32')\n",
        "y_train = keras.utils.to_categorical(y_train)\n",
        "y_old_test=y_test\n",
        "y_test = keras.utils.to_categorical(y_test)"
      ]
    },
    {
      "cell_type": "code",
      "execution_count": 13,
      "metadata": {
        "colab": {
          "base_uri": "https://localhost:8080/"
        },
        "id": "pHVPVEH68Dw4",
        "outputId": "df180934-96e8-49dd-f119-3520f1cc9f15"
      },
      "outputs": [
        {
          "output_type": "execute_result",
          "data": {
            "text/plain": [
              "(854, 64, 64, 3)"
            ]
          },
          "metadata": {},
          "execution_count": 13
        }
      ],
      "source": [
        "x_train.shape"
      ]
    },
    {
      "cell_type": "markdown",
      "metadata": {
        "id": "cCoS0zNBcFRC"
      },
      "source": [
        "#Modelling ResNet50\n"
      ]
    },
    {
      "cell_type": "code",
      "execution_count": 14,
      "metadata": {
        "colab": {
          "base_uri": "https://localhost:8080/"
        },
        "id": "Ze5QuRtccJ3K",
        "outputId": "f09d3bbe-81c4-45fc-bc05-20ca70e5b8d5"
      },
      "outputs": [
        {
          "output_type": "stream",
          "name": "stdout",
          "text": [
            "Downloading data from https://storage.googleapis.com/tensorflow/keras-applications/resnet/resnet50_weights_tf_dim_ordering_tf_kernels_notop.h5\n",
            "94765736/94765736 [==============================] - 5s 0us/step\n"
          ]
        }
      ],
      "source": [
        "model = applications.ResNet50(weights = \"imagenet\", include_top=False, input_shape =(64, 64, 3))\n",
        "\n",
        "for layer in model.layers:\n",
        "    layer.trainable = True\n",
        "#Adding custom Layers \n",
        "x = model.output\n",
        "x = Flatten()(x)\n",
        "x = Dense(512, activation=\"relu\")(x)\n",
        "predictions = Dense(2, activation=\"softmax\")(x)\n",
        "model= Model(inputs = model.input, outputs = predictions)"
      ]
    },
    {
      "cell_type": "markdown",
      "metadata": {
        "id": "h4iZ2fH-dYH_"
      },
      "source": [
        "#Train"
      ]
    },
    {
      "cell_type": "code",
      "execution_count": 15,
      "metadata": {
        "id": "nQUTnVuNdZ1m"
      },
      "outputs": [],
      "source": [
        "# Split data into K=5 folds\n",
        "kfold = KFold(n_splits=7, shuffle=True, random_state=42)"
      ]
    },
    {
      "cell_type": "code",
      "execution_count": 16,
      "metadata": {
        "colab": {
          "base_uri": "https://localhost:8080/"
        },
        "id": "pXYbbzkadc6e",
        "outputId": "aae0ffec-0ea3-40b5-9b0c-20a6e2337b8d"
      },
      "outputs": [
        {
          "output_type": "stream",
          "name": "stdout",
          "text": [
            "Fold 1 Training ------------\n",
            "Epoch 1/30\n",
            "8/8 [==============================] - 19s 500ms/step - loss: 1.2746 - accuracy: 0.4850 - val_loss: 1.1017 - val_accuracy: 0.4508\n",
            "Epoch 2/30\n",
            "8/8 [==============================] - 1s 107ms/step - loss: 0.6403 - accuracy: 0.6803 - val_loss: 1.0135 - val_accuracy: 0.4836\n",
            "Epoch 3/30\n",
            "8/8 [==============================] - 1s 105ms/step - loss: 0.3249 - accuracy: 0.8702 - val_loss: 1.1461 - val_accuracy: 0.5328\n",
            "Epoch 4/30\n",
            "8/8 [==============================] - 1s 112ms/step - loss: 0.2317 - accuracy: 0.9303 - val_loss: 1.1028 - val_accuracy: 0.5082\n",
            "Epoch 5/30\n",
            "8/8 [==============================] - 1s 112ms/step - loss: 0.1550 - accuracy: 0.9740 - val_loss: 1.0494 - val_accuracy: 0.5328\n",
            "Epoch 6/30\n",
            "8/8 [==============================] - 1s 113ms/step - loss: 0.1164 - accuracy: 0.9877 - val_loss: 1.0522 - val_accuracy: 0.5492\n",
            "Epoch 7/30\n",
            "8/8 [==============================] - 1s 107ms/step - loss: 0.0918 - accuracy: 0.9959 - val_loss: 1.0458 - val_accuracy: 0.5492\n",
            "Epoch 8/30\n",
            "8/8 [==============================] - 1s 108ms/step - loss: 0.0742 - accuracy: 0.9973 - val_loss: 1.0313 - val_accuracy: 0.5410\n",
            "Epoch 9/30\n",
            "8/8 [==============================] - 1s 107ms/step - loss: 0.0659 - accuracy: 0.9986 - val_loss: 1.0209 - val_accuracy: 0.5574\n",
            "Epoch 10/30\n",
            "8/8 [==============================] - 1s 105ms/step - loss: 0.0553 - accuracy: 0.9973 - val_loss: 1.0132 - val_accuracy: 0.5820\n",
            "Epoch 11/30\n",
            "8/8 [==============================] - 1s 105ms/step - loss: 0.0500 - accuracy: 0.9986 - val_loss: 1.0016 - val_accuracy: 0.5820\n",
            "Epoch 12/30\n",
            "8/8 [==============================] - 1s 104ms/step - loss: 0.0470 - accuracy: 1.0000 - val_loss: 1.0057 - val_accuracy: 0.5902\n",
            "Epoch 13/30\n",
            "8/8 [==============================] - 1s 108ms/step - loss: 0.0462 - accuracy: 1.0000 - val_loss: 1.0032 - val_accuracy: 0.5984\n",
            "Epoch 14/30\n",
            "8/8 [==============================] - 1s 105ms/step - loss: 0.0344 - accuracy: 1.0000 - val_loss: 1.0060 - val_accuracy: 0.6066\n",
            "Epoch 15/30\n",
            "8/8 [==============================] - 1s 108ms/step - loss: 0.0270 - accuracy: 1.0000 - val_loss: 1.0010 - val_accuracy: 0.6066\n",
            "Epoch 16/30\n",
            "8/8 [==============================] - 1s 109ms/step - loss: 0.0223 - accuracy: 1.0000 - val_loss: 0.9963 - val_accuracy: 0.5902\n",
            "Epoch 17/30\n",
            "8/8 [==============================] - 1s 105ms/step - loss: 0.0231 - accuracy: 1.0000 - val_loss: 0.9826 - val_accuracy: 0.5820\n",
            "Epoch 18/30\n",
            "8/8 [==============================] - 1s 105ms/step - loss: 0.0205 - accuracy: 1.0000 - val_loss: 0.9569 - val_accuracy: 0.5902\n",
            "Epoch 19/30\n",
            "8/8 [==============================] - 1s 111ms/step - loss: 0.0227 - accuracy: 1.0000 - val_loss: 0.9428 - val_accuracy: 0.5902\n",
            "Epoch 20/30\n",
            "8/8 [==============================] - 1s 113ms/step - loss: 0.0178 - accuracy: 1.0000 - val_loss: 0.9244 - val_accuracy: 0.5738\n",
            "Epoch 21/30\n",
            "8/8 [==============================] - 1s 113ms/step - loss: 0.0212 - accuracy: 1.0000 - val_loss: 0.8988 - val_accuracy: 0.5656\n",
            "Epoch 22/30\n",
            "8/8 [==============================] - 1s 113ms/step - loss: 0.0161 - accuracy: 1.0000 - val_loss: 0.8822 - val_accuracy: 0.5820\n",
            "Epoch 23/30\n",
            "8/8 [==============================] - 1s 105ms/step - loss: 0.0163 - accuracy: 1.0000 - val_loss: 0.8659 - val_accuracy: 0.5738\n",
            "Epoch 24/30\n",
            "8/8 [==============================] - 1s 109ms/step - loss: 0.0179 - accuracy: 0.9986 - val_loss: 0.8562 - val_accuracy: 0.6066\n",
            "Epoch 25/30\n",
            "8/8 [==============================] - 1s 108ms/step - loss: 0.0146 - accuracy: 1.0000 - val_loss: 0.8594 - val_accuracy: 0.5820\n",
            "Epoch 26/30\n",
            "8/8 [==============================] - 1s 106ms/step - loss: 0.0156 - accuracy: 0.9986 - val_loss: 0.8731 - val_accuracy: 0.5902\n",
            "Epoch 27/30\n",
            "8/8 [==============================] - 1s 106ms/step - loss: 0.0167 - accuracy: 0.9986 - val_loss: 0.8889 - val_accuracy: 0.5984\n",
            "Epoch 28/30\n",
            "8/8 [==============================] - 1s 106ms/step - loss: 0.0115 - accuracy: 1.0000 - val_loss: 0.8736 - val_accuracy: 0.6066\n",
            "Epoch 29/30\n",
            "8/8 [==============================] - 1s 104ms/step - loss: 0.0117 - accuracy: 1.0000 - val_loss: 0.8637 - val_accuracy: 0.5984\n",
            "Epoch 30/30\n",
            "8/8 [==============================] - 1s 108ms/step - loss: 0.0111 - accuracy: 1.0000 - val_loss: 0.8625 - val_accuracy: 0.6066\n",
            "Fold 1 Validation Accuracy: 0.5702\n",
            "Fold 2 Training ------------\n",
            "Epoch 1/30\n",
            "8/8 [==============================] - 1s 111ms/step - loss: 0.1517 - accuracy: 0.9372 - val_loss: 0.9512 - val_accuracy: 0.5000\n",
            "Epoch 2/30\n",
            "8/8 [==============================] - 1s 106ms/step - loss: 0.0675 - accuracy: 0.9699 - val_loss: 0.9750 - val_accuracy: 0.4508\n",
            "Epoch 3/30\n",
            "8/8 [==============================] - 1s 105ms/step - loss: 0.0313 - accuracy: 0.9959 - val_loss: 0.9612 - val_accuracy: 0.4590\n",
            "Epoch 4/30\n",
            "8/8 [==============================] - 1s 111ms/step - loss: 0.0213 - accuracy: 1.0000 - val_loss: 0.9748 - val_accuracy: 0.4508\n",
            "Epoch 5/30\n",
            "8/8 [==============================] - 1s 114ms/step - loss: 0.0158 - accuracy: 1.0000 - val_loss: 0.9790 - val_accuracy: 0.4426\n",
            "Epoch 6/30\n",
            "8/8 [==============================] - 1s 114ms/step - loss: 0.0167 - accuracy: 0.9986 - val_loss: 0.9788 - val_accuracy: 0.4918\n",
            "Epoch 7/30\n",
            "8/8 [==============================] - 1s 114ms/step - loss: 0.0122 - accuracy: 1.0000 - val_loss: 0.9662 - val_accuracy: 0.4836\n",
            "Epoch 8/30\n",
            "8/8 [==============================] - 1s 110ms/step - loss: 0.0124 - accuracy: 1.0000 - val_loss: 0.9715 - val_accuracy: 0.4672\n",
            "Epoch 9/30\n",
            "8/8 [==============================] - 1s 109ms/step - loss: 0.0140 - accuracy: 0.9986 - val_loss: 0.9866 - val_accuracy: 0.4754\n",
            "Epoch 10/30\n",
            "8/8 [==============================] - 1s 107ms/step - loss: 0.0133 - accuracy: 1.0000 - val_loss: 0.9793 - val_accuracy: 0.4836\n",
            "Epoch 11/30\n",
            "8/8 [==============================] - 1s 110ms/step - loss: 0.0085 - accuracy: 1.0000 - val_loss: 0.9877 - val_accuracy: 0.4672\n",
            "Epoch 12/30\n",
            "8/8 [==============================] - 1s 109ms/step - loss: 0.0097 - accuracy: 0.9986 - val_loss: 0.9900 - val_accuracy: 0.4754\n",
            "Epoch 13/30\n",
            "8/8 [==============================] - 1s 105ms/step - loss: 0.0092 - accuracy: 1.0000 - val_loss: 0.9837 - val_accuracy: 0.4918\n",
            "Epoch 14/30\n",
            "8/8 [==============================] - 1s 108ms/step - loss: 0.0083 - accuracy: 1.0000 - val_loss: 0.9775 - val_accuracy: 0.5000\n",
            "Epoch 15/30\n",
            "8/8 [==============================] - 1s 108ms/step - loss: 0.0074 - accuracy: 1.0000 - val_loss: 0.9692 - val_accuracy: 0.5000\n",
            "Epoch 16/30\n",
            "8/8 [==============================] - 1s 107ms/step - loss: 0.0067 - accuracy: 1.0000 - val_loss: 0.9667 - val_accuracy: 0.5082\n",
            "Epoch 17/30\n",
            "8/8 [==============================] - 1s 109ms/step - loss: 0.0053 - accuracy: 1.0000 - val_loss: 0.9652 - val_accuracy: 0.5246\n",
            "Epoch 18/30\n",
            "8/8 [==============================] - 1s 109ms/step - loss: 0.0065 - accuracy: 1.0000 - val_loss: 0.9743 - val_accuracy: 0.5246\n",
            "Epoch 19/30\n",
            "8/8 [==============================] - 1s 109ms/step - loss: 0.0063 - accuracy: 1.0000 - val_loss: 0.9845 - val_accuracy: 0.5164\n",
            "Epoch 20/30\n",
            "8/8 [==============================] - 1s 115ms/step - loss: 0.0087 - accuracy: 0.9986 - val_loss: 0.9872 - val_accuracy: 0.5164\n",
            "Epoch 21/30\n",
            "8/8 [==============================] - 1s 113ms/step - loss: 0.0057 - accuracy: 1.0000 - val_loss: 1.0062 - val_accuracy: 0.5492\n",
            "Epoch 22/30\n",
            "8/8 [==============================] - 1s 112ms/step - loss: 0.0115 - accuracy: 0.9973 - val_loss: 1.0176 - val_accuracy: 0.5492\n",
            "Epoch 23/30\n",
            "8/8 [==============================] - 1s 112ms/step - loss: 0.0055 - accuracy: 1.0000 - val_loss: 1.0785 - val_accuracy: 0.5410\n",
            "Epoch 24/30\n",
            "8/8 [==============================] - 1s 109ms/step - loss: 0.0067 - accuracy: 1.0000 - val_loss: 1.0843 - val_accuracy: 0.5574\n",
            "Epoch 25/30\n",
            "8/8 [==============================] - 1s 107ms/step - loss: 0.0070 - accuracy: 1.0000 - val_loss: 1.0613 - val_accuracy: 0.5492\n",
            "Epoch 26/30\n",
            "8/8 [==============================] - 1s 109ms/step - loss: 0.0051 - accuracy: 1.0000 - val_loss: 1.0486 - val_accuracy: 0.5410\n",
            "Epoch 27/30\n",
            "8/8 [==============================] - 1s 107ms/step - loss: 0.0057 - accuracy: 1.0000 - val_loss: 1.0403 - val_accuracy: 0.5492\n",
            "Epoch 28/30\n",
            "8/8 [==============================] - 1s 109ms/step - loss: 0.0046 - accuracy: 1.0000 - val_loss: 1.0283 - val_accuracy: 0.5574\n",
            "Epoch 29/30\n",
            "8/8 [==============================] - 1s 107ms/step - loss: 0.0059 - accuracy: 1.0000 - val_loss: 1.0277 - val_accuracy: 0.5082\n",
            "Epoch 30/30\n",
            "8/8 [==============================] - 1s 109ms/step - loss: 0.0052 - accuracy: 1.0000 - val_loss: 1.0207 - val_accuracy: 0.5000\n",
            "Fold 2 Validation Accuracy: 0.5044\n",
            "Fold 3 Training ------------\n",
            "Epoch 1/30\n",
            "8/8 [==============================] - 1s 113ms/step - loss: 0.0069 - accuracy: 1.0000 - val_loss: 0.8472 - val_accuracy: 0.6230\n",
            "Epoch 2/30\n",
            "8/8 [==============================] - 1s 109ms/step - loss: 0.0058 - accuracy: 1.0000 - val_loss: 0.8390 - val_accuracy: 0.6230\n",
            "Epoch 3/30\n",
            "8/8 [==============================] - 1s 111ms/step - loss: 0.0043 - accuracy: 1.0000 - val_loss: 0.8313 - val_accuracy: 0.6230\n",
            "Epoch 4/30\n",
            "8/8 [==============================] - 1s 109ms/step - loss: 0.0068 - accuracy: 0.9986 - val_loss: 0.8379 - val_accuracy: 0.6148\n",
            "Epoch 5/30\n",
            "8/8 [==============================] - 1s 117ms/step - loss: 0.0043 - accuracy: 1.0000 - val_loss: 0.8294 - val_accuracy: 0.6311\n",
            "Epoch 6/30\n",
            "8/8 [==============================] - 1s 117ms/step - loss: 0.0041 - accuracy: 1.0000 - val_loss: 0.8335 - val_accuracy: 0.6230\n",
            "Epoch 7/30\n",
            "8/8 [==============================] - 1s 114ms/step - loss: 0.0051 - accuracy: 0.9986 - val_loss: 0.8391 - val_accuracy: 0.6557\n",
            "Epoch 8/30\n",
            "8/8 [==============================] - 1s 114ms/step - loss: 0.0062 - accuracy: 1.0000 - val_loss: 0.8733 - val_accuracy: 0.5984\n",
            "Epoch 9/30\n",
            "8/8 [==============================] - 1s 111ms/step - loss: 0.0045 - accuracy: 1.0000 - val_loss: 0.8971 - val_accuracy: 0.5902\n",
            "Epoch 10/30\n",
            "8/8 [==============================] - 1s 108ms/step - loss: 0.0077 - accuracy: 0.9986 - val_loss: 0.9017 - val_accuracy: 0.5738\n",
            "Epoch 11/30\n",
            "8/8 [==============================] - 1s 110ms/step - loss: 0.0038 - accuracy: 1.0000 - val_loss: 0.9237 - val_accuracy: 0.5738\n",
            "Epoch 12/30\n",
            "8/8 [==============================] - 1s 110ms/step - loss: 0.0041 - accuracy: 1.0000 - val_loss: 0.9443 - val_accuracy: 0.5738\n",
            "Epoch 13/30\n",
            "8/8 [==============================] - 1s 110ms/step - loss: 0.0041 - accuracy: 1.0000 - val_loss: 0.9374 - val_accuracy: 0.5656\n",
            "Epoch 14/30\n",
            "8/8 [==============================] - 1s 108ms/step - loss: 0.0042 - accuracy: 1.0000 - val_loss: 0.9052 - val_accuracy: 0.5820\n",
            "Epoch 15/30\n",
            "8/8 [==============================] - 1s 108ms/step - loss: 0.0042 - accuracy: 1.0000 - val_loss: 0.8797 - val_accuracy: 0.6066\n",
            "Epoch 16/30\n",
            "8/8 [==============================] - 1s 108ms/step - loss: 0.0039 - accuracy: 1.0000 - val_loss: 0.8586 - val_accuracy: 0.6475\n",
            "Epoch 17/30\n",
            "8/8 [==============================] - 1s 107ms/step - loss: 0.0028 - accuracy: 1.0000 - val_loss: 0.8369 - val_accuracy: 0.6230\n",
            "Epoch 18/30\n",
            "8/8 [==============================] - 1s 110ms/step - loss: 0.0026 - accuracy: 1.0000 - val_loss: 0.8123 - val_accuracy: 0.6475\n",
            "Epoch 19/30\n",
            "8/8 [==============================] - 1s 110ms/step - loss: 0.0021 - accuracy: 1.0000 - val_loss: 0.7842 - val_accuracy: 0.6639\n",
            "Epoch 20/30\n",
            "8/8 [==============================] - 1s 112ms/step - loss: 0.0025 - accuracy: 1.0000 - val_loss: 0.7513 - val_accuracy: 0.6803\n",
            "Epoch 21/30\n",
            "8/8 [==============================] - 1s 115ms/step - loss: 0.0026 - accuracy: 1.0000 - val_loss: 0.7243 - val_accuracy: 0.6803\n",
            "Epoch 22/30\n",
            "8/8 [==============================] - 1s 114ms/step - loss: 0.0025 - accuracy: 1.0000 - val_loss: 0.6742 - val_accuracy: 0.6803\n",
            "Epoch 23/30\n",
            "8/8 [==============================] - 1s 119ms/step - loss: 0.0027 - accuracy: 1.0000 - val_loss: 0.6300 - val_accuracy: 0.7049\n",
            "Epoch 24/30\n",
            "8/8 [==============================] - 1s 110ms/step - loss: 0.0022 - accuracy: 1.0000 - val_loss: 0.5754 - val_accuracy: 0.7213\n",
            "Epoch 25/30\n",
            "8/8 [==============================] - 1s 111ms/step - loss: 0.0056 - accuracy: 0.9986 - val_loss: 0.5236 - val_accuracy: 0.7705\n",
            "Epoch 26/30\n",
            "8/8 [==============================] - 1s 112ms/step - loss: 0.0028 - accuracy: 1.0000 - val_loss: 0.4750 - val_accuracy: 0.7705\n",
            "Epoch 27/30\n",
            "8/8 [==============================] - 1s 112ms/step - loss: 0.0027 - accuracy: 1.0000 - val_loss: 0.4231 - val_accuracy: 0.7951\n",
            "Epoch 28/30\n",
            "8/8 [==============================] - 1s 111ms/step - loss: 0.0026 - accuracy: 1.0000 - val_loss: 0.3943 - val_accuracy: 0.8197\n",
            "Epoch 29/30\n",
            "8/8 [==============================] - 1s 109ms/step - loss: 0.0026 - accuracy: 1.0000 - val_loss: 0.3652 - val_accuracy: 0.8279\n",
            "Epoch 30/30\n",
            "8/8 [==============================] - 1s 109ms/step - loss: 0.0020 - accuracy: 1.0000 - val_loss: 0.3382 - val_accuracy: 0.8361\n",
            "Fold 3 Validation Accuracy: 0.6642\n",
            "Fold 4 Training ------------\n",
            "Epoch 1/30\n",
            "8/8 [==============================] - 1s 114ms/step - loss: 0.0025 - accuracy: 1.0000 - val_loss: 0.2079 - val_accuracy: 0.9344\n",
            "Epoch 2/30\n",
            "8/8 [==============================] - 1s 109ms/step - loss: 0.0037 - accuracy: 0.9986 - val_loss: 0.1854 - val_accuracy: 0.9344\n",
            "Epoch 3/30\n",
            "8/8 [==============================] - 1s 109ms/step - loss: 0.0023 - accuracy: 1.0000 - val_loss: 0.1772 - val_accuracy: 0.9590\n",
            "Epoch 4/30\n",
            "8/8 [==============================] - 1s 109ms/step - loss: 0.0032 - accuracy: 1.0000 - val_loss: 0.1739 - val_accuracy: 0.9590\n",
            "Epoch 5/30\n",
            "8/8 [==============================] - 1s 115ms/step - loss: 0.0023 - accuracy: 1.0000 - val_loss: 0.1596 - val_accuracy: 0.9590\n",
            "Epoch 6/30\n",
            "8/8 [==============================] - 1s 115ms/step - loss: 0.0027 - accuracy: 1.0000 - val_loss: 0.1342 - val_accuracy: 0.9590\n",
            "Epoch 7/30\n",
            "8/8 [==============================] - 1s 116ms/step - loss: 0.0023 - accuracy: 1.0000 - val_loss: 0.0994 - val_accuracy: 0.9672\n",
            "Epoch 8/30\n",
            "8/8 [==============================] - 1s 115ms/step - loss: 0.0025 - accuracy: 1.0000 - val_loss: 0.0744 - val_accuracy: 0.9754\n",
            "Epoch 9/30\n",
            "8/8 [==============================] - 1s 109ms/step - loss: 0.0024 - accuracy: 1.0000 - val_loss: 0.0568 - val_accuracy: 0.9918\n",
            "Epoch 10/30\n",
            "8/8 [==============================] - 1s 110ms/step - loss: 0.0018 - accuracy: 1.0000 - val_loss: 0.0429 - val_accuracy: 0.9918\n",
            "Epoch 11/30\n",
            "8/8 [==============================] - 1s 109ms/step - loss: 0.0021 - accuracy: 1.0000 - val_loss: 0.0328 - val_accuracy: 0.9918\n",
            "Epoch 12/30\n",
            "8/8 [==============================] - 1s 109ms/step - loss: 0.0028 - accuracy: 1.0000 - val_loss: 0.0271 - val_accuracy: 0.9918\n",
            "Epoch 13/30\n",
            "8/8 [==============================] - 1s 111ms/step - loss: 0.0019 - accuracy: 1.0000 - val_loss: 0.0216 - val_accuracy: 1.0000\n",
            "Epoch 14/30\n",
            "8/8 [==============================] - 1s 108ms/step - loss: 0.0016 - accuracy: 1.0000 - val_loss: 0.0164 - val_accuracy: 1.0000\n",
            "Epoch 15/30\n",
            "8/8 [==============================] - 1s 109ms/step - loss: 0.0014 - accuracy: 1.0000 - val_loss: 0.0124 - val_accuracy: 1.0000\n",
            "Epoch 16/30\n",
            "8/8 [==============================] - 1s 109ms/step - loss: 0.0015 - accuracy: 1.0000 - val_loss: 0.0095 - val_accuracy: 1.0000\n",
            "Epoch 17/30\n",
            "8/8 [==============================] - 1s 111ms/step - loss: 0.0015 - accuracy: 1.0000 - val_loss: 0.0072 - val_accuracy: 1.0000\n",
            "Epoch 18/30\n",
            "8/8 [==============================] - 1s 111ms/step - loss: 0.0016 - accuracy: 1.0000 - val_loss: 0.0056 - val_accuracy: 1.0000\n",
            "Epoch 19/30\n",
            "8/8 [==============================] - 1s 111ms/step - loss: 0.0020 - accuracy: 1.0000 - val_loss: 0.0045 - val_accuracy: 1.0000\n",
            "Epoch 20/30\n",
            "8/8 [==============================] - 1s 117ms/step - loss: 0.0015 - accuracy: 1.0000 - val_loss: 0.0039 - val_accuracy: 1.0000\n",
            "Epoch 21/30\n",
            "8/8 [==============================] - 1s 116ms/step - loss: 0.0015 - accuracy: 1.0000 - val_loss: 0.0030 - val_accuracy: 1.0000\n",
            "Epoch 22/30\n",
            "8/8 [==============================] - 1s 118ms/step - loss: 0.0012 - accuracy: 1.0000 - val_loss: 0.0025 - val_accuracy: 1.0000\n",
            "Epoch 23/30\n",
            "8/8 [==============================] - 1s 113ms/step - loss: 0.0013 - accuracy: 1.0000 - val_loss: 0.0021 - val_accuracy: 1.0000\n",
            "Epoch 24/30\n",
            "8/8 [==============================] - 1s 109ms/step - loss: 0.0016 - accuracy: 1.0000 - val_loss: 0.0016 - val_accuracy: 1.0000\n",
            "Epoch 25/30\n",
            "8/8 [==============================] - 1s 114ms/step - loss: 8.3173e-04 - accuracy: 1.0000 - val_loss: 0.0012 - val_accuracy: 1.0000\n",
            "Epoch 26/30\n",
            "8/8 [==============================] - 1s 110ms/step - loss: 0.0012 - accuracy: 1.0000 - val_loss: 0.0011 - val_accuracy: 1.0000\n",
            "Epoch 27/30\n",
            "8/8 [==============================] - 1s 112ms/step - loss: 0.0010 - accuracy: 1.0000 - val_loss: 9.2084e-04 - val_accuracy: 1.0000\n",
            "Epoch 28/30\n",
            "8/8 [==============================] - 1s 110ms/step - loss: 0.0013 - accuracy: 1.0000 - val_loss: 7.8875e-04 - val_accuracy: 1.0000\n",
            "Epoch 29/30\n",
            "8/8 [==============================] - 1s 113ms/step - loss: 0.0011 - accuracy: 1.0000 - val_loss: 6.8239e-04 - val_accuracy: 1.0000\n",
            "Epoch 30/30\n",
            "8/8 [==============================] - 1s 110ms/step - loss: 0.0013 - accuracy: 1.0000 - val_loss: 6.0167e-04 - val_accuracy: 1.0000\n",
            "Fold 4 Validation Accuracy: 0.9872\n",
            "Fold 5 Training ------------\n",
            "Epoch 1/30\n",
            "8/8 [==============================] - 1s 116ms/step - loss: 0.0018 - accuracy: 1.0000 - val_loss: 2.3772e-04 - val_accuracy: 1.0000\n",
            "Epoch 2/30\n",
            "8/8 [==============================] - 1s 110ms/step - loss: 0.0011 - accuracy: 1.0000 - val_loss: 2.3004e-04 - val_accuracy: 1.0000\n",
            "Epoch 3/30\n",
            "8/8 [==============================] - 1s 114ms/step - loss: 0.0013 - accuracy: 1.0000 - val_loss: 2.2437e-04 - val_accuracy: 1.0000\n",
            "Epoch 4/30\n",
            "8/8 [==============================] - 1s 113ms/step - loss: 0.0013 - accuracy: 1.0000 - val_loss: 2.0947e-04 - val_accuracy: 1.0000\n",
            "Epoch 5/30\n",
            "8/8 [==============================] - 1s 118ms/step - loss: 0.0011 - accuracy: 1.0000 - val_loss: 2.1687e-04 - val_accuracy: 1.0000\n",
            "Epoch 6/30\n",
            "8/8 [==============================] - 1s 118ms/step - loss: 0.0015 - accuracy: 1.0000 - val_loss: 2.1112e-04 - val_accuracy: 1.0000\n",
            "Epoch 7/30\n",
            "8/8 [==============================] - 1s 118ms/step - loss: 0.0010 - accuracy: 1.0000 - val_loss: 2.0729e-04 - val_accuracy: 1.0000\n",
            "Epoch 8/30\n",
            "8/8 [==============================] - 1s 115ms/step - loss: 0.0015 - accuracy: 1.0000 - val_loss: 2.0092e-04 - val_accuracy: 1.0000\n",
            "Epoch 9/30\n",
            "8/8 [==============================] - 1s 109ms/step - loss: 0.0014 - accuracy: 1.0000 - val_loss: 2.1879e-04 - val_accuracy: 1.0000\n",
            "Epoch 10/30\n",
            "8/8 [==============================] - 1s 109ms/step - loss: 0.0012 - accuracy: 1.0000 - val_loss: 2.2562e-04 - val_accuracy: 1.0000\n",
            "Epoch 11/30\n",
            "8/8 [==============================] - 1s 113ms/step - loss: 0.0011 - accuracy: 1.0000 - val_loss: 2.1976e-04 - val_accuracy: 1.0000\n",
            "Epoch 12/30\n",
            "8/8 [==============================] - 1s 112ms/step - loss: 7.2833e-04 - accuracy: 1.0000 - val_loss: 2.1290e-04 - val_accuracy: 1.0000\n",
            "Epoch 13/30\n",
            "8/8 [==============================] - 1s 114ms/step - loss: 0.0014 - accuracy: 1.0000 - val_loss: 2.0187e-04 - val_accuracy: 1.0000\n",
            "Epoch 14/30\n",
            "8/8 [==============================] - 1s 110ms/step - loss: 0.0011 - accuracy: 1.0000 - val_loss: 1.9034e-04 - val_accuracy: 1.0000\n",
            "Epoch 15/30\n",
            "8/8 [==============================] - 1s 110ms/step - loss: 9.9119e-04 - accuracy: 1.0000 - val_loss: 2.1872e-04 - val_accuracy: 1.0000\n",
            "Epoch 16/30\n",
            "8/8 [==============================] - 1s 113ms/step - loss: 0.0017 - accuracy: 1.0000 - val_loss: 2.2470e-04 - val_accuracy: 1.0000\n",
            "Epoch 17/30\n",
            "8/8 [==============================] - 1s 110ms/step - loss: 0.0011 - accuracy: 1.0000 - val_loss: 1.6063e-04 - val_accuracy: 1.0000\n",
            "Epoch 18/30\n",
            "8/8 [==============================] - 1s 112ms/step - loss: 9.9634e-04 - accuracy: 1.0000 - val_loss: 1.6065e-04 - val_accuracy: 1.0000\n",
            "Epoch 19/30\n",
            "8/8 [==============================] - 1s 112ms/step - loss: 7.2218e-04 - accuracy: 1.0000 - val_loss: 1.6730e-04 - val_accuracy: 1.0000\n",
            "Epoch 20/30\n",
            "8/8 [==============================] - 1s 117ms/step - loss: 0.0014 - accuracy: 1.0000 - val_loss: 1.6833e-04 - val_accuracy: 1.0000\n",
            "Epoch 21/30\n",
            "8/8 [==============================] - 1s 117ms/step - loss: 0.0012 - accuracy: 1.0000 - val_loss: 1.7349e-04 - val_accuracy: 1.0000\n",
            "Epoch 22/30\n",
            "8/8 [==============================] - 1s 120ms/step - loss: 9.4563e-04 - accuracy: 1.0000 - val_loss: 2.2845e-04 - val_accuracy: 1.0000\n",
            "Epoch 23/30\n",
            "8/8 [==============================] - 1s 111ms/step - loss: 7.1321e-04 - accuracy: 1.0000 - val_loss: 2.1061e-04 - val_accuracy: 1.0000\n",
            "Epoch 24/30\n",
            "8/8 [==============================] - 1s 112ms/step - loss: 8.0027e-04 - accuracy: 1.0000 - val_loss: 1.9987e-04 - val_accuracy: 1.0000\n",
            "Epoch 25/30\n",
            "8/8 [==============================] - 1s 114ms/step - loss: 7.1061e-04 - accuracy: 1.0000 - val_loss: 1.8529e-04 - val_accuracy: 1.0000\n",
            "Epoch 26/30\n",
            "8/8 [==============================] - 1s 114ms/step - loss: 9.5894e-04 - accuracy: 1.0000 - val_loss: 1.7001e-04 - val_accuracy: 1.0000\n",
            "Epoch 27/30\n",
            "8/8 [==============================] - 1s 113ms/step - loss: 9.3190e-04 - accuracy: 1.0000 - val_loss: 1.6118e-04 - val_accuracy: 1.0000\n",
            "Epoch 28/30\n",
            "8/8 [==============================] - 1s 113ms/step - loss: 8.7468e-04 - accuracy: 1.0000 - val_loss: 1.5659e-04 - val_accuracy: 1.0000\n",
            "Epoch 29/30\n",
            "8/8 [==============================] - 1s 111ms/step - loss: 0.0012 - accuracy: 1.0000 - val_loss: 1.7035e-04 - val_accuracy: 1.0000\n",
            "Epoch 30/30\n",
            "8/8 [==============================] - 1s 110ms/step - loss: 7.5387e-04 - accuracy: 1.0000 - val_loss: 2.1966e-04 - val_accuracy: 1.0000\n",
            "Fold 5 Validation Accuracy: 1.0000\n",
            "Fold 6 Training ------------\n",
            "Epoch 1/30\n",
            "8/8 [==============================] - 1s 117ms/step - loss: 6.4350e-04 - accuracy: 1.0000 - val_loss: 1.5392e-04 - val_accuracy: 1.0000\n",
            "Epoch 2/30\n",
            "8/8 [==============================] - 1s 110ms/step - loss: 7.4118e-04 - accuracy: 1.0000 - val_loss: 1.3803e-04 - val_accuracy: 1.0000\n",
            "Epoch 3/30\n",
            "8/8 [==============================] - 1s 111ms/step - loss: 7.1922e-04 - accuracy: 1.0000 - val_loss: 1.2350e-04 - val_accuracy: 1.0000\n",
            "Epoch 4/30\n",
            "8/8 [==============================] - 1s 117ms/step - loss: 0.0011 - accuracy: 1.0000 - val_loss: 1.0899e-04 - val_accuracy: 1.0000\n",
            "Epoch 5/30\n",
            "8/8 [==============================] - 1s 114ms/step - loss: 9.0232e-04 - accuracy: 1.0000 - val_loss: 1.0684e-04 - val_accuracy: 1.0000\n",
            "Epoch 6/30\n",
            "8/8 [==============================] - 1s 116ms/step - loss: 7.3556e-04 - accuracy: 1.0000 - val_loss: 1.0155e-04 - val_accuracy: 1.0000\n",
            "Epoch 7/30\n",
            "8/8 [==============================] - 1s 131ms/step - loss: 0.0010 - accuracy: 1.0000 - val_loss: 9.5957e-05 - val_accuracy: 1.0000\n",
            "Epoch 8/30\n",
            "8/8 [==============================] - 1s 115ms/step - loss: 8.1904e-04 - accuracy: 1.0000 - val_loss: 9.1926e-05 - val_accuracy: 1.0000\n",
            "Epoch 9/30\n",
            "8/8 [==============================] - 1s 110ms/step - loss: 6.5061e-04 - accuracy: 1.0000 - val_loss: 9.4173e-05 - val_accuracy: 1.0000\n",
            "Epoch 10/30\n",
            "8/8 [==============================] - 1s 113ms/step - loss: 0.0015 - accuracy: 1.0000 - val_loss: 8.9774e-05 - val_accuracy: 1.0000\n",
            "Epoch 11/30\n",
            "8/8 [==============================] - 1s 114ms/step - loss: 0.0014 - accuracy: 1.0000 - val_loss: 1.0206e-04 - val_accuracy: 1.0000\n",
            "Epoch 12/30\n",
            "8/8 [==============================] - 1s 110ms/step - loss: 5.8991e-04 - accuracy: 1.0000 - val_loss: 3.9625e-04 - val_accuracy: 1.0000\n",
            "Epoch 13/30\n",
            "8/8 [==============================] - 1s 111ms/step - loss: 0.0010 - accuracy: 1.0000 - val_loss: 9.1651e-04 - val_accuracy: 1.0000\n",
            "Epoch 14/30\n",
            "8/8 [==============================] - 1s 114ms/step - loss: 0.0015 - accuracy: 1.0000 - val_loss: 9.8439e-04 - val_accuracy: 1.0000\n",
            "Epoch 15/30\n",
            "8/8 [==============================] - 1s 111ms/step - loss: 0.0024 - accuracy: 0.9986 - val_loss: 0.0015 - val_accuracy: 1.0000\n",
            "Epoch 16/30\n",
            "8/8 [==============================] - 1s 115ms/step - loss: 8.6010e-04 - accuracy: 1.0000 - val_loss: 0.0161 - val_accuracy: 1.0000\n",
            "Epoch 17/30\n",
            "8/8 [==============================] - 1s 114ms/step - loss: 0.0016 - accuracy: 1.0000 - val_loss: 0.0310 - val_accuracy: 1.0000\n",
            "Epoch 18/30\n",
            "8/8 [==============================] - 1s 114ms/step - loss: 0.0017 - accuracy: 1.0000 - val_loss: 0.0333 - val_accuracy: 0.9918\n",
            "Epoch 19/30\n",
            "8/8 [==============================] - 1s 118ms/step - loss: 0.0014 - accuracy: 1.0000 - val_loss: 0.0206 - val_accuracy: 1.0000\n",
            "Epoch 20/30\n",
            "8/8 [==============================] - 1s 115ms/step - loss: 9.1008e-04 - accuracy: 1.0000 - val_loss: 0.0048 - val_accuracy: 1.0000\n",
            "Epoch 21/30\n",
            "8/8 [==============================] - 1s 117ms/step - loss: 0.0025 - accuracy: 1.0000 - val_loss: 0.0014 - val_accuracy: 1.0000\n",
            "Epoch 22/30\n",
            "8/8 [==============================] - 1s 115ms/step - loss: 9.0609e-04 - accuracy: 1.0000 - val_loss: 6.1097e-04 - val_accuracy: 1.0000\n",
            "Epoch 23/30\n",
            "8/8 [==============================] - 1s 113ms/step - loss: 0.0011 - accuracy: 1.0000 - val_loss: 5.2713e-04 - val_accuracy: 1.0000\n",
            "Epoch 24/30\n",
            "8/8 [==============================] - 1s 113ms/step - loss: 6.9700e-04 - accuracy: 1.0000 - val_loss: 4.2554e-04 - val_accuracy: 1.0000\n",
            "Epoch 25/30\n",
            "8/8 [==============================] - 1s 114ms/step - loss: 9.8717e-04 - accuracy: 1.0000 - val_loss: 3.5783e-04 - val_accuracy: 1.0000\n",
            "Epoch 26/30\n",
            "8/8 [==============================] - 1s 111ms/step - loss: 7.8593e-04 - accuracy: 1.0000 - val_loss: 2.8952e-04 - val_accuracy: 1.0000\n",
            "Epoch 27/30\n",
            "8/8 [==============================] - 1s 110ms/step - loss: 0.0022 - accuracy: 1.0000 - val_loss: 2.8495e-04 - val_accuracy: 1.0000\n",
            "Epoch 28/30\n",
            "8/8 [==============================] - 1s 111ms/step - loss: 5.8682e-04 - accuracy: 1.0000 - val_loss: 7.0407e-04 - val_accuracy: 1.0000\n",
            "Epoch 29/30\n",
            "8/8 [==============================] - 1s 113ms/step - loss: 9.2237e-04 - accuracy: 1.0000 - val_loss: 0.0010 - val_accuracy: 1.0000\n",
            "Epoch 30/30\n",
            "8/8 [==============================] - 1s 110ms/step - loss: 0.0012 - accuracy: 1.0000 - val_loss: 9.2312e-04 - val_accuracy: 1.0000\n",
            "Fold 6 Validation Accuracy: 0.9997\n",
            "Fold 7 Training ------------\n",
            "Epoch 1/30\n",
            "8/8 [==============================] - 1s 119ms/step - loss: 0.0012 - accuracy: 1.0000 - val_loss: 0.0052 - val_accuracy: 1.0000\n",
            "Epoch 2/30\n",
            "8/8 [==============================] - 1s 115ms/step - loss: 0.0025 - accuracy: 1.0000 - val_loss: 0.0186 - val_accuracy: 0.9918\n",
            "Epoch 3/30\n",
            "8/8 [==============================] - 1s 118ms/step - loss: 0.0042 - accuracy: 0.9986 - val_loss: 0.0128 - val_accuracy: 1.0000\n",
            "Epoch 4/30\n",
            "8/8 [==============================] - 1s 121ms/step - loss: 0.0019 - accuracy: 1.0000 - val_loss: 0.0270 - val_accuracy: 0.9836\n",
            "Epoch 5/30\n",
            "8/8 [==============================] - 1s 114ms/step - loss: 0.0058 - accuracy: 0.9986 - val_loss: 0.0182 - val_accuracy: 0.9918\n",
            "Epoch 6/30\n",
            "8/8 [==============================] - 1s 110ms/step - loss: 0.0020 - accuracy: 1.0000 - val_loss: 0.0060 - val_accuracy: 1.0000\n",
            "Epoch 7/30\n",
            "8/8 [==============================] - 1s 114ms/step - loss: 0.0015 - accuracy: 1.0000 - val_loss: 0.0019 - val_accuracy: 1.0000\n",
            "Epoch 8/30\n",
            "8/8 [==============================] - 1s 110ms/step - loss: 0.0014 - accuracy: 1.0000 - val_loss: 9.9276e-04 - val_accuracy: 1.0000\n",
            "Epoch 9/30\n",
            "8/8 [==============================] - 1s 112ms/step - loss: 0.0010 - accuracy: 1.0000 - val_loss: 3.3764e-04 - val_accuracy: 1.0000\n",
            "Epoch 10/30\n",
            "8/8 [==============================] - 1s 110ms/step - loss: 0.0014 - accuracy: 1.0000 - val_loss: 2.0519e-04 - val_accuracy: 1.0000\n",
            "Epoch 11/30\n",
            "8/8 [==============================] - 1s 112ms/step - loss: 0.0014 - accuracy: 1.0000 - val_loss: 2.1428e-04 - val_accuracy: 1.0000\n",
            "Epoch 12/30\n",
            "8/8 [==============================] - 1s 110ms/step - loss: 8.6646e-04 - accuracy: 1.0000 - val_loss: 2.3250e-04 - val_accuracy: 1.0000\n",
            "Epoch 13/30\n",
            "8/8 [==============================] - 1s 112ms/step - loss: 0.0010 - accuracy: 1.0000 - val_loss: 2.5552e-04 - val_accuracy: 1.0000\n",
            "Epoch 14/30\n",
            "8/8 [==============================] - 1s 113ms/step - loss: 7.9527e-04 - accuracy: 1.0000 - val_loss: 2.4700e-04 - val_accuracy: 1.0000\n",
            "Epoch 15/30\n",
            "8/8 [==============================] - 1s 114ms/step - loss: 5.5379e-04 - accuracy: 1.0000 - val_loss: 2.2157e-04 - val_accuracy: 1.0000\n",
            "Epoch 16/30\n",
            "8/8 [==============================] - 1s 112ms/step - loss: 6.2812e-04 - accuracy: 1.0000 - val_loss: 2.0359e-04 - val_accuracy: 1.0000\n",
            "Epoch 17/30\n",
            "8/8 [==============================] - 1s 118ms/step - loss: 6.6439e-04 - accuracy: 1.0000 - val_loss: 1.7880e-04 - val_accuracy: 1.0000\n",
            "Epoch 18/30\n",
            "8/8 [==============================] - 1s 119ms/step - loss: 7.9616e-04 - accuracy: 1.0000 - val_loss: 1.6665e-04 - val_accuracy: 1.0000\n",
            "Epoch 19/30\n",
            "8/8 [==============================] - 1s 118ms/step - loss: 5.9821e-04 - accuracy: 1.0000 - val_loss: 1.5836e-04 - val_accuracy: 1.0000\n",
            "Epoch 20/30\n",
            "8/8 [==============================] - 1s 112ms/step - loss: 8.1344e-04 - accuracy: 1.0000 - val_loss: 1.5546e-04 - val_accuracy: 1.0000\n",
            "Epoch 21/30\n",
            "8/8 [==============================] - 1s 113ms/step - loss: 0.0014 - accuracy: 1.0000 - val_loss: 1.8073e-04 - val_accuracy: 1.0000\n",
            "Epoch 22/30\n",
            "8/8 [==============================] - 1s 114ms/step - loss: 7.7213e-04 - accuracy: 1.0000 - val_loss: 2.3246e-04 - val_accuracy: 1.0000\n",
            "Epoch 23/30\n",
            "8/8 [==============================] - 1s 113ms/step - loss: 6.2929e-04 - accuracy: 1.0000 - val_loss: 3.1566e-04 - val_accuracy: 1.0000\n",
            "Epoch 24/30\n",
            "8/8 [==============================] - 1s 115ms/step - loss: 4.3971e-04 - accuracy: 1.0000 - val_loss: 3.3384e-04 - val_accuracy: 1.0000\n",
            "Epoch 25/30\n",
            "8/8 [==============================] - 1s 114ms/step - loss: 5.5397e-04 - accuracy: 1.0000 - val_loss: 3.3078e-04 - val_accuracy: 1.0000\n",
            "Epoch 26/30\n",
            "8/8 [==============================] - 1s 114ms/step - loss: 4.4978e-04 - accuracy: 1.0000 - val_loss: 3.5446e-04 - val_accuracy: 1.0000\n",
            "Epoch 27/30\n",
            "8/8 [==============================] - 1s 114ms/step - loss: 5.2407e-04 - accuracy: 1.0000 - val_loss: 2.9741e-04 - val_accuracy: 1.0000\n",
            "Epoch 28/30\n",
            "8/8 [==============================] - 1s 110ms/step - loss: 5.1413e-04 - accuracy: 1.0000 - val_loss: 2.3763e-04 - val_accuracy: 1.0000\n",
            "Epoch 29/30\n",
            "8/8 [==============================] - 1s 114ms/step - loss: 5.4323e-04 - accuracy: 1.0000 - val_loss: 2.1014e-04 - val_accuracy: 1.0000\n",
            "Epoch 30/30\n",
            "8/8 [==============================] - 1s 115ms/step - loss: 0.0020 - accuracy: 0.9986 - val_loss: 2.2704e-04 - val_accuracy: 1.0000\n",
            "Fold 7 Validation Accuracy: 0.9989\n"
          ]
        }
      ],
      "source": [
        "# Compile the model\n",
        "model.compile(optimizer=keras.optimizers.Adam(learning_rate=1e-5),\n",
        "              loss='categorical_crossentropy',\n",
        "              metrics=['accuracy'])\n",
        "\n",
        "# Train the model with K-fold cross validation\n",
        "for fold, (train_idx, val_idx) in enumerate(kfold.split(x_train, y_train)):\n",
        "    print(f'Fold {fold+1} Training ------------')\n",
        "    x_train_fold = x_train[train_idx]\n",
        "    y_train_fold = y_train[train_idx]\n",
        "    x_val_fold = x_train[val_idx]\n",
        "    y_val_fold = y_train[val_idx]\n",
        "\n",
        "    history = model.fit(x_train_fold, y_train_fold, batch_size=100, epochs=30, validation_data=(x_val_fold, y_val_fold))\n",
        "\n",
        "    print(f\"Fold {fold+1} Validation Accuracy: {np.mean(history.history['val_accuracy']):.4f}\")"
      ]
    },
    {
      "cell_type": "code",
      "execution_count": 17,
      "metadata": {
        "colab": {
          "base_uri": "https://localhost:8080/",
          "height": 472
        },
        "id": "WWSZwxkrmxVz",
        "outputId": "accd8e15-2e04-4bd9-ffba-805b40948e06"
      },
      "outputs": [
        {
          "output_type": "display_data",
          "data": {
            "text/plain": [
              "<Figure size 640x480 with 1 Axes>"
            ],
            "image/png": "[encoded data removed]"
          },
          "metadata": {}
        }
      ],
      "source": [
        "# Plot the training and validation accuracy for each epoch\n",
        "plt.plot(history.history['accuracy'])\n",
        "plt.plot(history.history['val_accuracy'])\n",
        "plt.title(f'Fold {fold+1} Model Accuracy')\n",
        "plt.ylabel('Accuracy')\n",
        "plt.xlabel('Epoch')\n",
        "plt.legend(['train', 'val'], loc='upper left')\n",
        "plt.show()"
      ]
    }
  ],
  "metadata": {
    "colab": {
      "provenance": [],
      "gpuType": "T4",
      "authorship_tag": "ABX9TyONbPafsKp6i42oQ5DyKbGU",
      "include_colab_link": true
    },
    "kernelspec": {
      "display_name": "Python 3",
      "name": "python3"
    },
    "language_info": {
      "name": "python"
    },
    "accelerator": "GPU",
    "gpuClass": "standard"
  },
  "nbformat": 4,
  "nbformat_minor": 0
}