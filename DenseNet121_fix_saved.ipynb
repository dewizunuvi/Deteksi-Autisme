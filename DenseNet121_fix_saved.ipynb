{
  "cells": [
    {
      "cell_type": "markdown",
      "metadata": {
        "id": "view-in-github",
        "colab_type": "text"
      },
      "source": [
        "<a href=\"https://colab.research.google.com/github/dewizunuvi/Deteksi-Autisme/blob/main/DenseNet121_fix_saved.ipynb\" target=\"_parent\"><img src=\"https://colab.research.google.com/assets/colab-badge.svg\" alt=\"Open In Colab\"/></a>"
      ]
    },
    {
      "cell_type": "markdown",
      "metadata": {
        "id": "QYZvVdNE-gAh"
      },
      "source": [
        "# **Klasifikasi MRI Autisme ResNet-50**\n",
        "Gambar Nifti diubah ke 2D, RGB, Dropout"
      ]
    },
    {
      "cell_type": "markdown",
      "metadata": {
        "id": "aQ65HwbuDQ2w"
      },
      "source": [
        "#### Import nibabel package to read NIfTI images"
      ]
    },
    {
      "cell_type": "code",
      "execution_count": 16,
      "metadata": {
        "id": "pnVExdPwDQ20"
      },
      "outputs": [],
      "source": [
        "import keras\n",
        "import numpy as np\n",
        "import nibabel as nib\n",
        "import tensorflow as tf\n",
        "from keras import applications"
      ]
    },
    {
      "cell_type": "markdown",
      "metadata": {
        "id": "EAdKoPKnDQ24"
      },
      "source": [
        "#### Import all the keras required library"
      ]
    },
    {
      "cell_type": "code",
      "execution_count": 17,
      "metadata": {
        "id": "Cp-AG3v8DQ24"
      },
      "outputs": [],
      "source": [
        "import os\n",
        "from keras import layers\n",
        "from google.colab import drive\n",
        "import matplotlib.pyplot as plt\n",
        "from keras.models import Sequential, Model \n",
        "from keras.losses import categorical_crossentropy\n",
        "from keras.layers import Dense, Conv2D, Dropout, Flatten, MaxPooling2D\n",
        "\n",
        "from sklearn.model_selection import KFold\n",
        "from sklearn.model_selection import train_test_split"
      ]
    },
    {
      "cell_type": "markdown",
      "metadata": {
        "id": "rAcW8twKDQ25"
      },
      "source": [
        "#### Fatch all the preprocessed images from the folder, preprocessing is done in SPM (matlab)"
      ]
    },
    {
      "cell_type": "code",
      "execution_count": 18,
      "metadata": {
        "colab": {
          "base_uri": "https://localhost:8080/"
        },
        "id": "DR3cG2luDQ25",
        "outputId": "34d2b428-2c8f-436a-f310-2e6ab00104a5"
      },
      "outputs": [
        {
          "output_type": "stream",
          "name": "stdout",
          "text": [
            "Drive already mounted at /content/drive; to attempt to forcibly remount, call drive.mount(\"/content/drive\", force_remount=True).\n"
          ]
        }
      ],
      "source": [
        "# Mount Google Drive\n",
        "drive.mount('/content/drive')\n",
        "\n",
        "# Set path to folder containing NIfTI files\n",
        "folder_path_autism = \"/content/drive/MyDrive/Dataset_Autis/Autism\"\n",
        "folder_path_control = \"/content/drive/MyDrive/Dataset_Autis/Control\"\n",
        "\n",
        "# daftar file .nii.gz dari folder1\n",
        "files1 = [os.path.join(folder_path_autism, f) for f in os.listdir(folder_path_autism) if f.endswith('.nii.gz')]\n",
        "\n",
        "# daftar file .nii.gz dari folder2\n",
        "files2 = [os.path.join(folder_path_control, f) for f in os.listdir(folder_path_control) if f.endswith('.nii.gz')]\n",
        "\n",
        "# Load images from the two folders\n",
        "images1 = [nib.load(f) for f in files1]\n",
        "images2 = [nib.load(f) for f in files2]"
      ]
    },
    {
      "cell_type": "code",
      "execution_count": 19,
      "metadata": {
        "id": "m0OLgYXTHamh"
      },
      "outputs": [],
      "source": [
        "# Combine the two sets of images\n",
        "dataf = images1 + images2\n",
        "\n",
        "# Generate labels for the images\n",
        "labels = [1] * len(images1) + [0] * len(images2)"
      ]
    },
    {
      "cell_type": "markdown",
      "metadata": {
        "id": "WIA951d9DQ28"
      },
      "source": [
        "#### Data Conversion from 3D to 2D and introduce 3 channels (RGB) because the predefined model always takes 2D images with 3 channels in Keras."
      ]
    },
    {
      "cell_type": "code",
      "execution_count": 20,
      "metadata": {
        "id": "XU9NK1zqDQ29"
      },
      "outputs": [],
      "source": [
        "# create an empty list to store the slice data\n",
        "slice_list = []\n",
        "\n",
        "# loop over the images and convert to 2D\n",
        "for img in images1 + images2:\n",
        "    # get the image data as a numpy array\n",
        "    data = img.get_fdata()\n",
        "    # select a slice to display (e.g. the middle slice along the first axis)\n",
        "    slice_idx = data.shape[0] // 2\n",
        "    # extract the 2D slice data\n",
        "    slice_data = data[slice_idx, :, :]\n",
        "    # add the slice data to the list\n",
        "    slice_list.append(slice_data)"
      ]
    },
    {
      "cell_type": "code",
      "execution_count": 21,
      "metadata": {
        "colab": {
          "base_uri": "https://localhost:8080/"
        },
        "id": "1lVBulaX9lnw",
        "outputId": "1a055a98-ae96-4b82-d2a4-c7317a062e3e"
      },
      "outputs": [
        {
          "output_type": "execute_result",
          "data": {
            "text/plain": [
              "1102"
            ]
          },
          "metadata": {},
          "execution_count": 21
        }
      ],
      "source": [
        "len(slice_list)"
      ]
    },
    {
      "cell_type": "code",
      "execution_count": 22,
      "metadata": {
        "id": "7aBhwMHVQ6UX"
      },
      "outputs": [],
      "source": [
        "data_array = np.array(slice_list)"
      ]
    },
    {
      "cell_type": "code",
      "execution_count": 23,
      "metadata": {
        "colab": {
          "base_uri": "https://localhost:8080/"
        },
        "id": "ysldCA8RRWev",
        "outputId": "3f5a5d5a-efed-4dc0-e58f-f53d1ccfa702"
      },
      "outputs": [
        {
          "output_type": "execute_result",
          "data": {
            "text/plain": [
              "(1102, 73, 61)"
            ]
          },
          "metadata": {},
          "execution_count": 23
        }
      ],
      "source": [
        "data_array.shape"
      ]
    },
    {
      "cell_type": "markdown",
      "metadata": {
        "id": "h6ZUEmVmA4pC"
      },
      "source": [
        "#Turn to RGB"
      ]
    },
    {
      "cell_type": "code",
      "execution_count": 24,
      "metadata": {
        "id": "hZN05Y2FRg8H"
      },
      "outputs": [],
      "source": [
        "data_image=np.stack([data_array]*3, axis=-1)"
      ]
    },
    {
      "cell_type": "code",
      "execution_count": 25,
      "metadata": {
        "colab": {
          "base_uri": "https://localhost:8080/"
        },
        "id": "f4Sm_tmnCtjI",
        "outputId": "d4841cd1-7781-4924-e3bd-88b59fee1901"
      },
      "outputs": [
        {
          "output_type": "execute_result",
          "data": {
            "text/plain": [
              "(1102, 73, 61, 3)"
            ]
          },
          "metadata": {},
          "execution_count": 25
        }
      ],
      "source": [
        "data_image.shape"
      ]
    },
    {
      "cell_type": "markdown",
      "metadata": {
        "id": "1ZMFRJsGDQ2-"
      },
      "source": [
        "#### Split the data into train and test in the 70:30 ratio."
      ]
    },
    {
      "cell_type": "code",
      "execution_count": 26,
      "metadata": {
        "id": "IVfgFfp7DQ2-"
      },
      "outputs": [],
      "source": [
        "x_train, x_test, y_train, y_test = train_test_split(data_image, labels, test_size=0.4)\n",
        "y_train=np.array(y_train)\n",
        "\n",
        "\n",
        "input_shape = (73, 61,3)\n",
        "x_train = x_train.astype('float32')\n",
        "y_train = keras.utils.to_categorical(y_train)\n",
        "y_old_test=y_test\n",
        "y_test = keras.utils.to_categorical(y_test)\n"
      ]
    },
    {
      "cell_type": "markdown",
      "metadata": {
        "id": "3iKy-atpDQ2-"
      },
      "source": [
        "#### Use the ResNet50 model. "
      ]
    },
    {
      "cell_type": "code",
      "execution_count": 27,
      "metadata": {
        "id": "6peMpAriSzlC"
      },
      "outputs": [],
      "source": [
        "from keras.layers import Dropout, Flatten, Dense\n",
        "from keras.applications import ResNet50\n",
        "\n",
        "# Load the ResNet50 model\n",
        "base_model = ResNet50(weights='imagenet', include_top=False, input_shape=input_shape)\n",
        "\n",
        "# Freeze the layers of the base model\n",
        "for layer in base_model.layers:\n",
        "    layer.trainable = False\n",
        "\n",
        "# Add custom layers on top of the base model\n",
        "x = base_model.output\n",
        "x = Flatten()(x)\n",
        "x = Dense(64, activation='relu')(x)\n",
        "x = Dropout(0.3)(x)  # Add a dropout layer with dropout rate of 0.5\n",
        "predictions = Dense(2, activation='softmax')(x)\n",
        "\n",
        "# Create the model\n",
        "model = Model(inputs=base_model.input, outputs=predictions)"
      ]
    },
    {
      "cell_type": "code",
      "execution_count": 28,
      "metadata": {
        "id": "M1weCwbaDQ2-"
      },
      "outputs": [],
      "source": [
        "model = applications.ResNet50(weights = \"imagenet\", include_top=False, input_shape =input_shape)\n",
        "\n",
        "\n",
        "# Freeze the layers which you don't want to train. Here I am not freezing any layer.\n",
        "for layer in model.layers:\n",
        "    layer.trainable = True\n",
        "#Adding custom Layers \n",
        "x = model.output\n",
        "x = Flatten()(x)\n",
        "x = Dense(16, activation=\"relu\")(x)\n",
        "predictions = Dense(2, activation=\"softmax\")(x)\n",
        "model= Model(inputs = model.input, outputs = predictions)"
      ]
    },
    {
      "cell_type": "code",
      "execution_count": 29,
      "metadata": {
        "colab": {
          "base_uri": "https://localhost:8080/"
        },
        "id": "DfdtXK7PDQ2-",
        "outputId": "decae1bc-f109-4b69-b967-8b531a4d3198"
      },
      "outputs": [
        {
          "output_type": "stream",
          "name": "stdout",
          "text": [
            "Model: \"model_3\"\n",
            "__________________________________________________________________________________________________\n",
            " Layer (type)                   Output Shape         Param #     Connected to                     \n",
            "==================================================================================================\n",
            " input_4 (InputLayer)           [(None, 73, 61, 3)]  0           []                               \n",
            "                                                                                                  \n",
            " conv1_pad (ZeroPadding2D)      (None, 79, 67, 3)    0           ['input_4[0][0]']                \n",
            "                                                                                                  \n",
            " conv1_conv (Conv2D)            (None, 37, 31, 64)   9472        ['conv1_pad[0][0]']              \n",
            "                                                                                                  \n",
            " conv1_bn (BatchNormalization)  (None, 37, 31, 64)   256         ['conv1_conv[0][0]']             \n",
            "                                                                                                  \n",
            " conv1_relu (Activation)        (None, 37, 31, 64)   0           ['conv1_bn[0][0]']               \n",
            "                                                                                                  \n",
            " pool1_pad (ZeroPadding2D)      (None, 39, 33, 64)   0           ['conv1_relu[0][0]']             \n",
            "                                                                                                  \n",
            " pool1_pool (MaxPooling2D)      (None, 19, 16, 64)   0           ['pool1_pad[0][0]']              \n",
            "                                                                                                  \n",
            " conv2_block1_1_conv (Conv2D)   (None, 19, 16, 64)   4160        ['pool1_pool[0][0]']             \n",
            "                                                                                                  \n",
            " conv2_block1_1_bn (BatchNormal  (None, 19, 16, 64)  256         ['conv2_block1_1_conv[0][0]']    \n",
            " ization)                                                                                         \n",
            "                                                                                                  \n",
            " conv2_block1_1_relu (Activatio  (None, 19, 16, 64)  0           ['conv2_block1_1_bn[0][0]']      \n",
            " n)                                                                                               \n",
            "                                                                                                  \n",
            " conv2_block1_2_conv (Conv2D)   (None, 19, 16, 64)   36928       ['conv2_block1_1_relu[0][0]']    \n",
            "                                                                                                  \n",
            " conv2_block1_2_bn (BatchNormal  (None, 19, 16, 64)  256         ['conv2_block1_2_conv[0][0]']    \n",
            " ization)                                                                                         \n",
            "                                                                                                  \n",
            " conv2_block1_2_relu (Activatio  (None, 19, 16, 64)  0           ['conv2_block1_2_bn[0][0]']      \n",
            " n)                                                                                               \n",
            "                                                                                                  \n",
            " conv2_block1_0_conv (Conv2D)   (None, 19, 16, 256)  16640       ['pool1_pool[0][0]']             \n",
            "                                                                                                  \n",
            " conv2_block1_3_conv (Conv2D)   (None, 19, 16, 256)  16640       ['conv2_block1_2_relu[0][0]']    \n",
            "                                                                                                  \n",
            " conv2_block1_0_bn (BatchNormal  (None, 19, 16, 256)  1024       ['conv2_block1_0_conv[0][0]']    \n",
            " ization)                                                                                         \n",
            "                                                                                                  \n",
            " conv2_block1_3_bn (BatchNormal  (None, 19, 16, 256)  1024       ['conv2_block1_3_conv[0][0]']    \n",
            " ization)                                                                                         \n",
            "                                                                                                  \n",
            " conv2_block1_add (Add)         (None, 19, 16, 256)  0           ['conv2_block1_0_bn[0][0]',      \n",
            "                                                                  'conv2_block1_3_bn[0][0]']      \n",
            "                                                                                                  \n",
            " conv2_block1_out (Activation)  (None, 19, 16, 256)  0           ['conv2_block1_add[0][0]']       \n",
            "                                                                                                  \n",
            " conv2_block2_1_conv (Conv2D)   (None, 19, 16, 64)   16448       ['conv2_block1_out[0][0]']       \n",
            "                                                                                                  \n",
            " conv2_block2_1_bn (BatchNormal  (None, 19, 16, 64)  256         ['conv2_block2_1_conv[0][0]']    \n",
            " ization)                                                                                         \n",
            "                                                                                                  \n",
            " conv2_block2_1_relu (Activatio  (None, 19, 16, 64)  0           ['conv2_block2_1_bn[0][0]']      \n",
            " n)                                                                                               \n",
            "                                                                                                  \n",
            " conv2_block2_2_conv (Conv2D)   (None, 19, 16, 64)   36928       ['conv2_block2_1_relu[0][0]']    \n",
            "                                                                                                  \n",
            " conv2_block2_2_bn (BatchNormal  (None, 19, 16, 64)  256         ['conv2_block2_2_conv[0][0]']    \n",
            " ization)                                                                                         \n",
            "                                                                                                  \n",
            " conv2_block2_2_relu (Activatio  (None, 19, 16, 64)  0           ['conv2_block2_2_bn[0][0]']      \n",
            " n)                                                                                               \n",
            "                                                                                                  \n",
            " conv2_block2_3_conv (Conv2D)   (None, 19, 16, 256)  16640       ['conv2_block2_2_relu[0][0]']    \n",
            "                                                                                                  \n",
            " conv2_block2_3_bn (BatchNormal  (None, 19, 16, 256)  1024       ['conv2_block2_3_conv[0][0]']    \n",
            " ization)                                                                                         \n",
            "                                                                                                  \n",
            " conv2_block2_add (Add)         (None, 19, 16, 256)  0           ['conv2_block1_out[0][0]',       \n",
            "                                                                  'conv2_block2_3_bn[0][0]']      \n",
            "                                                                                                  \n",
            " conv2_block2_out (Activation)  (None, 19, 16, 256)  0           ['conv2_block2_add[0][0]']       \n",
            "                                                                                                  \n",
            " conv2_block3_1_conv (Conv2D)   (None, 19, 16, 64)   16448       ['conv2_block2_out[0][0]']       \n",
            "                                                                                                  \n",
            " conv2_block3_1_bn (BatchNormal  (None, 19, 16, 64)  256         ['conv2_block3_1_conv[0][0]']    \n",
            " ization)                                                                                         \n",
            "                                                                                                  \n",
            " conv2_block3_1_relu (Activatio  (None, 19, 16, 64)  0           ['conv2_block3_1_bn[0][0]']      \n",
            " n)                                                                                               \n",
            "                                                                                                  \n",
            " conv2_block3_2_conv (Conv2D)   (None, 19, 16, 64)   36928       ['conv2_block3_1_relu[0][0]']    \n",
            "                                                                                                  \n",
            " conv2_block3_2_bn (BatchNormal  (None, 19, 16, 64)  256         ['conv2_block3_2_conv[0][0]']    \n",
            " ization)                                                                                         \n",
            "                                                                                                  \n",
            " conv2_block3_2_relu (Activatio  (None, 19, 16, 64)  0           ['conv2_block3_2_bn[0][0]']      \n",
            " n)                                                                                               \n",
            "                                                                                                  \n",
            " conv2_block3_3_conv (Conv2D)   (None, 19, 16, 256)  16640       ['conv2_block3_2_relu[0][0]']    \n",
            "                                                                                                  \n",
            " conv2_block3_3_bn (BatchNormal  (None, 19, 16, 256)  1024       ['conv2_block3_3_conv[0][0]']    \n",
            " ization)                                                                                         \n",
            "                                                                                                  \n",
            " conv2_block3_add (Add)         (None, 19, 16, 256)  0           ['conv2_block2_out[0][0]',       \n",
            "                                                                  'conv2_block3_3_bn[0][0]']      \n",
            "                                                                                                  \n",
            " conv2_block3_out (Activation)  (None, 19, 16, 256)  0           ['conv2_block3_add[0][0]']       \n",
            "                                                                                                  \n",
            " conv3_block1_1_conv (Conv2D)   (None, 10, 8, 128)   32896       ['conv2_block3_out[0][0]']       \n",
            "                                                                                                  \n",
            " conv3_block1_1_bn (BatchNormal  (None, 10, 8, 128)  512         ['conv3_block1_1_conv[0][0]']    \n",
            " ization)                                                                                         \n",
            "                                                                                                  \n",
            " conv3_block1_1_relu (Activatio  (None, 10, 8, 128)  0           ['conv3_block1_1_bn[0][0]']      \n",
            " n)                                                                                               \n",
            "                                                                                                  \n",
            " conv3_block1_2_conv (Conv2D)   (None, 10, 8, 128)   147584      ['conv3_block1_1_relu[0][0]']    \n",
            "                                                                                                  \n",
            " conv3_block1_2_bn (BatchNormal  (None, 10, 8, 128)  512         ['conv3_block1_2_conv[0][0]']    \n",
            " ization)                                                                                         \n",
            "                                                                                                  \n",
            " conv3_block1_2_relu (Activatio  (None, 10, 8, 128)  0           ['conv3_block1_2_bn[0][0]']      \n",
            " n)                                                                                               \n",
            "                                                                                                  \n",
            " conv3_block1_0_conv (Conv2D)   (None, 10, 8, 512)   131584      ['conv2_block3_out[0][0]']       \n",
            "                                                                                                  \n",
            " conv3_block1_3_conv (Conv2D)   (None, 10, 8, 512)   66048       ['conv3_block1_2_relu[0][0]']    \n",
            "                                                                                                  \n",
            " conv3_block1_0_bn (BatchNormal  (None, 10, 8, 512)  2048        ['conv3_block1_0_conv[0][0]']    \n",
            " ization)                                                                                         \n",
            "                                                                                                  \n",
            " conv3_block1_3_bn (BatchNormal  (None, 10, 8, 512)  2048        ['conv3_block1_3_conv[0][0]']    \n",
            " ization)                                                                                         \n",
            "                                                                                                  \n",
            " conv3_block1_add (Add)         (None, 10, 8, 512)   0           ['conv3_block1_0_bn[0][0]',      \n",
            "                                                                  'conv3_block1_3_bn[0][0]']      \n",
            "                                                                                                  \n",
            " conv3_block1_out (Activation)  (None, 10, 8, 512)   0           ['conv3_block1_add[0][0]']       \n",
            "                                                                                                  \n",
            " conv3_block2_1_conv (Conv2D)   (None, 10, 8, 128)   65664       ['conv3_block1_out[0][0]']       \n",
            "                                                                                                  \n",
            " conv3_block2_1_bn (BatchNormal  (None, 10, 8, 128)  512         ['conv3_block2_1_conv[0][0]']    \n",
            " ization)                                                                                         \n",
            "                                                                                                  \n",
            " conv3_block2_1_relu (Activatio  (None, 10, 8, 128)  0           ['conv3_block2_1_bn[0][0]']      \n",
            " n)                                                                                               \n",
            "                                                                                                  \n",
            " conv3_block2_2_conv (Conv2D)   (None, 10, 8, 128)   147584      ['conv3_block2_1_relu[0][0]']    \n",
            "                                                                                                  \n",
            " conv3_block2_2_bn (BatchNormal  (None, 10, 8, 128)  512         ['conv3_block2_2_conv[0][0]']    \n",
            " ization)                                                                                         \n",
            "                                                                                                  \n",
            " conv3_block2_2_relu (Activatio  (None, 10, 8, 128)  0           ['conv3_block2_2_bn[0][0]']      \n",
            " n)                                                                                               \n",
            "                                                                                                  \n",
            " conv3_block2_3_conv (Conv2D)   (None, 10, 8, 512)   66048       ['conv3_block2_2_relu[0][0]']    \n",
            "                                                                                                  \n",
            " conv3_block2_3_bn (BatchNormal  (None, 10, 8, 512)  2048        ['conv3_block2_3_conv[0][0]']    \n",
            " ization)                                                                                         \n",
            "                                                                                                  \n",
            " conv3_block2_add (Add)         (None, 10, 8, 512)   0           ['conv3_block1_out[0][0]',       \n",
            "                                                                  'conv3_block2_3_bn[0][0]']      \n",
            "                                                                                                  \n",
            " conv3_block2_out (Activation)  (None, 10, 8, 512)   0           ['conv3_block2_add[0][0]']       \n",
            "                                                                                                  \n",
            " conv3_block3_1_conv (Conv2D)   (None, 10, 8, 128)   65664       ['conv3_block2_out[0][0]']       \n",
            "                                                                                                  \n",
            " conv3_block3_1_bn (BatchNormal  (None, 10, 8, 128)  512         ['conv3_block3_1_conv[0][0]']    \n",
            " ization)                                                                                         \n",
            "                                                                                                  \n",
            " conv3_block3_1_relu (Activatio  (None, 10, 8, 128)  0           ['conv3_block3_1_bn[0][0]']      \n",
            " n)                                                                                               \n",
            "                                                                                                  \n",
            " conv3_block3_2_conv (Conv2D)   (None, 10, 8, 128)   147584      ['conv3_block3_1_relu[0][0]']    \n",
            "                                                                                                  \n",
            " conv3_block3_2_bn (BatchNormal  (None, 10, 8, 128)  512         ['conv3_block3_2_conv[0][0]']    \n",
            " ization)                                                                                         \n",
            "                                                                                                  \n",
            " conv3_block3_2_relu (Activatio  (None, 10, 8, 128)  0           ['conv3_block3_2_bn[0][0]']      \n",
            " n)                                                                                               \n",
            "                                                                                                  \n",
            " conv3_block3_3_conv (Conv2D)   (None, 10, 8, 512)   66048       ['conv3_block3_2_relu[0][0]']    \n",
            "                                                                                                  \n",
            " conv3_block3_3_bn (BatchNormal  (None, 10, 8, 512)  2048        ['conv3_block3_3_conv[0][0]']    \n",
            " ization)                                                                                         \n",
            "                                                                                                  \n",
            " conv3_block3_add (Add)         (None, 10, 8, 512)   0           ['conv3_block2_out[0][0]',       \n",
            "                                                                  'conv3_block3_3_bn[0][0]']      \n",
            "                                                                                                  \n",
            " conv3_block3_out (Activation)  (None, 10, 8, 512)   0           ['conv3_block3_add[0][0]']       \n",
            "                                                                                                  \n",
            " conv3_block4_1_conv (Conv2D)   (None, 10, 8, 128)   65664       ['conv3_block3_out[0][0]']       \n",
            "                                                                                                  \n",
            " conv3_block4_1_bn (BatchNormal  (None, 10, 8, 128)  512         ['conv3_block4_1_conv[0][0]']    \n",
            " ization)                                                                                         \n",
            "                                                                                                  \n",
            " conv3_block4_1_relu (Activatio  (None, 10, 8, 128)  0           ['conv3_block4_1_bn[0][0]']      \n",
            " n)                                                                                               \n",
            "                                                                                                  \n",
            " conv3_block4_2_conv (Conv2D)   (None, 10, 8, 128)   147584      ['conv3_block4_1_relu[0][0]']    \n",
            "                                                                                                  \n",
            " conv3_block4_2_bn (BatchNormal  (None, 10, 8, 128)  512         ['conv3_block4_2_conv[0][0]']    \n",
            " ization)                                                                                         \n",
            "                                                                                                  \n",
            " conv3_block4_2_relu (Activatio  (None, 10, 8, 128)  0           ['conv3_block4_2_bn[0][0]']      \n",
            " n)                                                                                               \n",
            "                                                                                                  \n",
            " conv3_block4_3_conv (Conv2D)   (None, 10, 8, 512)   66048       ['conv3_block4_2_relu[0][0]']    \n",
            "                                                                                                  \n",
            " conv3_block4_3_bn (BatchNormal  (None, 10, 8, 512)  2048        ['conv3_block4_3_conv[0][0]']    \n",
            " ization)                                                                                         \n",
            "                                                                                                  \n",
            " conv3_block4_add (Add)         (None, 10, 8, 512)   0           ['conv3_block3_out[0][0]',       \n",
            "                                                                  'conv3_block4_3_bn[0][0]']      \n",
            "                                                                                                  \n",
            " conv3_block4_out (Activation)  (None, 10, 8, 512)   0           ['conv3_block4_add[0][0]']       \n",
            "                                                                                                  \n",
            " conv4_block1_1_conv (Conv2D)   (None, 5, 4, 256)    131328      ['conv3_block4_out[0][0]']       \n",
            "                                                                                                  \n",
            " conv4_block1_1_bn (BatchNormal  (None, 5, 4, 256)   1024        ['conv4_block1_1_conv[0][0]']    \n",
            " ization)                                                                                         \n",
            "                                                                                                  \n",
            " conv4_block1_1_relu (Activatio  (None, 5, 4, 256)   0           ['conv4_block1_1_bn[0][0]']      \n",
            " n)                                                                                               \n",
            "                                                                                                  \n",
            " conv4_block1_2_conv (Conv2D)   (None, 5, 4, 256)    590080      ['conv4_block1_1_relu[0][0]']    \n",
            "                                                                                                  \n",
            " conv4_block1_2_bn (BatchNormal  (None, 5, 4, 256)   1024        ['conv4_block1_2_conv[0][0]']    \n",
            " ization)                                                                                         \n",
            "                                                                                                  \n",
            " conv4_block1_2_relu (Activatio  (None, 5, 4, 256)   0           ['conv4_block1_2_bn[0][0]']      \n",
            " n)                                                                                               \n",
            "                                                                                                  \n",
            " conv4_block1_0_conv (Conv2D)   (None, 5, 4, 1024)   525312      ['conv3_block4_out[0][0]']       \n",
            "                                                                                                  \n",
            " conv4_block1_3_conv (Conv2D)   (None, 5, 4, 1024)   263168      ['conv4_block1_2_relu[0][0]']    \n",
            "                                                                                                  \n",
            " conv4_block1_0_bn (BatchNormal  (None, 5, 4, 1024)  4096        ['conv4_block1_0_conv[0][0]']    \n",
            " ization)                                                                                         \n",
            "                                                                                                  \n",
            " conv4_block1_3_bn (BatchNormal  (None, 5, 4, 1024)  4096        ['conv4_block1_3_conv[0][0]']    \n",
            " ization)                                                                                         \n",
            "                                                                                                  \n",
            " conv4_block1_add (Add)         (None, 5, 4, 1024)   0           ['conv4_block1_0_bn[0][0]',      \n",
            "                                                                  'conv4_block1_3_bn[0][0]']      \n",
            "                                                                                                  \n",
            " conv4_block1_out (Activation)  (None, 5, 4, 1024)   0           ['conv4_block1_add[0][0]']       \n",
            "                                                                                                  \n",
            " conv4_block2_1_conv (Conv2D)   (None, 5, 4, 256)    262400      ['conv4_block1_out[0][0]']       \n",
            "                                                                                                  \n",
            " conv4_block2_1_bn (BatchNormal  (None, 5, 4, 256)   1024        ['conv4_block2_1_conv[0][0]']    \n",
            " ization)                                                                                         \n",
            "                                                                                                  \n",
            " conv4_block2_1_relu (Activatio  (None, 5, 4, 256)   0           ['conv4_block2_1_bn[0][0]']      \n",
            " n)                                                                                               \n",
            "                                                                                                  \n",
            " conv4_block2_2_conv (Conv2D)   (None, 5, 4, 256)    590080      ['conv4_block2_1_relu[0][0]']    \n",
            "                                                                                                  \n",
            " conv4_block2_2_bn (BatchNormal  (None, 5, 4, 256)   1024        ['conv4_block2_2_conv[0][0]']    \n",
            " ization)                                                                                         \n",
            "                                                                                                  \n",
            " conv4_block2_2_relu (Activatio  (None, 5, 4, 256)   0           ['conv4_block2_2_bn[0][0]']      \n",
            " n)                                                                                               \n",
            "                                                                                                  \n",
            " conv4_block2_3_conv (Conv2D)   (None, 5, 4, 1024)   263168      ['conv4_block2_2_relu[0][0]']    \n",
            "                                                                                                  \n",
            " conv4_block2_3_bn (BatchNormal  (None, 5, 4, 1024)  4096        ['conv4_block2_3_conv[0][0]']    \n",
            " ization)                                                                                         \n",
            "                                                                                                  \n",
            " conv4_block2_add (Add)         (None, 5, 4, 1024)   0           ['conv4_block1_out[0][0]',       \n",
            "                                                                  'conv4_block2_3_bn[0][0]']      \n",
            "                                                                                                  \n",
            " conv4_block2_out (Activation)  (None, 5, 4, 1024)   0           ['conv4_block2_add[0][0]']       \n",
            "                                                                                                  \n",
            " conv4_block3_1_conv (Conv2D)   (None, 5, 4, 256)    262400      ['conv4_block2_out[0][0]']       \n",
            "                                                                                                  \n",
            " conv4_block3_1_bn (BatchNormal  (None, 5, 4, 256)   1024        ['conv4_block3_1_conv[0][0]']    \n",
            " ization)                                                                                         \n",
            "                                                                                                  \n",
            " conv4_block3_1_relu (Activatio  (None, 5, 4, 256)   0           ['conv4_block3_1_bn[0][0]']      \n",
            " n)                                                                                               \n",
            "                                                                                                  \n",
            " conv4_block3_2_conv (Conv2D)   (None, 5, 4, 256)    590080      ['conv4_block3_1_relu[0][0]']    \n",
            "                                                                                                  \n",
            " conv4_block3_2_bn (BatchNormal  (None, 5, 4, 256)   1024        ['conv4_block3_2_conv[0][0]']    \n",
            " ization)                                                                                         \n",
            "                                                                                                  \n",
            " conv4_block3_2_relu (Activatio  (None, 5, 4, 256)   0           ['conv4_block3_2_bn[0][0]']      \n",
            " n)                                                                                               \n",
            "                                                                                                  \n",
            " conv4_block3_3_conv (Conv2D)   (None, 5, 4, 1024)   263168      ['conv4_block3_2_relu[0][0]']    \n",
            "                                                                                                  \n",
            " conv4_block3_3_bn (BatchNormal  (None, 5, 4, 1024)  4096        ['conv4_block3_3_conv[0][0]']    \n",
            " ization)                                                                                         \n",
            "                                                                                                  \n",
            " conv4_block3_add (Add)         (None, 5, 4, 1024)   0           ['conv4_block2_out[0][0]',       \n",
            "                                                                  'conv4_block3_3_bn[0][0]']      \n",
            "                                                                                                  \n",
            " conv4_block3_out (Activation)  (None, 5, 4, 1024)   0           ['conv4_block3_add[0][0]']       \n",
            "                                                                                                  \n",
            " conv4_block4_1_conv (Conv2D)   (None, 5, 4, 256)    262400      ['conv4_block3_out[0][0]']       \n",
            "                                                                                                  \n",
            " conv4_block4_1_bn (BatchNormal  (None, 5, 4, 256)   1024        ['conv4_block4_1_conv[0][0]']    \n",
            " ization)                                                                                         \n",
            "                                                                                                  \n",
            " conv4_block4_1_relu (Activatio  (None, 5, 4, 256)   0           ['conv4_block4_1_bn[0][0]']      \n",
            " n)                                                                                               \n",
            "                                                                                                  \n",
            " conv4_block4_2_conv (Conv2D)   (None, 5, 4, 256)    590080      ['conv4_block4_1_relu[0][0]']    \n",
            "                                                                                                  \n",
            " conv4_block4_2_bn (BatchNormal  (None, 5, 4, 256)   1024        ['conv4_block4_2_conv[0][0]']    \n",
            " ization)                                                                                         \n",
            "                                                                                                  \n",
            " conv4_block4_2_relu (Activatio  (None, 5, 4, 256)   0           ['conv4_block4_2_bn[0][0]']      \n",
            " n)                                                                                               \n",
            "                                                                                                  \n",
            " conv4_block4_3_conv (Conv2D)   (None, 5, 4, 1024)   263168      ['conv4_block4_2_relu[0][0]']    \n",
            "                                                                                                  \n",
            " conv4_block4_3_bn (BatchNormal  (None, 5, 4, 1024)  4096        ['conv4_block4_3_conv[0][0]']    \n",
            " ization)                                                                                         \n",
            "                                                                                                  \n",
            " conv4_block4_add (Add)         (None, 5, 4, 1024)   0           ['conv4_block3_out[0][0]',       \n",
            "                                                                  'conv4_block4_3_bn[0][0]']      \n",
            "                                                                                                  \n",
            " conv4_block4_out (Activation)  (None, 5, 4, 1024)   0           ['conv4_block4_add[0][0]']       \n",
            "                                                                                                  \n",
            " conv4_block5_1_conv (Conv2D)   (None, 5, 4, 256)    262400      ['conv4_block4_out[0][0]']       \n",
            "                                                                                                  \n",
            " conv4_block5_1_bn (BatchNormal  (None, 5, 4, 256)   1024        ['conv4_block5_1_conv[0][0]']    \n",
            " ization)                                                                                         \n",
            "                                                                                                  \n",
            " conv4_block5_1_relu (Activatio  (None, 5, 4, 256)   0           ['conv4_block5_1_bn[0][0]']      \n",
            " n)                                                                                               \n",
            "                                                                                                  \n",
            " conv4_block5_2_conv (Conv2D)   (None, 5, 4, 256)    590080      ['conv4_block5_1_relu[0][0]']    \n",
            "                                                                                                  \n",
            " conv4_block5_2_bn (BatchNormal  (None, 5, 4, 256)   1024        ['conv4_block5_2_conv[0][0]']    \n",
            " ization)                                                                                         \n",
            "                                                                                                  \n",
            " conv4_block5_2_relu (Activatio  (None, 5, 4, 256)   0           ['conv4_block5_2_bn[0][0]']      \n",
            " n)                                                                                               \n",
            "                                                                                                  \n",
            " conv4_block5_3_conv (Conv2D)   (None, 5, 4, 1024)   263168      ['conv4_block5_2_relu[0][0]']    \n",
            "                                                                                                  \n",
            " conv4_block5_3_bn (BatchNormal  (None, 5, 4, 1024)  4096        ['conv4_block5_3_conv[0][0]']    \n",
            " ization)                                                                                         \n",
            "                                                                                                  \n",
            " conv4_block5_add (Add)         (None, 5, 4, 1024)   0           ['conv4_block4_out[0][0]',       \n",
            "                                                                  'conv4_block5_3_bn[0][0]']      \n",
            "                                                                                                  \n",
            " conv4_block5_out (Activation)  (None, 5, 4, 1024)   0           ['conv4_block5_add[0][0]']       \n",
            "                                                                                                  \n",
            " conv4_block6_1_conv (Conv2D)   (None, 5, 4, 256)    262400      ['conv4_block5_out[0][0]']       \n",
            "                                                                                                  \n",
            " conv4_block6_1_bn (BatchNormal  (None, 5, 4, 256)   1024        ['conv4_block6_1_conv[0][0]']    \n",
            " ization)                                                                                         \n",
            "                                                                                                  \n",
            " conv4_block6_1_relu (Activatio  (None, 5, 4, 256)   0           ['conv4_block6_1_bn[0][0]']      \n",
            " n)                                                                                               \n",
            "                                                                                                  \n",
            " conv4_block6_2_conv (Conv2D)   (None, 5, 4, 256)    590080      ['conv4_block6_1_relu[0][0]']    \n",
            "                                                                                                  \n",
            " conv4_block6_2_bn (BatchNormal  (None, 5, 4, 256)   1024        ['conv4_block6_2_conv[0][0]']    \n",
            " ization)                                                                                         \n",
            "                                                                                                  \n",
            " conv4_block6_2_relu (Activatio  (None, 5, 4, 256)   0           ['conv4_block6_2_bn[0][0]']      \n",
            " n)                                                                                               \n",
            "                                                                                                  \n",
            " conv4_block6_3_conv (Conv2D)   (None, 5, 4, 1024)   263168      ['conv4_block6_2_relu[0][0]']    \n",
            "                                                                                                  \n",
            " conv4_block6_3_bn (BatchNormal  (None, 5, 4, 1024)  4096        ['conv4_block6_3_conv[0][0]']    \n",
            " ization)                                                                                         \n",
            "                                                                                                  \n",
            " conv4_block6_add (Add)         (None, 5, 4, 1024)   0           ['conv4_block5_out[0][0]',       \n",
            "                                                                  'conv4_block6_3_bn[0][0]']      \n",
            "                                                                                                  \n",
            " conv4_block6_out (Activation)  (None, 5, 4, 1024)   0           ['conv4_block6_add[0][0]']       \n",
            "                                                                                                  \n",
            " conv5_block1_1_conv (Conv2D)   (None, 3, 2, 512)    524800      ['conv4_block6_out[0][0]']       \n",
            "                                                                                                  \n",
            " conv5_block1_1_bn (BatchNormal  (None, 3, 2, 512)   2048        ['conv5_block1_1_conv[0][0]']    \n",
            " ization)                                                                                         \n",
            "                                                                                                  \n",
            " conv5_block1_1_relu (Activatio  (None, 3, 2, 512)   0           ['conv5_block1_1_bn[0][0]']      \n",
            " n)                                                                                               \n",
            "                                                                                                  \n",
            " conv5_block1_2_conv (Conv2D)   (None, 3, 2, 512)    2359808     ['conv5_block1_1_relu[0][0]']    \n",
            "                                                                                                  \n",
            " conv5_block1_2_bn (BatchNormal  (None, 3, 2, 512)   2048        ['conv5_block1_2_conv[0][0]']    \n",
            " ization)                                                                                         \n",
            "                                                                                                  \n",
            " conv5_block1_2_relu (Activatio  (None, 3, 2, 512)   0           ['conv5_block1_2_bn[0][0]']      \n",
            " n)                                                                                               \n",
            "                                                                                                  \n",
            " conv5_block1_0_conv (Conv2D)   (None, 3, 2, 2048)   2099200     ['conv4_block6_out[0][0]']       \n",
            "                                                                                                  \n",
            " conv5_block1_3_conv (Conv2D)   (None, 3, 2, 2048)   1050624     ['conv5_block1_2_relu[0][0]']    \n",
            "                                                                                                  \n",
            " conv5_block1_0_bn (BatchNormal  (None, 3, 2, 2048)  8192        ['conv5_block1_0_conv[0][0]']    \n",
            " ization)                                                                                         \n",
            "                                                                                                  \n",
            " conv5_block1_3_bn (BatchNormal  (None, 3, 2, 2048)  8192        ['conv5_block1_3_conv[0][0]']    \n",
            " ization)                                                                                         \n",
            "                                                                                                  \n",
            " conv5_block1_add (Add)         (None, 3, 2, 2048)   0           ['conv5_block1_0_bn[0][0]',      \n",
            "                                                                  'conv5_block1_3_bn[0][0]']      \n",
            "                                                                                                  \n",
            " conv5_block1_out (Activation)  (None, 3, 2, 2048)   0           ['conv5_block1_add[0][0]']       \n",
            "                                                                                                  \n",
            " conv5_block2_1_conv (Conv2D)   (None, 3, 2, 512)    1049088     ['conv5_block1_out[0][0]']       \n",
            "                                                                                                  \n",
            " conv5_block2_1_bn (BatchNormal  (None, 3, 2, 512)   2048        ['conv5_block2_1_conv[0][0]']    \n",
            " ization)                                                                                         \n",
            "                                                                                                  \n",
            " conv5_block2_1_relu (Activatio  (None, 3, 2, 512)   0           ['conv5_block2_1_bn[0][0]']      \n",
            " n)                                                                                               \n",
            "                                                                                                  \n",
            " conv5_block2_2_conv (Conv2D)   (None, 3, 2, 512)    2359808     ['conv5_block2_1_relu[0][0]']    \n",
            "                                                                                                  \n",
            " conv5_block2_2_bn (BatchNormal  (None, 3, 2, 512)   2048        ['conv5_block2_2_conv[0][0]']    \n",
            " ization)                                                                                         \n",
            "                                                                                                  \n",
            " conv5_block2_2_relu (Activatio  (None, 3, 2, 512)   0           ['conv5_block2_2_bn[0][0]']      \n",
            " n)                                                                                               \n",
            "                                                                                                  \n",
            " conv5_block2_3_conv (Conv2D)   (None, 3, 2, 2048)   1050624     ['conv5_block2_2_relu[0][0]']    \n",
            "                                                                                                  \n",
            " conv5_block2_3_bn (BatchNormal  (None, 3, 2, 2048)  8192        ['conv5_block2_3_conv[0][0]']    \n",
            " ization)                                                                                         \n",
            "                                                                                                  \n",
            " conv5_block2_add (Add)         (None, 3, 2, 2048)   0           ['conv5_block1_out[0][0]',       \n",
            "                                                                  'conv5_block2_3_bn[0][0]']      \n",
            "                                                                                                  \n",
            " conv5_block2_out (Activation)  (None, 3, 2, 2048)   0           ['conv5_block2_add[0][0]']       \n",
            "                                                                                                  \n",
            " conv5_block3_1_conv (Conv2D)   (None, 3, 2, 512)    1049088     ['conv5_block2_out[0][0]']       \n",
            "                                                                                                  \n",
            " conv5_block3_1_bn (BatchNormal  (None, 3, 2, 512)   2048        ['conv5_block3_1_conv[0][0]']    \n",
            " ization)                                                                                         \n",
            "                                                                                                  \n",
            " conv5_block3_1_relu (Activatio  (None, 3, 2, 512)   0           ['conv5_block3_1_bn[0][0]']      \n",
            " n)                                                                                               \n",
            "                                                                                                  \n",
            " conv5_block3_2_conv (Conv2D)   (None, 3, 2, 512)    2359808     ['conv5_block3_1_relu[0][0]']    \n",
            "                                                                                                  \n",
            " conv5_block3_2_bn (BatchNormal  (None, 3, 2, 512)   2048        ['conv5_block3_2_conv[0][0]']    \n",
            " ization)                                                                                         \n",
            "                                                                                                  \n",
            " conv5_block3_2_relu (Activatio  (None, 3, 2, 512)   0           ['conv5_block3_2_bn[0][0]']      \n",
            " n)                                                                                               \n",
            "                                                                                                  \n",
            " conv5_block3_3_conv (Conv2D)   (None, 3, 2, 2048)   1050624     ['conv5_block3_2_relu[0][0]']    \n",
            "                                                                                                  \n",
            " conv5_block3_3_bn (BatchNormal  (None, 3, 2, 2048)  8192        ['conv5_block3_3_conv[0][0]']    \n",
            " ization)                                                                                         \n",
            "                                                                                                  \n",
            " conv5_block3_add (Add)         (None, 3, 2, 2048)   0           ['conv5_block2_out[0][0]',       \n",
            "                                                                  'conv5_block3_3_bn[0][0]']      \n",
            "                                                                                                  \n",
            " conv5_block3_out (Activation)  (None, 3, 2, 2048)   0           ['conv5_block3_add[0][0]']       \n",
            "                                                                                                  \n",
            " flatten_3 (Flatten)            (None, 12288)        0           ['conv5_block3_out[0][0]']       \n",
            "                                                                                                  \n",
            " dense_6 (Dense)                (None, 16)           196624      ['flatten_3[0][0]']              \n",
            "                                                                                                  \n",
            " dense_7 (Dense)                (None, 2)            34          ['dense_6[0][0]']                \n",
            "                                                                                                  \n",
            "==================================================================================================\n",
            "Total params: 23,784,370\n",
            "Trainable params: 23,731,250\n",
            "Non-trainable params: 53,120\n",
            "__________________________________________________________________________________________________\n",
            "None\n"
          ]
        }
      ],
      "source": [
        "print(model.summary())"
      ]
    },
    {
      "cell_type": "markdown",
      "metadata": {
        "id": "tnVftuXDDQ2-"
      },
      "source": [
        "#### Compile and train the model with Adam optimizer"
      ]
    },
    {
      "cell_type": "code",
      "execution_count": 30,
      "metadata": {
        "colab": {
          "base_uri": "https://localhost:8080/"
        },
        "id": "3Wa4VsDaDQ2_",
        "scrolled": true,
        "outputId": "ed9ad5a7-d07e-4866-e767-099be94fa2ec"
      },
      "outputs": [
        {
          "output_type": "stream",
          "name": "stdout",
          "text": [
            "Epoch 1/150\n",
            "4/4 [==============================] - 55s 13s/step - loss: 2.1779 - accuracy: 0.4571 - val_loss: 0.6931 - val_accuracy: 0.5245\n",
            "Epoch 2/150\n",
            "4/4 [==============================] - 47s 12s/step - loss: 0.6931 - accuracy: 0.5152 - val_loss: 0.6931 - val_accuracy: 0.5245\n",
            "Epoch 3/150\n",
            "4/4 [==============================] - 47s 12s/step - loss: 0.6931 - accuracy: 0.5152 - val_loss: 0.6931 - val_accuracy: 0.5245\n",
            "Epoch 4/150\n",
            "4/4 [==============================] - 48s 12s/step - loss: 0.6931 - accuracy: 0.5152 - val_loss: 0.6930 - val_accuracy: 0.5245\n",
            "Epoch 5/150\n",
            "4/4 [==============================] - 49s 12s/step - loss: 0.6931 - accuracy: 0.5152 - val_loss: 0.6930 - val_accuracy: 0.5245\n",
            "Epoch 6/150\n",
            "4/4 [==============================] - 49s 13s/step - loss: 0.6930 - accuracy: 0.5152 - val_loss: 0.6930 - val_accuracy: 0.5245\n",
            "Epoch 7/150\n",
            "4/4 [==============================] - 48s 12s/step - loss: 0.6930 - accuracy: 0.5152 - val_loss: 0.6930 - val_accuracy: 0.5245\n",
            "Epoch 8/150\n",
            "4/4 [==============================] - 48s 13s/step - loss: 0.6930 - accuracy: 0.5152 - val_loss: 0.6929 - val_accuracy: 0.5245\n",
            "Epoch 9/150\n",
            "4/4 [==============================] - 48s 12s/step - loss: 0.6930 - accuracy: 0.5152 - val_loss: 0.6929 - val_accuracy: 0.5245\n",
            "Epoch 10/150\n",
            "4/4 [==============================] - 48s 13s/step - loss: 0.6930 - accuracy: 0.5152 - val_loss: 0.6929 - val_accuracy: 0.5245\n",
            "Epoch 11/150\n",
            "4/4 [==============================] - 48s 12s/step - loss: 0.6930 - accuracy: 0.5152 - val_loss: 0.6929 - val_accuracy: 0.5245\n",
            "Epoch 12/150\n",
            "4/4 [==============================] - 48s 12s/step - loss: 0.6930 - accuracy: 0.5152 - val_loss: 0.6929 - val_accuracy: 0.5245\n",
            "Epoch 13/150\n",
            "4/4 [==============================] - 46s 11s/step - loss: 0.6930 - accuracy: 0.5152 - val_loss: 0.6928 - val_accuracy: 0.5245\n",
            "Epoch 14/150\n",
            "4/4 [==============================] - 48s 12s/step - loss: 0.6930 - accuracy: 0.5152 - val_loss: 0.6928 - val_accuracy: 0.5245\n",
            "Epoch 15/150\n",
            "4/4 [==============================] - 49s 13s/step - loss: 0.6930 - accuracy: 0.5152 - val_loss: 0.6928 - val_accuracy: 0.5245\n",
            "Epoch 16/150\n",
            "4/4 [==============================] - 49s 13s/step - loss: 0.6929 - accuracy: 0.5152 - val_loss: 0.6928 - val_accuracy: 0.5245\n",
            "Epoch 17/150\n",
            "4/4 [==============================] - 48s 13s/step - loss: 0.6929 - accuracy: 0.5152 - val_loss: 0.6927 - val_accuracy: 0.5245\n",
            "Epoch 18/150\n",
            "4/4 [==============================] - 49s 13s/step - loss: 0.6929 - accuracy: 0.5152 - val_loss: 0.6927 - val_accuracy: 0.5245\n",
            "Epoch 19/150\n",
            "4/4 [==============================] - 49s 13s/step - loss: 0.6929 - accuracy: 0.5152 - val_loss: 0.6927 - val_accuracy: 0.5245\n",
            "Epoch 20/150\n",
            "4/4 [==============================] - 49s 13s/step - loss: 0.6929 - accuracy: 0.5152 - val_loss: 0.6927 - val_accuracy: 0.5245\n",
            "Epoch 21/150\n",
            "4/4 [==============================] - 49s 13s/step - loss: 0.6929 - accuracy: 0.5152 - val_loss: 0.6927 - val_accuracy: 0.5245\n",
            "Epoch 22/150\n",
            "4/4 [==============================] - 49s 13s/step - loss: 0.6929 - accuracy: 0.5152 - val_loss: 0.6927 - val_accuracy: 0.5245\n",
            "Epoch 23/150\n",
            "4/4 [==============================] - 48s 13s/step - loss: 0.6929 - accuracy: 0.5152 - val_loss: 0.6926 - val_accuracy: 0.5245\n",
            "Epoch 24/150\n",
            "4/4 [==============================] - 48s 13s/step - loss: 0.6929 - accuracy: 0.5152 - val_loss: 0.6926 - val_accuracy: 0.5245\n",
            "Epoch 25/150\n",
            "4/4 [==============================] - 47s 13s/step - loss: 0.6928 - accuracy: 0.5152 - val_loss: 0.6926 - val_accuracy: 0.5245\n",
            "Epoch 26/150\n",
            "4/4 [==============================] - 48s 12s/step - loss: 0.6929 - accuracy: 0.5152 - val_loss: 0.6926 - val_accuracy: 0.5245\n",
            "Epoch 27/150\n",
            "4/4 [==============================] - 48s 12s/step - loss: 0.6928 - accuracy: 0.5152 - val_loss: 0.6926 - val_accuracy: 0.5245\n",
            "Epoch 28/150\n",
            "4/4 [==============================] - 48s 13s/step - loss: 0.6928 - accuracy: 0.5152 - val_loss: 0.6926 - val_accuracy: 0.5245\n",
            "Epoch 29/150\n",
            "4/4 [==============================] - 48s 12s/step - loss: 0.6928 - accuracy: 0.5152 - val_loss: 0.6925 - val_accuracy: 0.5245\n",
            "Epoch 30/150\n",
            "4/4 [==============================] - 48s 12s/step - loss: 0.6928 - accuracy: 0.5152 - val_loss: 0.6925 - val_accuracy: 0.5245\n",
            "Epoch 31/150\n",
            "4/4 [==============================] - 46s 12s/step - loss: 0.6928 - accuracy: 0.5152 - val_loss: 0.6925 - val_accuracy: 0.5245\n",
            "Epoch 32/150\n",
            "4/4 [==============================] - 48s 13s/step - loss: 0.6928 - accuracy: 0.5152 - val_loss: 0.6925 - val_accuracy: 0.5245\n",
            "Epoch 33/150\n",
            "4/4 [==============================] - 49s 13s/step - loss: 0.6928 - accuracy: 0.5152 - val_loss: 0.6925 - val_accuracy: 0.5245\n",
            "Epoch 34/150\n",
            "4/4 [==============================] - 49s 13s/step - loss: 0.6928 - accuracy: 0.5152 - val_loss: 0.6925 - val_accuracy: 0.5245\n",
            "Epoch 35/150\n",
            "4/4 [==============================] - 47s 12s/step - loss: 0.6928 - accuracy: 0.5152 - val_loss: 0.6925 - val_accuracy: 0.5245\n",
            "Epoch 36/150\n",
            "4/4 [==============================] - 48s 13s/step - loss: 0.6928 - accuracy: 0.5152 - val_loss: 0.6924 - val_accuracy: 0.5245\n",
            "Epoch 37/150\n",
            "4/4 [==============================] - 48s 13s/step - loss: 0.6928 - accuracy: 0.5152 - val_loss: 0.6924 - val_accuracy: 0.5245\n",
            "Epoch 38/150\n",
            "4/4 [==============================] - 48s 13s/step - loss: 0.6928 - accuracy: 0.5152 - val_loss: 0.6924 - val_accuracy: 0.5245\n",
            "Epoch 39/150\n",
            "4/4 [==============================] - 48s 13s/step - loss: 0.6928 - accuracy: 0.5152 - val_loss: 0.6924 - val_accuracy: 0.5245\n",
            "Epoch 40/150\n",
            "4/4 [==============================] - 48s 13s/step - loss: 0.6928 - accuracy: 0.5152 - val_loss: 0.6924 - val_accuracy: 0.5245\n",
            "Epoch 41/150\n",
            "4/4 [==============================] - 48s 12s/step - loss: 0.6928 - accuracy: 0.5152 - val_loss: 0.6924 - val_accuracy: 0.5245\n",
            "Epoch 42/150\n",
            "4/4 [==============================] - 48s 12s/step - loss: 0.6928 - accuracy: 0.5152 - val_loss: 0.6924 - val_accuracy: 0.5245\n",
            "Epoch 43/150\n",
            "4/4 [==============================] - 49s 13s/step - loss: 0.6927 - accuracy: 0.5152 - val_loss: 0.6924 - val_accuracy: 0.5245\n",
            "Epoch 44/150\n",
            "4/4 [==============================] - 48s 12s/step - loss: 0.6927 - accuracy: 0.5152 - val_loss: 0.6924 - val_accuracy: 0.5245\n",
            "Epoch 45/150\n",
            "4/4 [==============================] - 48s 13s/step - loss: 0.6928 - accuracy: 0.5152 - val_loss: 0.6923 - val_accuracy: 0.5245\n",
            "Epoch 46/150\n",
            "4/4 [==============================] - 46s 12s/step - loss: 0.6927 - accuracy: 0.5152 - val_loss: 0.6923 - val_accuracy: 0.5245\n",
            "Epoch 47/150\n",
            "4/4 [==============================] - 47s 12s/step - loss: 0.6927 - accuracy: 0.5152 - val_loss: 0.6923 - val_accuracy: 0.5245\n",
            "Epoch 48/150\n",
            "4/4 [==============================] - 50s 13s/step - loss: 0.6927 - accuracy: 0.5152 - val_loss: 0.6923 - val_accuracy: 0.5245\n",
            "Epoch 49/150\n",
            "4/4 [==============================] - 49s 13s/step - loss: 0.6927 - accuracy: 0.5152 - val_loss: 0.6923 - val_accuracy: 0.5245\n",
            "Epoch 50/150\n",
            "4/4 [==============================] - 49s 13s/step - loss: 0.6927 - accuracy: 0.5152 - val_loss: 0.6923 - val_accuracy: 0.5245\n",
            "Epoch 51/150\n",
            "4/4 [==============================] - 48s 13s/step - loss: 0.6927 - accuracy: 0.5152 - val_loss: 0.6923 - val_accuracy: 0.5245\n",
            "Epoch 52/150\n",
            "4/4 [==============================] - 50s 13s/step - loss: 0.6927 - accuracy: 0.5152 - val_loss: 0.6923 - val_accuracy: 0.5245\n",
            "Epoch 53/150\n",
            "4/4 [==============================] - 48s 12s/step - loss: 0.6927 - accuracy: 0.5152 - val_loss: 0.6923 - val_accuracy: 0.5245\n",
            "Epoch 54/150\n",
            "4/4 [==============================] - 47s 12s/step - loss: 0.6927 - accuracy: 0.5152 - val_loss: 0.6923 - val_accuracy: 0.5245\n",
            "Epoch 55/150\n",
            "4/4 [==============================] - 50s 13s/step - loss: 0.6927 - accuracy: 0.5152 - val_loss: 0.6923 - val_accuracy: 0.5245\n",
            "Epoch 56/150\n",
            "4/4 [==============================] - 49s 13s/step - loss: 0.6927 - accuracy: 0.5152 - val_loss: 0.6923 - val_accuracy: 0.5245\n",
            "Epoch 57/150\n",
            "4/4 [==============================] - 48s 13s/step - loss: 0.6927 - accuracy: 0.5152 - val_loss: 0.6923 - val_accuracy: 0.5245\n",
            "Epoch 58/150\n",
            "4/4 [==============================] - 49s 13s/step - loss: 0.6927 - accuracy: 0.5152 - val_loss: 0.6923 - val_accuracy: 0.5245\n",
            "Epoch 59/150\n",
            "4/4 [==============================] - 45s 12s/step - loss: 0.6927 - accuracy: 0.5152 - val_loss: 0.6923 - val_accuracy: 0.5245\n",
            "Epoch 60/150\n",
            "4/4 [==============================] - 49s 13s/step - loss: 0.6927 - accuracy: 0.5152 - val_loss: 0.6922 - val_accuracy: 0.5245\n",
            "Epoch 61/150\n",
            "4/4 [==============================] - 49s 13s/step - loss: 0.6927 - accuracy: 0.5152 - val_loss: 0.6922 - val_accuracy: 0.5245\n",
            "Epoch 62/150\n",
            "4/4 [==============================] - 49s 13s/step - loss: 0.6927 - accuracy: 0.5152 - val_loss: 0.6922 - val_accuracy: 0.5245\n",
            "Epoch 63/150\n",
            "4/4 [==============================] - 48s 13s/step - loss: 0.6927 - accuracy: 0.5152 - val_loss: 0.6922 - val_accuracy: 0.5245\n",
            "Epoch 64/150\n",
            "4/4 [==============================] - 49s 13s/step - loss: 0.6927 - accuracy: 0.5152 - val_loss: 0.6922 - val_accuracy: 0.5245\n",
            "Epoch 65/150\n",
            "4/4 [==============================] - 49s 13s/step - loss: 0.6927 - accuracy: 0.5152 - val_loss: 0.6922 - val_accuracy: 0.5245\n",
            "Epoch 66/150\n",
            "4/4 [==============================] - 49s 12s/step - loss: 0.6927 - accuracy: 0.5152 - val_loss: 0.6922 - val_accuracy: 0.5245\n",
            "Epoch 67/150\n",
            "4/4 [==============================] - 49s 13s/step - loss: 0.6927 - accuracy: 0.5152 - val_loss: 0.6922 - val_accuracy: 0.5245\n",
            "Epoch 68/150\n",
            "4/4 [==============================] - 49s 13s/step - loss: 0.6927 - accuracy: 0.5152 - val_loss: 0.6922 - val_accuracy: 0.5245\n",
            "Epoch 69/150\n",
            "4/4 [==============================] - 48s 12s/step - loss: 0.6927 - accuracy: 0.5152 - val_loss: 0.6922 - val_accuracy: 0.5245\n",
            "Epoch 70/150\n",
            "4/4 [==============================] - 50s 13s/step - loss: 0.6927 - accuracy: 0.5152 - val_loss: 0.6922 - val_accuracy: 0.5245\n",
            "Epoch 71/150\n",
            "4/4 [==============================] - 49s 13s/step - loss: 0.6927 - accuracy: 0.5152 - val_loss: 0.6922 - val_accuracy: 0.5245\n",
            "Epoch 72/150\n",
            "4/4 [==============================] - 49s 13s/step - loss: 0.6927 - accuracy: 0.5152 - val_loss: 0.6922 - val_accuracy: 0.5245\n",
            "Epoch 73/150\n",
            "4/4 [==============================] - 49s 13s/step - loss: 0.6927 - accuracy: 0.5152 - val_loss: 0.6922 - val_accuracy: 0.5245\n",
            "Epoch 74/150\n",
            "4/4 [==============================] - 49s 13s/step - loss: 0.6927 - accuracy: 0.5152 - val_loss: 0.6922 - val_accuracy: 0.5245\n",
            "Epoch 75/150\n",
            "4/4 [==============================] - 48s 13s/step - loss: 0.6927 - accuracy: 0.5152 - val_loss: 0.6922 - val_accuracy: 0.5245\n",
            "Epoch 76/150\n",
            "4/4 [==============================] - 48s 12s/step - loss: 0.6927 - accuracy: 0.5152 - val_loss: 0.6922 - val_accuracy: 0.5245\n",
            "Epoch 77/150\n",
            "4/4 [==============================] - 49s 13s/step - loss: 0.6927 - accuracy: 0.5152 - val_loss: 0.6922 - val_accuracy: 0.5245\n",
            "Epoch 78/150\n",
            "4/4 [==============================] - 48s 13s/step - loss: 0.6927 - accuracy: 0.5152 - val_loss: 0.6922 - val_accuracy: 0.5245\n",
            "Epoch 79/150\n",
            "4/4 [==============================] - 48s 13s/step - loss: 0.6927 - accuracy: 0.5152 - val_loss: 0.6922 - val_accuracy: 0.5245\n",
            "Epoch 80/150\n",
            "4/4 [==============================] - 47s 12s/step - loss: 0.6927 - accuracy: 0.5152 - val_loss: 0.6922 - val_accuracy: 0.5245\n",
            "Epoch 81/150\n",
            "4/4 [==============================] - 49s 13s/step - loss: 0.6927 - accuracy: 0.5152 - val_loss: 0.6922 - val_accuracy: 0.5245\n",
            "Epoch 82/150\n",
            "4/4 [==============================] - 47s 12s/step - loss: 0.6927 - accuracy: 0.5152 - val_loss: 0.6922 - val_accuracy: 0.5245\n",
            "Epoch 83/150\n",
            "4/4 [==============================] - 47s 12s/step - loss: 0.6927 - accuracy: 0.5152 - val_loss: 0.6922 - val_accuracy: 0.5245\n",
            "Epoch 84/150\n",
            "4/4 [==============================] - 49s 13s/step - loss: 0.6927 - accuracy: 0.5152 - val_loss: 0.6922 - val_accuracy: 0.5245\n",
            "Epoch 85/150\n",
            "4/4 [==============================] - 49s 13s/step - loss: 0.6927 - accuracy: 0.5152 - val_loss: 0.6922 - val_accuracy: 0.5245\n",
            "Epoch 86/150\n",
            "4/4 [==============================] - 49s 13s/step - loss: 0.6927 - accuracy: 0.5152 - val_loss: 0.6922 - val_accuracy: 0.5245\n",
            "Epoch 87/150\n",
            "4/4 [==============================] - 47s 12s/step - loss: 0.6927 - accuracy: 0.5152 - val_loss: 0.6922 - val_accuracy: 0.5245\n",
            "Epoch 88/150\n",
            "4/4 [==============================] - 49s 13s/step - loss: 0.6927 - accuracy: 0.5152 - val_loss: 0.6922 - val_accuracy: 0.5245\n",
            "Epoch 89/150\n",
            "4/4 [==============================] - 50s 13s/step - loss: 0.6927 - accuracy: 0.5152 - val_loss: 0.6922 - val_accuracy: 0.5245\n",
            "Epoch 90/150\n",
            "4/4 [==============================] - 49s 13s/step - loss: 0.6927 - accuracy: 0.5152 - val_loss: 0.6922 - val_accuracy: 0.5245\n",
            "Epoch 91/150\n",
            "4/4 [==============================] - 49s 13s/step - loss: 0.6927 - accuracy: 0.5152 - val_loss: 0.6921 - val_accuracy: 0.5245\n",
            "Epoch 92/150\n",
            "4/4 [==============================] - 49s 13s/step - loss: 0.6927 - accuracy: 0.5152 - val_loss: 0.6921 - val_accuracy: 0.5245\n",
            "Epoch 93/150\n",
            "4/4 [==============================] - 50s 13s/step - loss: 0.6927 - accuracy: 0.5152 - val_loss: 0.6921 - val_accuracy: 0.5245\n",
            "Epoch 94/150\n",
            "4/4 [==============================] - 47s 12s/step - loss: 0.6927 - accuracy: 0.5152 - val_loss: 0.6921 - val_accuracy: 0.5245\n",
            "Epoch 95/150\n",
            "4/4 [==============================] - 48s 12s/step - loss: 0.6927 - accuracy: 0.5152 - val_loss: 0.6921 - val_accuracy: 0.5245\n",
            "Epoch 96/150\n",
            "4/4 [==============================] - 48s 12s/step - loss: 0.6927 - accuracy: 0.5152 - val_loss: 0.6921 - val_accuracy: 0.5245\n",
            "Epoch 97/150\n",
            "4/4 [==============================] - 48s 12s/step - loss: 0.6927 - accuracy: 0.5152 - val_loss: 0.6921 - val_accuracy: 0.5245\n",
            "Epoch 98/150\n",
            "4/4 [==============================] - 49s 13s/step - loss: 0.6927 - accuracy: 0.5152 - val_loss: 0.6921 - val_accuracy: 0.5245\n",
            "Epoch 99/150\n",
            "4/4 [==============================] - 48s 12s/step - loss: 0.6927 - accuracy: 0.5152 - val_loss: 0.6921 - val_accuracy: 0.5245\n",
            "Epoch 100/150\n",
            "4/4 [==============================] - 48s 12s/step - loss: 0.6927 - accuracy: 0.5152 - val_loss: 0.6921 - val_accuracy: 0.5245\n",
            "Epoch 101/150\n",
            "4/4 [==============================] - 48s 12s/step - loss: 0.6927 - accuracy: 0.5152 - val_loss: 0.6921 - val_accuracy: 0.5245\n",
            "Epoch 102/150\n",
            "4/4 [==============================] - 48s 12s/step - loss: 0.6927 - accuracy: 0.5152 - val_loss: 0.6921 - val_accuracy: 0.5245\n",
            "Epoch 103/150\n",
            "4/4 [==============================] - 48s 12s/step - loss: 0.6927 - accuracy: 0.5152 - val_loss: 0.6921 - val_accuracy: 0.5245\n",
            "Epoch 104/150\n",
            "4/4 [==============================] - 49s 12s/step - loss: 0.6927 - accuracy: 0.5152 - val_loss: 0.6921 - val_accuracy: 0.5245\n",
            "Epoch 105/150\n",
            "4/4 [==============================] - 49s 12s/step - loss: 0.6927 - accuracy: 0.5152 - val_loss: 0.6921 - val_accuracy: 0.5245\n",
            "Epoch 106/150\n",
            "4/4 [==============================] - 49s 13s/step - loss: 0.6927 - accuracy: 0.5152 - val_loss: 0.6921 - val_accuracy: 0.5245\n",
            "Epoch 107/150\n",
            "4/4 [==============================] - 48s 12s/step - loss: 0.6927 - accuracy: 0.5152 - val_loss: 0.6921 - val_accuracy: 0.5245\n",
            "Epoch 108/150\n",
            "4/4 [==============================] - 48s 12s/step - loss: 0.6927 - accuracy: 0.5152 - val_loss: 0.6921 - val_accuracy: 0.5245\n",
            "Epoch 109/150\n",
            "4/4 [==============================] - 48s 12s/step - loss: 0.6927 - accuracy: 0.5152 - val_loss: 0.6921 - val_accuracy: 0.5245\n",
            "Epoch 110/150\n",
            "4/4 [==============================] - 49s 12s/step - loss: 0.6927 - accuracy: 0.5152 - val_loss: 0.6921 - val_accuracy: 0.5245\n",
            "Epoch 111/150\n",
            "4/4 [==============================] - 48s 12s/step - loss: 0.6927 - accuracy: 0.5152 - val_loss: 0.6921 - val_accuracy: 0.5245\n",
            "Epoch 112/150\n",
            "4/4 [==============================] - 48s 12s/step - loss: 0.6927 - accuracy: 0.5152 - val_loss: 0.6921 - val_accuracy: 0.5245\n",
            "Epoch 113/150\n",
            "4/4 [==============================] - 48s 12s/step - loss: 0.6927 - accuracy: 0.5152 - val_loss: 0.6921 - val_accuracy: 0.5245\n",
            "Epoch 114/150\n",
            "4/4 [==============================] - 48s 12s/step - loss: 0.6927 - accuracy: 0.5152 - val_loss: 0.6921 - val_accuracy: 0.5245\n",
            "Epoch 115/150\n",
            "4/4 [==============================] - 48s 12s/step - loss: 0.6927 - accuracy: 0.5152 - val_loss: 0.6921 - val_accuracy: 0.5245\n",
            "Epoch 116/150\n",
            "4/4 [==============================] - 48s 12s/step - loss: 0.6927 - accuracy: 0.5152 - val_loss: 0.6921 - val_accuracy: 0.5245\n",
            "Epoch 117/150\n",
            "4/4 [==============================] - 48s 12s/step - loss: 0.6927 - accuracy: 0.5152 - val_loss: 0.6921 - val_accuracy: 0.5245\n",
            "Epoch 118/150\n",
            "4/4 [==============================] - 48s 13s/step - loss: 0.6927 - accuracy: 0.5152 - val_loss: 0.6921 - val_accuracy: 0.5245\n",
            "Epoch 119/150\n",
            "4/4 [==============================] - 49s 12s/step - loss: 0.6927 - accuracy: 0.5152 - val_loss: 0.6921 - val_accuracy: 0.5245\n",
            "Epoch 120/150\n",
            "4/4 [==============================] - 49s 13s/step - loss: 0.6927 - accuracy: 0.5152 - val_loss: 0.6921 - val_accuracy: 0.5245\n",
            "Epoch 121/150\n",
            "4/4 [==============================] - 48s 13s/step - loss: 0.6927 - accuracy: 0.5152 - val_loss: 0.6921 - val_accuracy: 0.5245\n",
            "Epoch 122/150\n",
            "4/4 [==============================] - 48s 12s/step - loss: 0.6927 - accuracy: 0.5152 - val_loss: 0.6921 - val_accuracy: 0.5245\n",
            "Epoch 123/150\n",
            "4/4 [==============================] - 49s 13s/step - loss: 0.6927 - accuracy: 0.5152 - val_loss: 0.6921 - val_accuracy: 0.5245\n",
            "Epoch 124/150\n",
            "4/4 [==============================] - 48s 12s/step - loss: 0.6927 - accuracy: 0.5152 - val_loss: 0.6921 - val_accuracy: 0.5245\n",
            "Epoch 125/150\n",
            "4/4 [==============================] - 48s 12s/step - loss: 0.6927 - accuracy: 0.5152 - val_loss: 0.6921 - val_accuracy: 0.5245\n",
            "Epoch 126/150\n",
            "4/4 [==============================] - 48s 12s/step - loss: 0.6927 - accuracy: 0.5152 - val_loss: 0.6921 - val_accuracy: 0.5245\n",
            "Epoch 127/150\n",
            "4/4 [==============================] - 48s 12s/step - loss: 0.6927 - accuracy: 0.5152 - val_loss: 0.6921 - val_accuracy: 0.5245\n",
            "Epoch 128/150\n",
            "4/4 [==============================] - 48s 12s/step - loss: 0.6927 - accuracy: 0.5152 - val_loss: 0.6921 - val_accuracy: 0.5245\n",
            "Epoch 129/150\n",
            "4/4 [==============================] - 47s 12s/step - loss: 0.6927 - accuracy: 0.5152 - val_loss: 0.6921 - val_accuracy: 0.5245\n",
            "Epoch 130/150\n",
            "4/4 [==============================] - 48s 12s/step - loss: 0.6927 - accuracy: 0.5152 - val_loss: 0.6921 - val_accuracy: 0.5245\n",
            "Epoch 131/150\n",
            "4/4 [==============================] - 49s 13s/step - loss: 0.6927 - accuracy: 0.5152 - val_loss: 0.6921 - val_accuracy: 0.5245\n",
            "Epoch 132/150\n",
            "4/4 [==============================] - 49s 13s/step - loss: 0.6927 - accuracy: 0.5152 - val_loss: 0.6921 - val_accuracy: 0.5245\n",
            "Epoch 133/150\n",
            "4/4 [==============================] - 49s 13s/step - loss: 0.6927 - accuracy: 0.5152 - val_loss: 0.6921 - val_accuracy: 0.5245\n",
            "Epoch 134/150\n",
            "4/4 [==============================] - 46s 12s/step - loss: 0.6927 - accuracy: 0.5152 - val_loss: 0.6921 - val_accuracy: 0.5245\n",
            "Epoch 135/150\n",
            "4/4 [==============================] - 48s 13s/step - loss: 0.6927 - accuracy: 0.5152 - val_loss: 0.6921 - val_accuracy: 0.5245\n",
            "Epoch 136/150\n",
            "4/4 [==============================] - 49s 13s/step - loss: 0.6927 - accuracy: 0.5152 - val_loss: 0.6921 - val_accuracy: 0.5245\n",
            "Epoch 137/150\n",
            "4/4 [==============================] - 47s 12s/step - loss: 0.6927 - accuracy: 0.5152 - val_loss: 0.6921 - val_accuracy: 0.5245\n",
            "Epoch 138/150\n",
            "4/4 [==============================] - 47s 12s/step - loss: 0.6927 - accuracy: 0.5152 - val_loss: 0.6921 - val_accuracy: 0.5245\n",
            "Epoch 139/150\n",
            "4/4 [==============================] - 49s 13s/step - loss: 0.6927 - accuracy: 0.5152 - val_loss: 0.6921 - val_accuracy: 0.5245\n",
            "Epoch 140/150\n",
            "4/4 [==============================] - 49s 13s/step - loss: 0.6927 - accuracy: 0.5152 - val_loss: 0.6921 - val_accuracy: 0.5245\n",
            "Epoch 141/150\n",
            "4/4 [==============================] - 47s 12s/step - loss: 0.6927 - accuracy: 0.5152 - val_loss: 0.6921 - val_accuracy: 0.5245\n",
            "Epoch 142/150\n",
            "4/4 [==============================] - 49s 13s/step - loss: 0.6927 - accuracy: 0.5152 - val_loss: 0.6921 - val_accuracy: 0.5245\n",
            "Epoch 143/150\n",
            "4/4 [==============================] - 50s 13s/step - loss: 0.6927 - accuracy: 0.5152 - val_loss: 0.6921 - val_accuracy: 0.5245\n",
            "Epoch 144/150\n",
            "4/4 [==============================] - 48s 12s/step - loss: 0.6927 - accuracy: 0.5152 - val_loss: 0.6921 - val_accuracy: 0.5245\n",
            "Epoch 145/150\n",
            "4/4 [==============================] - 49s 13s/step - loss: 0.6927 - accuracy: 0.5152 - val_loss: 0.6921 - val_accuracy: 0.5245\n",
            "Epoch 146/150\n",
            "4/4 [==============================] - 49s 13s/step - loss: 0.6927 - accuracy: 0.5152 - val_loss: 0.6921 - val_accuracy: 0.5245\n",
            "Epoch 147/150\n",
            "4/4 [==============================] - 49s 13s/step - loss: 0.6927 - accuracy: 0.5152 - val_loss: 0.6921 - val_accuracy: 0.5245\n",
            "Epoch 148/150\n",
            "4/4 [==============================] - 47s 12s/step - loss: 0.6927 - accuracy: 0.5152 - val_loss: 0.6921 - val_accuracy: 0.5245\n",
            "Epoch 149/150\n",
            "4/4 [==============================] - 50s 13s/step - loss: 0.6927 - accuracy: 0.5152 - val_loss: 0.6921 - val_accuracy: 0.5245\n",
            "Epoch 150/150\n",
            "4/4 [==============================] - 48s 12s/step - loss: 0.6927 - accuracy: 0.5152 - val_loss: 0.6921 - val_accuracy: 0.5245\n"
          ]
        }
      ],
      "source": [
        "model.compile(keras.optimizers.Adam(lr=1e-3), loss='categorical_crossentropy', metrics=['accuracy'])\n",
        "val=model.fit(x=x_train,y=y_train,batch_size=100, epochs=150,validation_split=0.4)"
      ]
    },
    {
      "cell_type": "markdown",
      "source": [
        "#### Save The Model"
      ],
      "metadata": {
        "id": "y9SbyeGiAboU"
      }
    },
    {
      "cell_type": "code",
      "source": [
        "# Menyimpan model ke dalam file\n",
        "model.save('modelDenseNetAUTISM.h5')"
      ],
      "metadata": {
        "id": "sx37rfGJAays"
      },
      "execution_count": 33,
      "outputs": []
    },
    {
      "cell_type": "markdown",
      "metadata": {
        "id": "AqqmUprGDQ2_"
      },
      "source": [
        "#### The model loss and accuracy on test data. "
      ]
    },
    {
      "cell_type": "code",
      "execution_count": 31,
      "metadata": {
        "id": "eRkFGiT6DQ2_",
        "colab": {
          "base_uri": "https://localhost:8080/"
        },
        "outputId": "83f53a5b-7b82-4127-d2eb-9d57898e4d92"
      },
      "outputs": [
        {
          "output_type": "stream",
          "name": "stdout",
          "text": [
            "Number of images in x_test 441\n",
            "14/14 [==============================] - 5s 349ms/step - loss: 0.6926 - accuracy: 0.5170\n"
          ]
        },
        {
          "output_type": "execute_result",
          "data": {
            "text/plain": [
              "[0.6925753355026245, 0.5170068144798279]"
            ]
          },
          "metadata": {},
          "execution_count": 31
        }
      ],
      "source": [
        "#x_test = X_test.reshape(X_test.shape[0],145,121,3)\n",
        "x_test = x_test.astype('float32')\n",
        "    # Normalizing the RGB codes by dividing it to the max RGB value.\n",
        "print('Number of images in x_test', x_test.shape[0])\n",
        "model.evaluate(x_test,y_test)\n"
      ]
    },
    {
      "cell_type": "code",
      "execution_count": 32,
      "metadata": {
        "id": "oeDrObPpDQ2_",
        "colab": {
          "base_uri": "https://localhost:8080/",
          "height": 489
        },
        "outputId": "254d2a5e-7302-4b6d-eca3-dd28f0c0da33"
      },
      "outputs": [
        {
          "output_type": "execute_result",
          "data": {
            "text/plain": [
              "Text(0, 0.5, 'Accuracy')"
            ]
          },
          "metadata": {},
          "execution_count": 32
        },
        {
          "output_type": "display_data",
          "data": {
            "text/plain": [
              "<Figure size 640x480 with 1 Axes>"
            ],
            "image/png": "[encoded data removed]"
          },
          "metadata": {}
        }
      ],
      "source": [
        "plt.plot(val.history['accuracy'])\n",
        "plt.plot(val.history['val_accuracy'])\n",
        "plt.legend(['Training accuracy' ,'Validation Accuracy'])\n",
        "plt.title(\"Train Vs Validation With ResNet\")\n",
        "plt.xlabel(\"Epoch\")\n",
        "plt.ylabel(\"Accuracy\")"
      ]
    }
  ],
  "metadata": {
    "accelerator": "GPU",
    "colab": {
      "collapsed_sections": [
        "aQ65HwbuDQ2w",
        "EAdKoPKnDQ24"
      ],
      "provenance": [],
      "include_colab_link": true
    },
    "kernelspec": {
      "display_name": "Python 3",
      "name": "python3"
    },
    "language_info": {
      "codemirror_mode": {
        "name": "ipython",
        "version": 3
      },
      "file_extension": ".py",
      "mimetype": "text/x-python",
      "name": "python",
      "nbconvert_exporter": "python",
      "pygments_lexer": "ipython3",
      "version": "3.5.2"
    }
  },
  "nbformat": 4,
  "nbformat_minor": 0
}