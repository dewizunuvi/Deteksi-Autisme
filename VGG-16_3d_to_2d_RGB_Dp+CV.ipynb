{
  "cells": [
    {
      "cell_type": "markdown",
      "metadata": {
        "id": "view-in-github",
        "colab_type": "text"
      },
      "source": [
        "<a href=\"https://colab.research.google.com/github/dewizunuvi/Deteksi-Autisme/blob/main/VGG-16_3d_to_2d_RGB_Dp%2BCV.ipynb\" target=\"_parent\"><img src=\"https://colab.research.google.com/assets/colab-badge.svg\" alt=\"Open In Colab\"/></a>"
      ]
    },
    {
      "cell_type": "markdown",
      "source": [
        "# **Klasifikasi MRI Autisme ResNet-50**\n",
        "Gambar Nifti diubah ke 2D, RGB, Cross validation, Dropout\n"
      ],
      "metadata": {
        "id": "gprt00Ze-Yx0"
      }
    },
    {
      "cell_type": "markdown",
      "metadata": {
        "id": "aQ65HwbuDQ2w"
      },
      "source": [
        "#### Import nibabel package to read NIfTI images"
      ]
    },
    {
      "cell_type": "code",
      "execution_count": 19,
      "metadata": {
        "id": "pnVExdPwDQ20"
      },
      "outputs": [],
      "source": [
        "import keras\n",
        "import numpy as np\n",
        "import nibabel as nib\n",
        "import tensorflow as tf\n",
        "from keras import applications"
      ]
    },
    {
      "cell_type": "markdown",
      "metadata": {
        "id": "EAdKoPKnDQ24"
      },
      "source": [
        "#### Import all the keras required library"
      ]
    },
    {
      "cell_type": "code",
      "execution_count": 20,
      "metadata": {
        "id": "Cp-AG3v8DQ24"
      },
      "outputs": [],
      "source": [
        "import os\n",
        "from keras import layers\n",
        "from google.colab import drive\n",
        "import matplotlib.pyplot as plt\n",
        "from keras.models import Sequential, Model\n",
        "from keras.losses import categorical_crossentropy\n",
        "from keras.layers import Dense, Conv2D, Dropout, Flatten, MaxPooling2D\n",
        "\n",
        "from sklearn.model_selection import KFold\n",
        "from keras.callbacks import EarlyStopping\n",
        "from sklearn.model_selection import train_test_split"
      ]
    },
    {
      "cell_type": "markdown",
      "metadata": {
        "id": "rAcW8twKDQ25"
      },
      "source": [
        "#### Fatch all the preprocessed images from the folder, preprocessing is done in SPM (matlab)"
      ]
    },
    {
      "cell_type": "code",
      "execution_count": 21,
      "metadata": {
        "id": "DR3cG2luDQ25",
        "colab": {
          "base_uri": "https://localhost:8080/"
        },
        "outputId": "1c3f3512-80f7-4553-b979-e6f90b4fe5ba"
      },
      "outputs": [
        {
          "output_type": "stream",
          "name": "stdout",
          "text": [
            "Drive already mounted at /content/drive; to attempt to forcibly remount, call drive.mount(\"/content/drive\", force_remount=True).\n"
          ]
        }
      ],
      "source": [
        "# Mount Google Drive\n",
        "drive.mount('/content/drive')\n",
        "\n",
        "# Set path to folder containing NIfTI files\n",
        "folder_path_autism = \"/content/drive/MyDrive/Dataset_Autis/Autism\"\n",
        "folder_path_control = \"/content/drive/MyDrive/Dataset_Autis/Control\"\n",
        "\n",
        "# daftar file .nii.gz dari folder1\n",
        "files1 = [os.path.join(folder_path_autism, f) for f in os.listdir(folder_path_autism) if f.endswith('.nii.gz')]\n",
        "\n",
        "# daftar file .nii.gz dari folder2\n",
        "files2 = [os.path.join(folder_path_control, f) for f in os.listdir(folder_path_control) if f.endswith('.nii.gz')]\n",
        "\n",
        "# Load images from the two folders\n",
        "images1 = [nib.load(f) for f in files1]\n",
        "images2 = [nib.load(f) for f in files2]"
      ]
    },
    {
      "cell_type": "code",
      "source": [
        "# Combine the two sets of images\n",
        "dataf = images1 + images2\n",
        "\n",
        "# Generate labels for the images\n",
        "labels = [1] * len(images1) + [0] * len(images2)"
      ],
      "metadata": {
        "id": "m0OLgYXTHamh"
      },
      "execution_count": 22,
      "outputs": []
    },
    {
      "cell_type": "markdown",
      "metadata": {
        "id": "WIA951d9DQ28"
      },
      "source": [
        "#### Data Conversion from 3D to 2D and introduce 3 channels (RGB) because the predefined model always takes 2D images with 3 channels in Keras."
      ]
    },
    {
      "cell_type": "code",
      "execution_count": 23,
      "metadata": {
        "id": "XU9NK1zqDQ29"
      },
      "outputs": [],
      "source": [
        "# create an empty list to store the slice data\n",
        "slice_list = []\n",
        "\n",
        "# loop over the images and convert to 2D\n",
        "for img in images1 + images2:\n",
        "    # get the image data as a numpy array\n",
        "    data = img.get_fdata()\n",
        "    # select a slice to display (e.g. the middle slice along the first axis)\n",
        "    slice_idx = data.shape[0] // 2\n",
        "    # extract the 2D slice data\n",
        "    slice_data = data[slice_idx, :, :]\n",
        "    # add the slice data to the list\n",
        "    slice_list.append(slice_data)"
      ]
    },
    {
      "cell_type": "code",
      "source": [
        "len(slice_list)"
      ],
      "metadata": {
        "id": "1lVBulaX9lnw",
        "colab": {
          "base_uri": "https://localhost:8080/"
        },
        "outputId": "0a3de6c3-fdd9-47a6-afca-dfaa7aa79a38"
      },
      "execution_count": 24,
      "outputs": [
        {
          "output_type": "execute_result",
          "data": {
            "text/plain": [
              "1102"
            ]
          },
          "metadata": {},
          "execution_count": 24
        }
      ]
    },
    {
      "cell_type": "code",
      "source": [
        "data_array = np.array(slice_list)"
      ],
      "metadata": {
        "id": "7aBhwMHVQ6UX"
      },
      "execution_count": 25,
      "outputs": []
    },
    {
      "cell_type": "code",
      "source": [
        "data_array.shape"
      ],
      "metadata": {
        "id": "ysldCA8RRWev",
        "colab": {
          "base_uri": "https://localhost:8080/"
        },
        "outputId": "07bfb51c-70c7-44ce-8f6d-ebbc1090665c"
      },
      "execution_count": 26,
      "outputs": [
        {
          "output_type": "execute_result",
          "data": {
            "text/plain": [
              "(1102, 73, 61)"
            ]
          },
          "metadata": {},
          "execution_count": 26
        }
      ]
    },
    {
      "cell_type": "markdown",
      "source": [
        "#Turn to RGB"
      ],
      "metadata": {
        "id": "h6ZUEmVmA4pC"
      }
    },
    {
      "cell_type": "code",
      "source": [
        "data_image=np.stack([data_array]*3, axis=-1)"
      ],
      "metadata": {
        "id": "hZN05Y2FRg8H"
      },
      "execution_count": 27,
      "outputs": []
    },
    {
      "cell_type": "code",
      "source": [
        "data_image.shape"
      ],
      "metadata": {
        "id": "f4Sm_tmnCtjI",
        "colab": {
          "base_uri": "https://localhost:8080/"
        },
        "outputId": "14e705c1-fdb9-47f4-b34e-5d89777edf9f"
      },
      "execution_count": 28,
      "outputs": [
        {
          "output_type": "execute_result",
          "data": {
            "text/plain": [
              "(1102, 73, 61, 3)"
            ]
          },
          "metadata": {},
          "execution_count": 28
        }
      ]
    },
    {
      "cell_type": "markdown",
      "metadata": {
        "id": "1ZMFRJsGDQ2-"
      },
      "source": [
        "#### Split the data into train and test in the 70:30 ratio."
      ]
    },
    {
      "cell_type": "code",
      "execution_count": 29,
      "metadata": {
        "id": "IVfgFfp7DQ2-"
      },
      "outputs": [],
      "source": [
        "x_train, x_test, y_train, y_test = train_test_split(data_image, labels, test_size=0.2)\n",
        "y_train=np.array(y_train)\n",
        "\n",
        "\n",
        "input_shape = (73, 61,3)\n",
        "x_train = x_train.astype('float32')\n",
        "y_train = keras.utils.to_categorical(y_train)\n",
        "y_old_test=y_test\n",
        "y_test = keras.utils.to_categorical(y_test)\n"
      ]
    },
    {
      "cell_type": "markdown",
      "metadata": {
        "id": "3iKy-atpDQ2-"
      },
      "source": [
        "#### Use the ResNet50 model."
      ]
    },
    {
      "cell_type": "code",
      "source": [
        "from keras.layers import Dropout, Flatten, Dense\n",
        "from keras.applications import VGG16\n",
        "\n",
        "# Load the ResNet50 model\n",
        "base_model = VGG16(weights='imagenet', include_top=False, input_shape=input_shape)\n",
        "\n",
        "# Freeze the layers of the base model\n",
        "for layer in base_model.layers:\n",
        "    layer.trainable = False\n",
        "\n",
        "# Add custom layers on top of the base model\n",
        "x = base_model.output\n",
        "x = Flatten()(x)\n",
        "x = Dense(256, activation='relu')(x)\n",
        "x = Dropout(0.5)(x)  # Add a dropout layer with dropout rate of 0.5\n",
        "predictions = Dense(2, activation='softmax')(x)\n",
        "\n",
        "# Create the model\n",
        "model = Model(inputs=base_model.input, outputs=predictions)"
      ],
      "metadata": {
        "id": "6peMpAriSzlC"
      },
      "execution_count": 30,
      "outputs": []
    },
    {
      "cell_type": "code",
      "execution_count": 31,
      "metadata": {
        "id": "DfdtXK7PDQ2-",
        "colab": {
          "base_uri": "https://localhost:8080/"
        },
        "outputId": "0a8becc4-b7e9-47a8-87d5-77dd80ef71f2"
      },
      "outputs": [
        {
          "output_type": "stream",
          "name": "stdout",
          "text": [
            "Model: \"model_1\"\n",
            "_________________________________________________________________\n",
            " Layer (type)                Output Shape              Param #   \n",
            "=================================================================\n",
            " input_2 (InputLayer)        [(None, 73, 61, 3)]       0         \n",
            "                                                                 \n",
            " block1_conv1 (Conv2D)       (None, 73, 61, 64)        1792      \n",
            "                                                                 \n",
            " block1_conv2 (Conv2D)       (None, 73, 61, 64)        36928     \n",
            "                                                                 \n",
            " block1_pool (MaxPooling2D)  (None, 36, 30, 64)        0         \n",
            "                                                                 \n",
            " block2_conv1 (Conv2D)       (None, 36, 30, 128)       73856     \n",
            "                                                                 \n",
            " block2_conv2 (Conv2D)       (None, 36, 30, 128)       147584    \n",
            "                                                                 \n",
            " block2_pool (MaxPooling2D)  (None, 18, 15, 128)       0         \n",
            "                                                                 \n",
            " block3_conv1 (Conv2D)       (None, 18, 15, 256)       295168    \n",
            "                                                                 \n",
            " block3_conv2 (Conv2D)       (None, 18, 15, 256)       590080    \n",
            "                                                                 \n",
            " block3_conv3 (Conv2D)       (None, 18, 15, 256)       590080    \n",
            "                                                                 \n",
            " block3_pool (MaxPooling2D)  (None, 9, 7, 256)         0         \n",
            "                                                                 \n",
            " block4_conv1 (Conv2D)       (None, 9, 7, 512)         1180160   \n",
            "                                                                 \n",
            " block4_conv2 (Conv2D)       (None, 9, 7, 512)         2359808   \n",
            "                                                                 \n",
            " block4_conv3 (Conv2D)       (None, 9, 7, 512)         2359808   \n",
            "                                                                 \n",
            " block4_pool (MaxPooling2D)  (None, 4, 3, 512)         0         \n",
            "                                                                 \n",
            " block5_conv1 (Conv2D)       (None, 4, 3, 512)         2359808   \n",
            "                                                                 \n",
            " block5_conv2 (Conv2D)       (None, 4, 3, 512)         2359808   \n",
            "                                                                 \n",
            " block5_conv3 (Conv2D)       (None, 4, 3, 512)         2359808   \n",
            "                                                                 \n",
            " block5_pool (MaxPooling2D)  (None, 2, 1, 512)         0         \n",
            "                                                                 \n",
            " flatten_1 (Flatten)         (None, 1024)              0         \n",
            "                                                                 \n",
            " dense_2 (Dense)             (None, 256)               262400    \n",
            "                                                                 \n",
            " dropout_1 (Dropout)         (None, 256)               0         \n",
            "                                                                 \n",
            " dense_3 (Dense)             (None, 2)                 514       \n",
            "                                                                 \n",
            "=================================================================\n",
            "Total params: 14,977,602\n",
            "Trainable params: 262,914\n",
            "Non-trainable params: 14,714,688\n",
            "_________________________________________________________________\n",
            "None\n"
          ]
        }
      ],
      "source": [
        "print(model.summary())"
      ]
    },
    {
      "cell_type": "markdown",
      "metadata": {
        "id": "tnVftuXDDQ2-"
      },
      "source": [
        "#### Compile and train the model with Adam optimizer"
      ]
    },
    {
      "cell_type": "code",
      "source": [
        "# define early stopping callback\n",
        "early_stop = EarlyStopping(monitor='val_loss', patience=5)"
      ],
      "metadata": {
        "id": "pKWt3uJwjkxM"
      },
      "execution_count": 32,
      "outputs": []
    },
    {
      "cell_type": "code",
      "source": [
        "# Split data into K=5 folds\n",
        "kfold = KFold(n_splits=5, shuffle=True, random_state=42)"
      ],
      "metadata": {
        "id": "DGgzOgukrK0l"
      },
      "execution_count": 33,
      "outputs": []
    },
    {
      "cell_type": "code",
      "source": [
        "# Compile the model\n",
        "model.compile(optimizer=keras.optimizers.Adam(lr=1e-5),\n",
        "              loss='categorical_crossentropy',\n",
        "              metrics=['accuracy'])\n",
        "\n",
        "# Train the model with K-fold cross validation\n",
        "for fold, (train_idx, val_idx) in enumerate(kfold.split(x_train, y_train)):\n",
        "    print(f'Fold {fold+1} Training ------------')\n",
        "    x_train_fold = x_train[train_idx]\n",
        "    y_train_fold = y_train[train_idx]\n",
        "    x_val_fold = x_train[val_idx]\n",
        "    y_val_fold = y_train[val_idx]\n",
        "\n",
        "    history = model.fit(x_train_fold, y_train_fold, batch_size=100, epochs=40, validation_data=(x_val_fold, y_val_fold), callbacks=[early_stop])\n",
        "\n",
        "    print(f\"Fold {fold+1} Validation Accuracy: {np.mean(history.history['val_accuracy']):.4f}\")"
      ],
      "metadata": {
        "id": "t5qcKu7jgv_n",
        "colab": {
          "base_uri": "https://localhost:8080/"
        },
        "outputId": "3f80c7dc-aa9e-4209-c5c9-377be6df5324"
      },
      "execution_count": 16,
      "outputs": [
        {
          "metadata": {
            "tags": null
          },
          "name": "stdout",
          "output_type": "stream",
          "text": [
            "Fold 1 Training ------------\n"
          ]
        },
        {
          "metadata": {
            "tags": null
          },
          "name": "stderr",
          "output_type": "stream",
          "text": [
            "/usr/local/lib/python3.10/dist-packages/keras/optimizers/legacy/adam.py:117: UserWarning: The `lr` argument is deprecated, use `learning_rate` instead.\n",
            "  super().__init__(name, **kwargs)\n"
          ]
        },
        {
          "output_type": "stream",
          "name": "stdout",
          "text": [
            "Epoch 1/40\n",
            "8/8 [==============================] - 47s 6s/step - loss: 0.8581 - accuracy: 0.4886 - val_loss: 0.7499 - val_accuracy: 0.4576\n",
            "Epoch 2/40\n",
            "8/8 [==============================] - 46s 6s/step - loss: 0.8134 - accuracy: 0.5213 - val_loss: 0.7306 - val_accuracy: 0.4520\n",
            "Epoch 3/40\n",
            "8/8 [==============================] - 46s 6s/step - loss: 0.7696 - accuracy: 0.5327 - val_loss: 0.7185 - val_accuracy: 0.4576\n",
            "Epoch 4/40\n",
            "8/8 [==============================] - 46s 6s/step - loss: 0.8000 - accuracy: 0.4972 - val_loss: 0.7123 - val_accuracy: 0.4633\n",
            "Epoch 5/40\n",
            "8/8 [==============================] - 46s 6s/step - loss: 0.8170 - accuracy: 0.4929 - val_loss: 0.7083 - val_accuracy: 0.4802\n",
            "Epoch 6/40\n",
            "8/8 [==============================] - 46s 6s/step - loss: 0.8159 - accuracy: 0.5099 - val_loss: 0.7082 - val_accuracy: 0.4746\n",
            "Epoch 7/40\n",
            "8/8 [==============================] - 46s 6s/step - loss: 0.8104 - accuracy: 0.4886 - val_loss: 0.7061 - val_accuracy: 0.4689\n",
            "Epoch 8/40\n",
            "8/8 [==============================] - 48s 6s/step - loss: 0.8063 - accuracy: 0.5043 - val_loss: 0.7054 - val_accuracy: 0.4689\n",
            "Epoch 9/40\n",
            "8/8 [==============================] - 48s 6s/step - loss: 0.8101 - accuracy: 0.5114 - val_loss: 0.7037 - val_accuracy: 0.4802\n",
            "Epoch 10/40\n",
            "8/8 [==============================] - 46s 6s/step - loss: 0.8367 - accuracy: 0.4815 - val_loss: 0.7044 - val_accuracy: 0.4746\n",
            "Epoch 11/40\n",
            "8/8 [==============================] - 46s 6s/step - loss: 0.8033 - accuracy: 0.5057 - val_loss: 0.7064 - val_accuracy: 0.4746\n",
            "Epoch 12/40\n",
            "8/8 [==============================] - 46s 6s/step - loss: 0.8086 - accuracy: 0.4915 - val_loss: 0.7076 - val_accuracy: 0.4746\n",
            "Epoch 13/40\n",
            "8/8 [==============================] - 56s 7s/step - loss: 0.8299 - accuracy: 0.4858 - val_loss: 0.7075 - val_accuracy: 0.4746\n",
            "Epoch 14/40\n",
            "8/8 [==============================] - 47s 6s/step - loss: 0.8251 - accuracy: 0.4943 - val_loss: 0.7081 - val_accuracy: 0.4689\n",
            "Fold 1 Validation Accuracy: 0.4693\n",
            "Fold 2 Training ------------\n",
            "Epoch 1/40\n",
            "8/8 [==============================] - 56s 7s/step - loss: 0.7885 - accuracy: 0.5021 - val_loss: 0.6947 - val_accuracy: 0.5057\n",
            "Epoch 2/40\n",
            "8/8 [==============================] - 48s 6s/step - loss: 0.7997 - accuracy: 0.5035 - val_loss: 0.6949 - val_accuracy: 0.5000\n",
            "Epoch 3/40\n",
            "8/8 [==============================] - 46s 6s/step - loss: 0.7931 - accuracy: 0.5007 - val_loss: 0.6957 - val_accuracy: 0.4943\n",
            "Epoch 4/40\n",
            "8/8 [==============================] - 46s 6s/step - loss: 0.8406 - accuracy: 0.5064 - val_loss: 0.6968 - val_accuracy: 0.5114\n",
            "Epoch 5/40\n",
            "8/8 [==============================] - 46s 6s/step - loss: 0.8208 - accuracy: 0.4681 - val_loss: 0.6974 - val_accuracy: 0.5000\n",
            "Epoch 6/40\n",
            "8/8 [==============================] - 46s 6s/step - loss: 0.8145 - accuracy: 0.4979 - val_loss: 0.6987 - val_accuracy: 0.4943\n",
            "Fold 2 Validation Accuracy: 0.5009\n",
            "Fold 3 Training ------------\n",
            "Epoch 1/40\n",
            "8/8 [==============================] - 48s 6s/step - loss: 0.7606 - accuracy: 0.5135 - val_loss: 0.7107 - val_accuracy: 0.4545\n",
            "Epoch 2/40\n",
            "8/8 [==============================] - 46s 6s/step - loss: 0.8016 - accuracy: 0.4950 - val_loss: 0.7123 - val_accuracy: 0.4545\n",
            "Epoch 3/40\n",
            "8/8 [==============================] - 46s 6s/step - loss: 0.8257 - accuracy: 0.4837 - val_loss: 0.7123 - val_accuracy: 0.4545\n",
            "Epoch 4/40\n",
            "8/8 [==============================] - 46s 6s/step - loss: 0.7891 - accuracy: 0.5234 - val_loss: 0.7117 - val_accuracy: 0.4602\n",
            "Epoch 5/40\n",
            "8/8 [==============================] - 46s 6s/step - loss: 0.7937 - accuracy: 0.5078 - val_loss: 0.7099 - val_accuracy: 0.4318\n",
            "Epoch 6/40\n",
            "8/8 [==============================] - 46s 6s/step - loss: 0.7926 - accuracy: 0.4979 - val_loss: 0.7091 - val_accuracy: 0.4432\n",
            "Epoch 7/40\n",
            "8/8 [==============================] - 46s 6s/step - loss: 0.7749 - accuracy: 0.5248 - val_loss: 0.7081 - val_accuracy: 0.3920\n",
            "Epoch 8/40\n",
            "8/8 [==============================] - 46s 6s/step - loss: 0.7575 - accuracy: 0.5362 - val_loss: 0.7075 - val_accuracy: 0.3977\n",
            "Epoch 9/40\n",
            "8/8 [==============================] - 46s 6s/step - loss: 0.7787 - accuracy: 0.5021 - val_loss: 0.7072 - val_accuracy: 0.4034\n",
            "Epoch 10/40\n",
            "8/8 [==============================] - 46s 6s/step - loss: 0.7764 - accuracy: 0.5064 - val_loss: 0.7072 - val_accuracy: 0.4034\n",
            "Epoch 11/40\n",
            "8/8 [==============================] - 51s 7s/step - loss: 0.8031 - accuracy: 0.5135 - val_loss: 0.7072 - val_accuracy: 0.3864\n",
            "Epoch 12/40\n",
            "8/8 [==============================] - 46s 6s/step - loss: 0.7818 - accuracy: 0.5149 - val_loss: 0.7071 - val_accuracy: 0.3977\n",
            "Epoch 13/40\n",
            "8/8 [==============================] - 45s 6s/step - loss: 0.7989 - accuracy: 0.4965 - val_loss: 0.7073 - val_accuracy: 0.4034\n",
            "Epoch 14/40\n",
            "8/8 [==============================] - 46s 6s/step - loss: 0.7957 - accuracy: 0.5135 - val_loss: 0.7078 - val_accuracy: 0.4318\n",
            "Epoch 15/40\n",
            "8/8 [==============================] - 47s 6s/step - loss: 0.8129 - accuracy: 0.5007 - val_loss: 0.7077 - val_accuracy: 0.4318\n",
            "Epoch 16/40\n",
            "8/8 [==============================] - 45s 6s/step - loss: 0.7782 - accuracy: 0.5064 - val_loss: 0.7075 - val_accuracy: 0.4091\n",
            "Epoch 17/40\n",
            "8/8 [==============================] - 46s 6s/step - loss: 0.7755 - accuracy: 0.5191 - val_loss: 0.7073 - val_accuracy: 0.4148\n",
            "Fold 3 Validation Accuracy: 0.4218\n",
            "Fold 4 Training ------------\n",
            "Epoch 1/40\n",
            "8/8 [==============================] - 47s 6s/step - loss: 0.8112 - accuracy: 0.4823 - val_loss: 0.6896 - val_accuracy: 0.5341\n",
            "Epoch 2/40\n",
            "8/8 [==============================] - 45s 6s/step - loss: 0.7801 - accuracy: 0.5092 - val_loss: 0.6896 - val_accuracy: 0.5170\n",
            "Epoch 3/40\n",
            "8/8 [==============================] - 46s 6s/step - loss: 0.7871 - accuracy: 0.5064 - val_loss: 0.6896 - val_accuracy: 0.5114\n",
            "Epoch 4/40\n",
            "8/8 [==============================] - 47s 6s/step - loss: 0.8057 - accuracy: 0.4780 - val_loss: 0.6896 - val_accuracy: 0.5284\n",
            "Epoch 5/40\n",
            "8/8 [==============================] - 46s 6s/step - loss: 0.7626 - accuracy: 0.5149 - val_loss: 0.6897 - val_accuracy: 0.5511\n",
            "Epoch 6/40\n",
            "8/8 [==============================] - 46s 6s/step - loss: 0.7892 - accuracy: 0.4780 - val_loss: 0.6898 - val_accuracy: 0.5568\n",
            "Fold 4 Validation Accuracy: 0.5331\n",
            "Fold 5 Training ------------\n",
            "Epoch 1/40\n",
            "8/8 [==============================] - 48s 6s/step - loss: 0.7463 - accuracy: 0.5461 - val_loss: 0.6853 - val_accuracy: 0.5227\n",
            "Epoch 2/40\n",
            "8/8 [==============================] - 45s 6s/step - loss: 0.8220 - accuracy: 0.4723 - val_loss: 0.6850 - val_accuracy: 0.5341\n",
            "Epoch 3/40\n",
            "8/8 [==============================] - 45s 6s/step - loss: 0.7778 - accuracy: 0.5206 - val_loss: 0.6844 - val_accuracy: 0.5341\n",
            "Epoch 4/40\n",
            "8/8 [==============================] - 47s 6s/step - loss: 0.7741 - accuracy: 0.4965 - val_loss: 0.6848 - val_accuracy: 0.5114\n",
            "Epoch 5/40\n",
            "8/8 [==============================] - 46s 6s/step - loss: 0.7761 - accuracy: 0.5092 - val_loss: 0.6852 - val_accuracy: 0.5284\n",
            "Epoch 6/40\n",
            "8/8 [==============================] - 45s 6s/step - loss: 0.7809 - accuracy: 0.4965 - val_loss: 0.6859 - val_accuracy: 0.5170\n",
            "Epoch 7/40\n",
            "8/8 [==============================] - 46s 6s/step - loss: 0.7814 - accuracy: 0.4809 - val_loss: 0.6861 - val_accuracy: 0.5227\n",
            "Epoch 8/40\n",
            "8/8 [==============================] - 47s 6s/step - loss: 0.7762 - accuracy: 0.4936 - val_loss: 0.6866 - val_accuracy: 0.5284\n",
            "Fold 5 Validation Accuracy: 0.5249\n"
          ]
        }
      ]
    },
    {
      "cell_type": "markdown",
      "metadata": {
        "id": "AqqmUprGDQ2_"
      },
      "source": [
        "#### The model loss and accuracy on test data."
      ]
    },
    {
      "cell_type": "code",
      "execution_count": 17,
      "metadata": {
        "id": "eRkFGiT6DQ2_",
        "colab": {
          "base_uri": "https://localhost:8080/"
        },
        "outputId": "bb030b75-480b-43b3-b141-c52f41fd2da3"
      },
      "outputs": [
        {
          "output_type": "stream",
          "name": "stdout",
          "text": [
            "Number of images in x_test 221\n",
            "7/7 [==============================] - 10s 1s/step - loss: 0.6890 - accuracy: 0.5656\n"
          ]
        },
        {
          "output_type": "execute_result",
          "data": {
            "text/plain": [
              "[0.6890151500701904, 0.5656108856201172]"
            ]
          },
          "metadata": {},
          "execution_count": 17
        }
      ],
      "source": [
        "#x_test = X_test.reshape(X_test.shape[0],145,121,3)\n",
        "x_test = x_test.astype('float32')\n",
        "    # Normalizing the RGB codes by dividing it to the max RGB value.\n",
        "print('Number of images in x_test', x_test.shape[0])\n",
        "model.evaluate(x_test,y_test)\n"
      ]
    },
    {
      "cell_type": "code",
      "source": [
        "# Plot the training and validation accuracy for each epoch\n",
        "plt.plot(history.history['accuracy'])\n",
        "plt.plot(history.history['val_accuracy'])\n",
        "plt.title(f'Fold {fold+1} Model Accuracy')\n",
        "plt.ylabel('Accuracy')\n",
        "plt.xlabel('Epoch')\n",
        "plt.legend(['train', 'val'], loc='upper left')\n",
        "plt.show()"
      ],
      "metadata": {
        "id": "8GaX31Q7izKl",
        "colab": {
          "base_uri": "https://localhost:8080/",
          "height": 472
        },
        "outputId": "7dc0953a-6ba4-4a12-b9ae-085e99d3c60b"
      },
      "execution_count": 18,
      "outputs": [
        {
          "output_type": "display_data",
          "data": {
            "text/plain": [
              "<Figure size 640x480 with 1 Axes>"
            ],
            "image/png": "[encoded data removed]"
          },
          "metadata": {}
        }
      ]
    }
  ],
  "metadata": {
    "kernelspec": {
      "display_name": "Python 3",
      "language": "python",
      "name": "python3"
    },
    "language_info": {
      "codemirror_mode": {
        "name": "ipython",
        "version": 3
      },
      "file_extension": ".py",
      "mimetype": "text/x-python",
      "name": "python",
      "nbconvert_exporter": "python",
      "pygments_lexer": "ipython3",
      "version": "3.5.2"
    },
    "colab": {
      "provenance": [],
      "collapsed_sections": [
        "aQ65HwbuDQ2w"
      ],
      "include_colab_link": true
    }
  },
  "nbformat": 4,
  "nbformat_minor": 0
}